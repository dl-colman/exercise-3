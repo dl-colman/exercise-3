{
  "cells": [
    {
      "cell_type": "markdown",
      "source": [
        "# Transfer Learning from MobileNet - Exercise\n",
        "[IMAGENET 1000 Class List\n",
        "](https://deeplearning.cms.waikato.ac.nz/user-guide/class-maps/IMAGENET/)"
      ],
      "metadata": {
        "id": "PoJXPIaNUyqb"
      }
    },
    {
      "cell_type": "markdown",
      "source": [
        "## Importing the libraries"
      ],
      "metadata": {
        "id": "tOYcmdnbVJQp"
      }
    },
    {
      "cell_type": "code",
      "execution_count": 33,
      "metadata": {
        "id": "kHUXogFSClTm"
      },
      "outputs": [],
      "source": [
        "import tensorflow as tf\n",
        "import pandas as pd\n",
        "import numpy as np\n",
        "import os\n",
        "import keras\n",
        "import matplotlib.pyplot as plt\n",
        "from keras.layers import Dense,GlobalAveragePooling2D\n",
        "from tensorflow.keras.applications.mobilenet import MobileNet\n",
        "from keras.preprocessing import image\n",
        "from tensorflow.keras.applications.mobilenet import preprocess_input\n",
        "from keras.preprocessing.image import ImageDataGenerator\n",
        "from keras.models import Model\n",
        "from tensorflow.keras.optimizers import Adam"
      ]
    },
    {
      "cell_type": "markdown",
      "source": [
        "## Imports The MobileNet Model\n",
        "Imports the mobilenet model and **discards the last 1000 neuron layer**."
      ],
      "metadata": {
        "id": "ZPVDDefJVe3t"
      }
    },
    {
      "cell_type": "code",
      "execution_count": 34,
      "metadata": {
        "colab": {
          "base_uri": "https://localhost:8080/"
        },
        "id": "tpvf3og-ClTw",
        "outputId": "7c6c7306-5070-41b5-956b-187f13dd650d",
        "pycharm": {
          "is_executing": true
        }
      },
      "outputs": [
        {
          "output_type": "stream",
          "name": "stderr",
          "text": [
            "WARNING:tensorflow:`input_shape` is undefined or non-square, or `rows` is not in [128, 160, 192, 224]. Weights for input shape (224, 224) will be loaded as the default.\n"
          ]
        }
      ],
      "source": [
        "base_model=MobileNet(weights='imagenet',include_top=False) "
      ]
    },
    {
      "cell_type": "markdown",
      "source": [
        "## Add layers of our own\n",
        "We add dense layers so that the model can learn more complex functions and classify for better results. "
      ],
      "metadata": {
        "id": "2JTGwAqLlWQd"
      }
    },
    {
      "cell_type": "code",
      "source": [
        "x=base_model.output\n",
        "x=GlobalAveragePooling2D()(x)\n",
        "x=Dense(1024,activation='relu')(x)\n",
        "x=Dense(1024,activation='relu')(x) \n",
        "x=Dense(512,activation='relu')(x) \n",
        "preds=Dense(1,activation='sigmoid')(x) \n"
      ],
      "metadata": {
        "id": "WA2r43ZfV6b-"
      },
      "execution_count": 35,
      "outputs": []
    },
    {
      "cell_type": "markdown",
      "source": [
        "*   Specify the inputs\n",
        "*   Specify the outputs\n",
        "\n",
        "Now a model has been created based on our architecture 🏆"
      ],
      "metadata": {
        "id": "ICENQvZBmArH"
      }
    },
    {
      "cell_type": "code",
      "execution_count": 36,
      "metadata": {
        "id": "_-OuzkphClTy"
      },
      "outputs": [],
      "source": [
        "model=Model(inputs=base_model.input,outputs=preds)"
      ]
    },
    {
      "cell_type": "markdown",
      "source": [
        "Layers & models also feature a boolean attribute `trainable`. Its value can be changed.\n",
        "Setting `layer.trainable` to `False` moves all the layer's weights from trainable to\n",
        "non-trainable.  This is called \"freezing\" the layer: the state of a frozen layer won't\n",
        "be updated during training (either when training with `fit()` or when training with\n",
        " any custom loop that relies on `trainable_weights` to apply gradient updates).<br> \n",
        " When a trainable weight becomes non-trainable, its value is no longer updated during\n",
        " training.\n",
        "\n",
        "**Example: setting `trainable` to `False`**<br><br>\n",
        "**Very Importent** : The setting of `trainable` are **Recursive** <br>\n",
        "If you set `trainable = False` on a model or on any layer that has sublayers,\n",
        "all children layers become non-trainable as well.\n"
      ],
      "metadata": {
        "id": "TUGUOq--msLT"
      }
    },
    {
      "cell_type": "code",
      "execution_count": 37,
      "metadata": {
        "id": "R2ucMP1yClTz"
      },
      "outputs": [],
      "source": [
        "for layer in model.layers[:-4]:\n",
        "    layer.trainable=False"
      ]
    },
    {
      "cell_type": "markdown",
      "source": [
        "## Data Preprocessing\n"
      ],
      "metadata": {
        "id": "7jue9K7Tn6co"
      }
    },
    {
      "cell_type": "markdown",
      "source": [
        "### Download the dataset"
      ],
      "metadata": {
        "id": "LKsTik2FX_Eg"
      }
    },
    {
      "cell_type": "code",
      "source": [
        "(x_train, y_train), (x_test, y_test) = tf.keras.datasets.cifar10.load_data()\n",
        "x_train.shape == (50000, 32, 32, 3)\n",
        "x_test.shape == (10000, 32, 32, 3)\n",
        "y_train.shape == (50000, 1)\n",
        "y_test.shape == (10000, 1)"
      ],
      "metadata": {
        "colab": {
          "base_uri": "https://localhost:8080/"
        },
        "id": "14nkLB1OX8Wq",
        "outputId": "b8709c4d-6043-48e8-f419-7e302cf1e9a6"
      },
      "execution_count": 38,
      "outputs": [
        {
          "output_type": "execute_result",
          "data": {
            "text/plain": [
              "True"
            ]
          },
          "metadata": {},
          "execution_count": 38
        }
      ]
    },
    {
      "cell_type": "markdown",
      "source": [
        "Selected idexes for two classes (aircraft = 0, ship = 8)"
      ],
      "metadata": {
        "id": "s_sRZ9PiYE_X"
      }
    },
    {
      "cell_type": "code",
      "source": [
        "index_train = np.where((y_train == 0) | (y_train == 8))\n",
        "index_test = np.where((y_test == 0) | (y_test == 8))"
      ],
      "metadata": {
        "id": "Gcu_u9WLYF9N"
      },
      "execution_count": 39,
      "outputs": []
    },
    {
      "cell_type": "markdown",
      "source": [
        "We will extract the two desired classes by their indexes\n",
        "\n"
      ],
      "metadata": {
        "id": "cFsk1WKMYPv6"
      }
    },
    {
      "cell_type": "code",
      "source": [
        "x_train = x_train[index_train[0],:]\n",
        "y_train = y_train[index_train[0]]\n",
        "x_test = x_test[index_test[0],:]\n",
        "y_test = y_test[index_test[0]]"
      ],
      "metadata": {
        "id": "a49UbhtBYQVM"
      },
      "execution_count": 40,
      "outputs": []
    },
    {
      "cell_type": "markdown",
      "source": [
        "Change all labels from 8 to 1 (aircraft = 0, ship = 1)"
      ],
      "metadata": {
        "id": "bc4pPkxLYWdd"
      }
    },
    {
      "cell_type": "code",
      "source": [
        "y_train[y_train == 8] = 1\n",
        "y_test[y_test == 8] = 1"
      ],
      "metadata": {
        "id": "dcMVlwSEYV8u"
      },
      "execution_count": 41,
      "outputs": []
    },
    {
      "cell_type": "markdown",
      "source": [
        "The current shape of the data set:\n",
        "\n"
      ],
      "metadata": {
        "id": "X-ZUM5QZYcYV"
      }
    },
    {
      "cell_type": "code",
      "source": [
        "print(f'x_train: {x_train.shape}\\ny_train: {y_train.shape}\\nx_test: {x_test.shape}\\ny_testn: {y_test.shape}')\n",
        "plt.imshow(x_train[0], cmap = plt.cm.binary)\n",
        "plt.axis(\"off\")\n",
        "plt.show()\n",
        "y_train[0][0]"
      ],
      "metadata": {
        "colab": {
          "base_uri": "https://localhost:8080/",
          "height": 340
        },
        "id": "MedNw4SnYdCa",
        "outputId": "b6605bdb-68d2-4a59-d569-3a8340b61d61"
      },
      "execution_count": 42,
      "outputs": [
        {
          "output_type": "stream",
          "name": "stdout",
          "text": [
            "x_train: (10000, 32, 32, 3)\n",
            "y_train: (10000, 1)\n",
            "x_test: (2000, 32, 32, 3)\n",
            "y_testn: (2000, 1)\n"
          ]
        },
        {
          "output_type": "display_data",
          "data": {
            "text/plain": [
              "<Figure size 432x288 with 1 Axes>"
            ],
            "image/png": "[encoded data removed]"
          },
          "metadata": {
            "needs_background": "light"
          }
        },
        {
          "output_type": "execute_result",
          "data": {
            "text/plain": [
              "1"
            ]
          },
          "metadata": {},
          "execution_count": 42
        }
      ]
    },
    {
      "cell_type": "markdown",
      "source": [
        "### Data Generator"
      ],
      "metadata": {
        "id": "TPM8AsIG69q1"
      }
    },
    {
      "cell_type": "markdown",
      "source": [
        "Because the original image size is (32,32,3) so we need to adjust the size to (224,224,3)"
      ],
      "metadata": {
        "id": "FFeRpeWI7Jx6"
      }
    },
    {
      "cell_type": "code",
      "source": [
        "def change_to_224X224(images):\n",
        "  return tf.image.resize(\n",
        "    images=images,\n",
        "    size=(224,224),\n",
        "    preserve_aspect_ratio=False,\n",
        "    antialias=False,\n",
        "    name=None\n",
        ")"
      ],
      "metadata": {
        "id": "K7FD-h223OsL"
      },
      "execution_count": 43,
      "outputs": []
    },
    {
      "cell_type": "code",
      "execution_count": 44,
      "metadata": {
        "id": "3bv1LRMSClT0",
        "pycharm": {
          "is_executing": true
        }
      },
      "outputs": [],
      "source": [
        "train_datagen=ImageDataGenerator(preprocessing_function=preprocess_input) #included in our dependencies\n",
        "\n",
        "train_generator=train_datagen.flow(x=change_to_224X224(x_train), y=y_train, batch_size = 32)"
      ]
    },
    {
      "cell_type": "code",
      "source": [
        "test_datagen = ImageDataGenerator(preprocessing_function=preprocess_input) \n",
        "test_set = test_datagen.flow(x=change_to_224X224(x_test), y=y_test, batch_size = 32)"
      ],
      "metadata": {
        "id": "T1sP6J9-ycWn"
      },
      "execution_count": 45,
      "outputs": []
    },
    {
      "cell_type": "markdown",
      "source": [
        "## Compiling the NN"
      ],
      "metadata": {
        "id": "7QRZcd8ft5x2"
      }
    },
    {
      "cell_type": "code",
      "source": [
        "model.compile(optimizer='Adam',loss='binary_crossentropy',metrics=['accuracy'])"
      ],
      "metadata": {
        "id": "Ufe_XsaJt7qr"
      },
      "execution_count": 46,
      "outputs": []
    },
    {
      "cell_type": "markdown",
      "source": [
        "## Training"
      ],
      "metadata": {
        "id": "IFw3lz5dognA"
      }
    },
    {
      "cell_type": "code",
      "execution_count": 47,
      "metadata": {
        "colab": {
          "base_uri": "https://localhost:8080/"
        },
        "id": "Tti3-t45ClT2",
        "outputId": "5abc0164-e692-4518-bef3-624ecd15a5c8",
        "pycharm": {
          "is_executing": true
        }
      },
      "outputs": [
        {
          "output_type": "stream",
          "name": "stdout",
          "text": [
            "Epoch 1/10\n"
          ]
        },
        {
          "output_type": "stream",
          "name": "stderr",
          "text": [
            "<ipython-input-47-e983888a9b6a>:2: UserWarning: `Model.fit_generator` is deprecated and will be removed in a future version. Please use `Model.fit`, which supports generators.\n",
            "  history = model.fit_generator(generator=train_generator, validation_data = test_set, steps_per_epoch=step_size_train, epochs=10)\n"
          ]
        },
        {
          "output_type": "stream",
          "name": "stdout",
          "text": [
            "312/312 [==============================] - 15s 44ms/step - loss: 0.1934 - accuracy: 0.9230 - val_loss: 0.1204 - val_accuracy: 0.9525\n",
            "Epoch 2/10\n",
            "312/312 [==============================] - 13s 42ms/step - loss: 0.1020 - accuracy: 0.9634 - val_loss: 0.1491 - val_accuracy: 0.9465\n",
            "Epoch 3/10\n",
            "312/312 [==============================] - 13s 42ms/step - loss: 0.0797 - accuracy: 0.9717 - val_loss: 0.1153 - val_accuracy: 0.9560\n",
            "Epoch 4/10\n",
            "312/312 [==============================] - 13s 42ms/step - loss: 0.0685 - accuracy: 0.9746 - val_loss: 0.0910 - val_accuracy: 0.9615\n",
            "Epoch 5/10\n",
            "312/312 [==============================] - 13s 42ms/step - loss: 0.0554 - accuracy: 0.9795 - val_loss: 0.1309 - val_accuracy: 0.9515\n",
            "Epoch 6/10\n",
            "312/312 [==============================] - 13s 42ms/step - loss: 0.0486 - accuracy: 0.9826 - val_loss: 0.1155 - val_accuracy: 0.9590\n",
            "Epoch 7/10\n",
            "312/312 [==============================] - 13s 43ms/step - loss: 0.0452 - accuracy: 0.9826 - val_loss: 0.0920 - val_accuracy: 0.9660\n",
            "Epoch 8/10\n",
            "312/312 [==============================] - 13s 43ms/step - loss: 0.0331 - accuracy: 0.9885 - val_loss: 0.0952 - val_accuracy: 0.9655\n",
            "Epoch 9/10\n",
            "312/312 [==============================] - 13s 43ms/step - loss: 0.0289 - accuracy: 0.9889 - val_loss: 0.1489 - val_accuracy: 0.9625\n",
            "Epoch 10/10\n",
            "312/312 [==============================] - 13s 42ms/step - loss: 0.0242 - accuracy: 0.9910 - val_loss: 0.1458 - val_accuracy: 0.9635\n"
          ]
        }
      ],
      "source": [
        "step_size_train=train_generator.n//train_generator.batch_size\n",
        "history = model.fit_generator(generator=train_generator, validation_data = test_set, steps_per_epoch=step_size_train, epochs=10)"
      ]
    },
    {
      "cell_type": "code",
      "source": [
        "model.summary()"
      ],
      "metadata": {
        "id": "W2nQpMzNFLgY",
        "colab": {
          "base_uri": "https://localhost:8080/"
        },
        "outputId": "554f7553-ccdd-4d9b-fcdd-d4d757303041",
        "pycharm": {
          "is_executing": true
        }
      },
      "execution_count": 48,
      "outputs": [
        {
          "output_type": "stream",
          "name": "stdout",
          "text": [
            "Model: \"model_1\"\n",
            "_________________________________________________________________\n",
            " Layer (type)                Output Shape              Param #   \n",
            "=================================================================\n",
            " input_3 (InputLayer)        [(None, None, None, 3)]   0         \n",
            "                                                                 \n",
            " conv1 (Conv2D)              (None, None, None, 32)    864       \n",
            "                                                                 \n",
            " conv1_bn (BatchNormalizatio  (None, None, None, 32)   128       \n",
            " n)                                                              \n",
            "                                                                 \n",
            " conv1_relu (ReLU)           (None, None, None, 32)    0         \n",
            "                                                                 \n",
            " conv_dw_1 (DepthwiseConv2D)  (None, None, None, 32)   288       \n",
            "                                                                 \n",
            " conv_dw_1_bn (BatchNormaliz  (None, None, None, 32)   128       \n",
            " ation)                                                          \n",
            "                                                                 \n",
            " conv_dw_1_relu (ReLU)       (None, None, None, 32)    0         \n",
            "                                                                 \n",
            " conv_pw_1 (Conv2D)          (None, None, None, 64)    2048      \n",
            "                                                                 \n",
            " conv_pw_1_bn (BatchNormaliz  (None, None, None, 64)   256       \n",
            " ation)                                                          \n",
            "                                                                 \n",
            " conv_pw_1_relu (ReLU)       (None, None, None, 64)    0         \n",
            "                                                                 \n",
            " conv_pad_2 (ZeroPadding2D)  (None, None, None, 64)    0         \n",
            "                                                                 \n",
            " conv_dw_2 (DepthwiseConv2D)  (None, None, None, 64)   576       \n",
            "                                                                 \n",
            " conv_dw_2_bn (BatchNormaliz  (None, None, None, 64)   256       \n",
            " ation)                                                          \n",
            "                                                                 \n",
            " conv_dw_2_relu (ReLU)       (None, None, None, 64)    0         \n",
            "                                                                 \n",
            " conv_pw_2 (Conv2D)          (None, None, None, 128)   8192      \n",
            "                                                                 \n",
            " conv_pw_2_bn (BatchNormaliz  (None, None, None, 128)  512       \n",
            " ation)                                                          \n",
            "                                                                 \n",
            " conv_pw_2_relu (ReLU)       (None, None, None, 128)   0         \n",
            "                                                                 \n",
            " conv_dw_3 (DepthwiseConv2D)  (None, None, None, 128)  1152      \n",
            "                                                                 \n",
            " conv_dw_3_bn (BatchNormaliz  (None, None, None, 128)  512       \n",
            " ation)                                                          \n",
            "                                                                 \n",
            " conv_dw_3_relu (ReLU)       (None, None, None, 128)   0         \n",
            "                                                                 \n",
            " conv_pw_3 (Conv2D)          (None, None, None, 128)   16384     \n",
            "                                                                 \n",
            " conv_pw_3_bn (BatchNormaliz  (None, None, None, 128)  512       \n",
            " ation)                                                          \n",
            "                                                                 \n",
            " conv_pw_3_relu (ReLU)       (None, None, None, 128)   0         \n",
            "                                                                 \n",
            " conv_pad_4 (ZeroPadding2D)  (None, None, None, 128)   0         \n",
            "                                                                 \n",
            " conv_dw_4 (DepthwiseConv2D)  (None, None, None, 128)  1152      \n",
            "                                                                 \n",
            " conv_dw_4_bn (BatchNormaliz  (None, None, None, 128)  512       \n",
            " ation)                                                          \n",
            "                                                                 \n",
            " conv_dw_4_relu (ReLU)       (None, None, None, 128)   0         \n",
            "                                                                 \n",
            " conv_pw_4 (Conv2D)          (None, None, None, 256)   32768     \n",
            "                                                                 \n",
            " conv_pw_4_bn (BatchNormaliz  (None, None, None, 256)  1024      \n",
            " ation)                                                          \n",
            "                                                                 \n",
            " conv_pw_4_relu (ReLU)       (None, None, None, 256)   0         \n",
            "                                                                 \n",
            " conv_dw_5 (DepthwiseConv2D)  (None, None, None, 256)  2304      \n",
            "                                                                 \n",
            " conv_dw_5_bn (BatchNormaliz  (None, None, None, 256)  1024      \n",
            " ation)                                                          \n",
            "                                                                 \n",
            " conv_dw_5_relu (ReLU)       (None, None, None, 256)   0         \n",
            "                                                                 \n",
            " conv_pw_5 (Conv2D)          (None, None, None, 256)   65536     \n",
            "                                                                 \n",
            " conv_pw_5_bn (BatchNormaliz  (None, None, None, 256)  1024      \n",
            " ation)                                                          \n",
            "                                                                 \n",
            " conv_pw_5_relu (ReLU)       (None, None, None, 256)   0         \n",
            "                                                                 \n",
            " conv_pad_6 (ZeroPadding2D)  (None, None, None, 256)   0         \n",
            "                                                                 \n",
            " conv_dw_6 (DepthwiseConv2D)  (None, None, None, 256)  2304      \n",
            "                                                                 \n",
            " conv_dw_6_bn (BatchNormaliz  (None, None, None, 256)  1024      \n",
            " ation)                                                          \n",
            "                                                                 \n",
            " conv_dw_6_relu (ReLU)       (None, None, None, 256)   0         \n",
            "                                                                 \n",
            " conv_pw_6 (Conv2D)          (None, None, None, 512)   131072    \n",
            "                                                                 \n",
            " conv_pw_6_bn (BatchNormaliz  (None, None, None, 512)  2048      \n",
            " ation)                                                          \n",
            "                                                                 \n",
            " conv_pw_6_relu (ReLU)       (None, None, None, 512)   0         \n",
            "                                                                 \n",
            " conv_dw_7 (DepthwiseConv2D)  (None, None, None, 512)  4608      \n",
            "                                                                 \n",
            " conv_dw_7_bn (BatchNormaliz  (None, None, None, 512)  2048      \n",
            " ation)                                                          \n",
            "                                                                 \n",
            " conv_dw_7_relu (ReLU)       (None, None, None, 512)   0         \n",
            "                                                                 \n",
            " conv_pw_7 (Conv2D)          (None, None, None, 512)   262144    \n",
            "                                                                 \n",
            " conv_pw_7_bn (BatchNormaliz  (None, None, None, 512)  2048      \n",
            " ation)                                                          \n",
            "                                                                 \n",
            " conv_pw_7_relu (ReLU)       (None, None, None, 512)   0         \n",
            "                                                                 \n",
            " conv_dw_8 (DepthwiseConv2D)  (None, None, None, 512)  4608      \n",
            "                                                                 \n",
            " conv_dw_8_bn (BatchNormaliz  (None, None, None, 512)  2048      \n",
            " ation)                                                          \n",
            "                                                                 \n",
            " conv_dw_8_relu (ReLU)       (None, None, None, 512)   0         \n",
            "                                                                 \n",
            " conv_pw_8 (Conv2D)          (None, None, None, 512)   262144    \n",
            "                                                                 \n",
            " conv_pw_8_bn (BatchNormaliz  (None, None, None, 512)  2048      \n",
            " ation)                                                          \n",
            "                                                                 \n",
            " conv_pw_8_relu (ReLU)       (None, None, None, 512)   0         \n",
            "                                                                 \n",
            " conv_dw_9 (DepthwiseConv2D)  (None, None, None, 512)  4608      \n",
            "                                                                 \n",
            " conv_dw_9_bn (BatchNormaliz  (None, None, None, 512)  2048      \n",
            " ation)                                                          \n",
            "                                                                 \n",
            " conv_dw_9_relu (ReLU)       (None, None, None, 512)   0         \n",
            "                                                                 \n",
            " conv_pw_9 (Conv2D)          (None, None, None, 512)   262144    \n",
            "                                                                 \n",
            " conv_pw_9_bn (BatchNormaliz  (None, None, None, 512)  2048      \n",
            " ation)                                                          \n",
            "                                                                 \n",
            " conv_pw_9_relu (ReLU)       (None, None, None, 512)   0         \n",
            "                                                                 \n",
            " conv_dw_10 (DepthwiseConv2D  (None, None, None, 512)  4608      \n",
            " )                                                               \n",
            "                                                                 \n",
            " conv_dw_10_bn (BatchNormali  (None, None, None, 512)  2048      \n",
            " zation)                                                         \n",
            "                                                                 \n",
            " conv_dw_10_relu (ReLU)      (None, None, None, 512)   0         \n",
            "                                                                 \n",
            " conv_pw_10 (Conv2D)         (None, None, None, 512)   262144    \n",
            "                                                                 \n",
            " conv_pw_10_bn (BatchNormali  (None, None, None, 512)  2048      \n",
            " zation)                                                         \n",
            "                                                                 \n",
            " conv_pw_10_relu (ReLU)      (None, None, None, 512)   0         \n",
            "                                                                 \n",
            " conv_dw_11 (DepthwiseConv2D  (None, None, None, 512)  4608      \n",
            " )                                                               \n",
            "                                                                 \n",
            " conv_dw_11_bn (BatchNormali  (None, None, None, 512)  2048      \n",
            " zation)                                                         \n",
            "                                                                 \n",
            " conv_dw_11_relu (ReLU)      (None, None, None, 512)   0         \n",
            "                                                                 \n",
            " conv_pw_11 (Conv2D)         (None, None, None, 512)   262144    \n",
            "                                                                 \n",
            " conv_pw_11_bn (BatchNormali  (None, None, None, 512)  2048      \n",
            " zation)                                                         \n",
            "                                                                 \n",
            " conv_pw_11_relu (ReLU)      (None, None, None, 512)   0         \n",
            "                                                                 \n",
            " conv_pad_12 (ZeroPadding2D)  (None, None, None, 512)  0         \n",
            "                                                                 \n",
            " conv_dw_12 (DepthwiseConv2D  (None, None, None, 512)  4608      \n",
            " )                                                               \n",
            "                                                                 \n",
            " conv_dw_12_bn (BatchNormali  (None, None, None, 512)  2048      \n",
            " zation)                                                         \n",
            "                                                                 \n",
            " conv_dw_12_relu (ReLU)      (None, None, None, 512)   0         \n",
            "                                                                 \n",
            " conv_pw_12 (Conv2D)         (None, None, None, 1024)  524288    \n",
            "                                                                 \n",
            " conv_pw_12_bn (BatchNormali  (None, None, None, 1024)  4096     \n",
            " zation)                                                         \n",
            "                                                                 \n",
            " conv_pw_12_relu (ReLU)      (None, None, None, 1024)  0         \n",
            "                                                                 \n",
            " conv_dw_13 (DepthwiseConv2D  (None, None, None, 1024)  9216     \n",
            " )                                                               \n",
            "                                                                 \n",
            " conv_dw_13_bn (BatchNormali  (None, None, None, 1024)  4096     \n",
            " zation)                                                         \n",
            "                                                                 \n",
            " conv_dw_13_relu (ReLU)      (None, None, None, 1024)  0         \n",
            "                                                                 \n",
            " conv_pw_13 (Conv2D)         (None, None, None, 1024)  1048576   \n",
            "                                                                 \n",
            " conv_pw_13_bn (BatchNormali  (None, None, None, 1024)  4096     \n",
            " zation)                                                         \n",
            "                                                                 \n",
            " conv_pw_13_relu (ReLU)      (None, None, None, 1024)  0         \n",
            "                                                                 \n",
            " global_average_pooling2d_2   (None, 1024)             0         \n",
            " (GlobalAveragePooling2D)                                        \n",
            "                                                                 \n",
            " dense_4 (Dense)             (None, 1024)              1049600   \n",
            "                                                                 \n",
            " dense_5 (Dense)             (None, 1024)              1049600   \n",
            "                                                                 \n",
            " dense_6 (Dense)             (None, 512)               524800    \n",
            "                                                                 \n",
            " dense_7 (Dense)             (None, 1)                 513       \n",
            "                                                                 \n",
            "=================================================================\n",
            "Total params: 5,853,377\n",
            "Trainable params: 2,624,513\n",
            "Non-trainable params: 3,228,864\n",
            "_________________________________________________________________\n"
          ]
        }
      ]
    },
    {
      "cell_type": "markdown",
      "source": [
        "## Visualization of the Loss\n"
      ],
      "metadata": {
        "id": "6w2P7sRD0GaA"
      }
    },
    {
      "cell_type": "code",
      "source": [
        "from matplotlib import pyplot as plt\n",
        "plt.plot(history.history['loss'])\n",
        "plt.title('model loss')\n",
        "plt.ylabel('loss')\n",
        "plt.xlabel('epoch')\n",
        "plt.legend(['train', 'val'], loc='upper left')\n",
        "plt.show()"
      ],
      "metadata": {
        "colab": {
          "base_uri": "https://localhost:8080/",
          "height": 295
        },
        "id": "2rER-BD30GvX",
        "outputId": "c7dd75e0-de9b-4ff3-bc3f-67e7e390b30d"
      },
      "execution_count": 57,
      "outputs": [
        {
          "output_type": "display_data",
          "data": {
            "text/plain": [
              "<Figure size 432x288 with 1 Axes>"
            ],
            "image/png": "[encoded data removed]"
          },
          "metadata": {
            "needs_background": "light"
          }
        }
      ]
    },
    {
      "cell_type": "code",
      "source": [
        "plt.plot(history.history['accuracy'])\n",
        "plt.title('model accuracy')\n",
        "plt.ylabel('accuracy')\n",
        "plt.xlabel('epoch')\n",
        "plt.legend(['train', 'val'], loc='upper left')\n",
        "plt.show()"
      ],
      "metadata": {
        "colab": {
          "base_uri": "https://localhost:8080/",
          "height": 295
        },
        "id": "MFeJ9JwZ0YgR",
        "outputId": "c86ef5e8-e90f-4605-9747-c159e3950ae7"
      },
      "execution_count": 58,
      "outputs": [
        {
          "output_type": "display_data",
          "data": {
            "text/plain": [
              "<Figure size 432x288 with 1 Axes>"
            ],
            "image/png": "[encoded data removed]"
          },
          "metadata": {
            "needs_background": "light"
          }
        }
      ]
    },
    {
      "cell_type": "markdown",
      "source": [
        "## Train's loss and accuracy"
      ],
      "metadata": {
        "id": "SRoW197L0vm_"
      }
    },
    {
      "cell_type": "code",
      "source": [
        "for key, val in history.history.items(): \n",
        "  print(f'{key} : {round(val[-1], 2)}')"
      ],
      "metadata": {
        "colab": {
          "base_uri": "https://localhost:8080/"
        },
        "id": "YxwEBLsK0wpE",
        "outputId": "9deea056-f776-4e6f-a488-488d45d80496"
      },
      "execution_count": 59,
      "outputs": [
        {
          "output_type": "stream",
          "name": "stdout",
          "text": [
            "loss : 0.02\n",
            "accuracy : 0.99\n",
            "val_loss : 0.15\n",
            "val_accuracy : 0.96\n"
          ]
        }
      ]
    },
    {
      "cell_type": "markdown",
      "source": [
        "## Let's see how MobileNet works without our model"
      ],
      "metadata": {
        "id": "RkPHl9ycTeTZ"
      }
    },
    {
      "cell_type": "code",
      "source": [
        "mobile = keras.applications.mobilenet.MobileNet()"
      ],
      "metadata": {
        "id": "dJJkCoxqStpX"
      },
      "execution_count": 52,
      "outputs": []
    },
    {
      "cell_type": "code",
      "source": [
        "import cv2\n",
        "from keras.applications.mobilenet import preprocess_input\n",
        "from keras.applications import imagenet_utils\n",
        "def prepare_image():\n",
        "    img = cv2.resize(x_test[0], dsize=(224, 224), interpolation=cv2.INTER_CUBIC)\n",
        "    img_array = keras.utils.img_to_array(img)\n",
        "    img_array_expanded_dims = np.expand_dims(img_array, axis=0)\n",
        "    plt.imshow(img)\n",
        "    return preprocess_input(img_array_expanded_dims)"
      ],
      "metadata": {
        "id": "cO83W6UtREzU"
      },
      "execution_count": 53,
      "outputs": []
    },
    {
      "cell_type": "code",
      "source": [
        "preprocessed_image = prepare_image()\n",
        "predictions = mobile.predict(preprocessed_image)\n",
        "results = imagenet_utils.decode_predictions(predictions)\n",
        "results"
      ],
      "metadata": {
        "colab": {
          "base_uri": "https://localhost:8080/",
          "height": 380
        },
        "id": "OTEUJIoTPlZx",
        "outputId": "ffa11baf-e899-42ec-91a7-53f01ce24231"
      },
      "execution_count": 54,
      "outputs": [
        {
          "output_type": "stream",
          "name": "stdout",
          "text": [
            "1/1 [==============================] - 0s 353ms/step\n"
          ]
        },
        {
          "output_type": "execute_result",
          "data": {
            "text/plain": [
              "[[('n04273569', 'speedboat', 0.4519848),\n",
              "  ('n03942813', 'ping-pong_ball', 0.0952355),\n",
              "  ('n02951358', 'canoe', 0.03381915),\n",
              "  ('n03400231', 'frying_pan', 0.026778534),\n",
              "  ('n03584829', 'iron', 0.026041957)]]"
            ]
          },
          "metadata": {},
          "execution_count": 54
        },
        {
          "output_type": "display_data",
          "data": {
            "text/plain": [
              "<Figure size 432x288 with 1 Axes>"
            ],
            "image/png": "[encoded data removed]"
          },
          "metadata": {
            "needs_background": "light"
          }
        }
      ]
    }
  ],
  "metadata": {
    "kernelspec": {
      "display_name": "Python 3",
      "language": "python",
      "name": "python3"
    },
    "language_info": {
      "codemirror_mode": {
        "name": "ipython",
        "version": 3
      },
      "file_extension": ".py",
      "mimetype": "text/x-python",
      "name": "python",
      "nbconvert_exporter": "python",
      "pygments_lexer": "ipython3",
      "version": "3.5.4"
    },
    "colab": {
      "provenance": [],
      "machine_shape": "hm"
    },
    "accelerator": "GPU",
    "gpuClass": "standard"
  },
  "nbformat": 4,
  "nbformat_minor": 0
}