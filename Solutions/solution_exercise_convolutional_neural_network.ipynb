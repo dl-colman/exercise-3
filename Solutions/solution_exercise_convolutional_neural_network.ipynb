{
  "cells": [
    {
      "cell_type": "markdown",
      "metadata": {
        "id": "3DR-eO17geWu"
      },
      "source": [
        "# Convolutional Neural Network Exercise"
      ]
    },
    {
      "cell_type": "markdown",
      "metadata": {
        "id": "EMefrVPCg-60"
      },
      "source": [
        "### Importing the libraries"
      ]
    },
    {
      "cell_type": "code",
      "execution_count": 115,
      "metadata": {
        "id": "sCV30xyVhFbE"
      },
      "outputs": [],
      "source": [
        "import tensorflow as tf\n",
        "from keras.preprocessing.image import ImageDataGenerator\n",
        "import numpy as np\n",
        "import matplotlib.pyplot as plt\n",
        "from keras import callbacks"
      ]
    },
    {
      "cell_type": "code",
      "execution_count": 116,
      "metadata": {
        "colab": {
          "base_uri": "https://localhost:8080/",
          "height": 36
        },
        "id": "FIleuCAjoFD8",
        "outputId": "5c97ea09-0b94-415e-86a8-ad2f7e6bf53d"
      },
      "outputs": [
        {
          "output_type": "execute_result",
          "data": {
            "text/plain": [
              "'2.9.2'"
            ],
            "application/vnd.google.colaboratory.intrinsic+json": {
              "type": "string"
            }
          },
          "metadata": {},
          "execution_count": 116
        }
      ],
      "source": [
        "tf.__version__"
      ]
    },
    {
      "cell_type": "markdown",
      "metadata": {
        "id": "oxQxCBWyoGPE"
      },
      "source": [
        "## Part 1 - Data Preprocessing"
      ]
    },
    {
      "cell_type": "markdown",
      "source": [
        "### Download the dataset"
      ],
      "metadata": {
        "id": "ydKE8w1RqKLT"
      }
    },
    {
      "cell_type": "code",
      "source": [
        "(x_train, y_train), (x_test, y_test) = tf.keras.datasets.cifar10.load_data()\n",
        "assert x_train.shape == (50000, 32, 32, 3)\n",
        "assert x_test.shape == (10000, 32, 32, 3)\n",
        "assert y_train.shape == (50000, 1)\n",
        "assert y_test.shape == (10000, 1)"
      ],
      "metadata": {
        "id": "e27o2YZ7p545"
      },
      "execution_count": 117,
      "outputs": []
    },
    {
      "cell_type": "markdown",
      "source": [
        "Selected idexes for two classes (aircraft = 0, ship = 8)"
      ],
      "metadata": {
        "id": "_9DKxB7swxMf"
      }
    },
    {
      "cell_type": "code",
      "source": [
        "index_train = np.where((y_train == 0) | (y_train == 8))\n",
        "index_test = np.where((y_test == 0) | (y_test == 8))"
      ],
      "metadata": {
        "id": "w6B0-nMTtqAE"
      },
      "execution_count": 118,
      "outputs": []
    },
    {
      "cell_type": "markdown",
      "source": [
        "We will extract the two desired classes by their indexes"
      ],
      "metadata": {
        "id": "N59bIMtaxHgV"
      }
    },
    {
      "cell_type": "code",
      "source": [
        "x_train = x_train[index_train[0],:]\n",
        "y_train = y_train[index_train[0]]\n",
        "x_test = x_test[index_test[0],:]\n",
        "y_test = y_test[index_test[0]]"
      ],
      "metadata": {
        "id": "o4MO4-qntG3s"
      },
      "execution_count": 119,
      "outputs": []
    },
    {
      "cell_type": "markdown",
      "source": [
        "Change all labels from 8 to 1 (aircraft = 0, ship = 1)"
      ],
      "metadata": {
        "id": "kvbL6Hn_6xrJ"
      }
    },
    {
      "cell_type": "code",
      "source": [
        "y_train[y_train == 8] = 1\n",
        "y_test[y_test == 8] = 1"
      ],
      "metadata": {
        "id": "Qs6eQCdk5dMl"
      },
      "execution_count": 120,
      "outputs": []
    },
    {
      "cell_type": "markdown",
      "source": [
        "The current shape of the data set:"
      ],
      "metadata": {
        "id": "8HmKkIZH3uu4"
      }
    },
    {
      "cell_type": "code",
      "source": [
        "print(f'x_train: {x_train.shape}\\ny_train: {y_train.shape}\\nx_test: {x_test.shape}\\ny_testn: {y_test.shape}')"
      ],
      "metadata": {
        "colab": {
          "base_uri": "https://localhost:8080/"
        },
        "id": "_wJADs2Ztz69",
        "outputId": "bc629b0e-bf84-49da-ee2e-c77349491eee"
      },
      "execution_count": 121,
      "outputs": [
        {
          "output_type": "stream",
          "name": "stdout",
          "text": [
            "x_train: (10000, 32, 32, 3)\n",
            "y_train: (10000, 1)\n",
            "x_test: (2000, 32, 32, 3)\n",
            "y_testn: (2000, 1)\n"
          ]
        }
      ]
    },
    {
      "cell_type": "code",
      "source": [
        "import matplotlib\n",
        "plt.imshow(x_train[0], cmap = matplotlib.cm.binary)\n",
        "plt.axis(\"off\")\n",
        "plt.show()\n",
        "y_train[0][0]"
      ],
      "metadata": {
        "colab": {
          "base_uri": "https://localhost:8080/",
          "height": 266
        },
        "id": "97He9fDpz4Vc",
        "outputId": "5f36e407-e1f0-43df-b21c-ed0ee991e114"
      },
      "execution_count": 122,
      "outputs": [
        {
          "output_type": "display_data",
          "data": {
            "text/plain": [
              "<Figure size 432x288 with 1 Axes>"
            ],
            "image/png": "[encoded data removed]"
          },
          "metadata": {
            "needs_background": "light"
          }
        },
        {
          "output_type": "execute_result",
          "data": {
            "text/plain": [
              "1"
            ]
          },
          "metadata": {},
          "execution_count": 122
        }
      ]
    },
    {
      "cell_type": "markdown",
      "metadata": {
        "id": "MvE-heJNo3GG"
      },
      "source": [
        "### Preprocessing the Training set"
      ]
    },
    {
      "cell_type": "code",
      "source": [
        "train_datagen = ImageDataGenerator(rescale = 1./255,\n",
        "                                   shear_range = 0.2,\n",
        "                                   zoom_range = 0.2,\n",
        "                                   horizontal_flip = True)\n",
        "training_set = train_datagen.flow(x=x_train, y=y_train, batch_size = 32)"
      ],
      "metadata": {
        "id": "h75QuFqf75JB"
      },
      "execution_count": 123,
      "outputs": []
    },
    {
      "cell_type": "markdown",
      "metadata": {
        "id": "mrCMmGw9pHys"
      },
      "source": [
        "### Preprocessing the Test set"
      ]
    },
    {
      "cell_type": "code",
      "source": [
        "test_datagen = ImageDataGenerator(rescale = 1./255)\n",
        "test_set = test_datagen.flow(x=x_test, y=y_test, batch_size = 32)"
      ],
      "metadata": {
        "id": "8qf590cJ9VtU"
      },
      "execution_count": 124,
      "outputs": []
    },
    {
      "cell_type": "markdown",
      "metadata": {
        "id": "af8O4l90gk7B"
      },
      "source": [
        "## Part 2 - Building the CNN"
      ]
    },
    {
      "cell_type": "markdown",
      "metadata": {
        "id": "ces1gXY2lmoX"
      },
      "source": [
        "### Initialising the CNN"
      ]
    },
    {
      "cell_type": "code",
      "source": [
        "cnn = tf.keras.models.Sequential()"
      ],
      "metadata": {
        "id": "XHzMhZTP9dZE"
      },
      "execution_count": 125,
      "outputs": []
    },
    {
      "cell_type": "markdown",
      "metadata": {
        "id": "u5YJj_XMl5LF"
      },
      "source": [
        "### Step 1 - Convolution"
      ]
    },
    {
      "cell_type": "code",
      "source": [
        "cnn.add(tf.keras.layers.Conv2D(filters=32, kernel_size=3, activation='relu', input_shape=[32, 32, 3]))"
      ],
      "metadata": {
        "id": "TcWLKHg19gf9"
      },
      "execution_count": 126,
      "outputs": []
    },
    {
      "cell_type": "markdown",
      "metadata": {
        "id": "tf87FpvxmNOJ"
      },
      "source": [
        "### Step 2 - Pooling"
      ]
    },
    {
      "cell_type": "code",
      "source": [
        "cnn.add(tf.keras.layers.MaxPool2D(pool_size=2, strides=2))"
      ],
      "metadata": {
        "id": "z5orvO1Z9hLl"
      },
      "execution_count": 127,
      "outputs": []
    },
    {
      "cell_type": "markdown",
      "metadata": {
        "id": "xaTOgD8rm4mU"
      },
      "source": [
        "### Adding a second convolutional layer"
      ]
    },
    {
      "cell_type": "code",
      "source": [
        "cnn.add(tf.keras.layers.Conv2D(filters=32, kernel_size=3, activation='relu'))\n",
        "cnn.add(tf.keras.layers.MaxPool2D(pool_size=2, strides=2))"
      ],
      "metadata": {
        "id": "CCdauR499jFM"
      },
      "execution_count": 128,
      "outputs": []
    },
    {
      "cell_type": "markdown",
      "metadata": {
        "id": "tmiEuvTunKfk"
      },
      "source": [
        "### Step 3 - Flattening"
      ]
    },
    {
      "cell_type": "code",
      "source": [
        "cnn.add(tf.keras.layers.Flatten())"
      ],
      "metadata": {
        "id": "Z2CO2RsQ9nRL"
      },
      "execution_count": 129,
      "outputs": []
    },
    {
      "cell_type": "markdown",
      "metadata": {
        "id": "dAoSECOm203v"
      },
      "source": [
        "### Step 4 - Fully Connected layers + Dropout"
      ]
    },
    {
      "cell_type": "code",
      "source": [
        "cnn.add(tf.keras.layers.Dense(units=128, activation='relu'))\n",
        "cnn.add(tf.keras.layers.Dropout(0.2))\n",
        "cnn.add(tf.keras.layers.Dense(units=64, activation='relu'))\n",
        "cnn.add(tf.keras.layers.Dropout(0.1))\n",
        "cnn.add(tf.keras.layers.Dense(units=32, activation='relu'))\n",
        "cnn.add(tf.keras.layers.Dropout(0.1))"
      ],
      "metadata": {
        "id": "66yVvbx79oHB"
      },
      "execution_count": 130,
      "outputs": []
    },
    {
      "cell_type": "markdown",
      "metadata": {
        "id": "yTldFvbX28Na"
      },
      "source": [
        "### Step 5 - Output Layer"
      ]
    },
    {
      "cell_type": "code",
      "source": [
        "cnn.add(tf.keras.layers.Dense(units=1, activation='sigmoid'))"
      ],
      "metadata": {
        "id": "fx2xURaT92kj"
      },
      "execution_count": 131,
      "outputs": []
    },
    {
      "cell_type": "code",
      "source": [
        "cnn.summary()"
      ],
      "metadata": {
        "colab": {
          "base_uri": "https://localhost:8080/"
        },
        "id": "zehnjyK296jU",
        "outputId": "6531dd1a-02e8-4c7b-c1e8-5d54df82a263"
      },
      "execution_count": 132,
      "outputs": [
        {
          "output_type": "stream",
          "name": "stdout",
          "text": [
            "Model: \"sequential_6\"\n",
            "_________________________________________________________________\n",
            " Layer (type)                Output Shape              Param #   \n",
            "=================================================================\n",
            " conv2d_12 (Conv2D)          (None, 30, 30, 32)        896       \n",
            "                                                                 \n",
            " max_pooling2d_12 (MaxPoolin  (None, 15, 15, 32)       0         \n",
            " g2D)                                                            \n",
            "                                                                 \n",
            " conv2d_13 (Conv2D)          (None, 13, 13, 32)        9248      \n",
            "                                                                 \n",
            " max_pooling2d_13 (MaxPoolin  (None, 6, 6, 32)         0         \n",
            " g2D)                                                            \n",
            "                                                                 \n",
            " flatten_6 (Flatten)         (None, 1152)              0         \n",
            "                                                                 \n",
            " dense_17 (Dense)            (None, 128)               147584    \n",
            "                                                                 \n",
            " dropout_12 (Dropout)        (None, 128)               0         \n",
            "                                                                 \n",
            " dense_18 (Dense)            (None, 64)                8256      \n",
            "                                                                 \n",
            " dropout_13 (Dropout)        (None, 64)                0         \n",
            "                                                                 \n",
            " dense_19 (Dense)            (None, 32)                2080      \n",
            "                                                                 \n",
            " dropout_14 (Dropout)        (None, 32)                0         \n",
            "                                                                 \n",
            " dense_20 (Dense)            (None, 1)                 33        \n",
            "                                                                 \n",
            "=================================================================\n",
            "Total params: 168,097\n",
            "Trainable params: 168,097\n",
            "Non-trainable params: 0\n",
            "_________________________________________________________________\n"
          ]
        }
      ]
    },
    {
      "cell_type": "markdown",
      "metadata": {
        "id": "D6XkI90snSDl"
      },
      "source": [
        "## Part 3 - Training the CNN"
      ]
    },
    {
      "cell_type": "markdown",
      "metadata": {
        "id": "vfrFQACEnc6i"
      },
      "source": [
        "### Compiling the CNN"
      ]
    },
    {
      "cell_type": "code",
      "source": [
        "cnn.compile(optimizer = 'adam', loss = 'binary_crossentropy', metrics = ['accuracy'])"
      ],
      "metadata": {
        "id": "2HOT1huK-FeZ"
      },
      "execution_count": 133,
      "outputs": []
    },
    {
      "cell_type": "markdown",
      "source": [
        "### Callback function initialization"
      ],
      "metadata": {
        "id": "Dw9OUyRKkWpw"
      }
    },
    {
      "cell_type": "code",
      "source": [
        "callback = callbacks.EarlyStopping(monitor='val_loss', patience=3)"
      ],
      "metadata": {
        "id": "BNOKNjCfkXI8"
      },
      "execution_count": 134,
      "outputs": []
    },
    {
      "cell_type": "markdown",
      "metadata": {
        "id": "ehS-v3MIpX2h"
      },
      "source": [
        "### Training the CNN on the Training set and evaluating it on the Test set"
      ]
    },
    {
      "cell_type": "code",
      "source": [
        "history = cnn.fit(x = training_set, validation_data = test_set, epochs = 100, callbacks=[callback])"
      ],
      "metadata": {
        "colab": {
          "base_uri": "https://localhost:8080/"
        },
        "id": "sa4RXHsJ-Hoi",
        "outputId": "d9e73c08-451e-4ef5-ba44-c714eda8aff5"
      },
      "execution_count": 135,
      "outputs": [
        {
          "output_type": "stream",
          "name": "stdout",
          "text": [
            "Epoch 1/100\n",
            "313/313 [==============================] - 7s 19ms/step - loss: 0.6041 - accuracy: 0.6686 - val_loss: 0.5138 - val_accuracy: 0.7640\n",
            "Epoch 2/100\n",
            "313/313 [==============================] - 6s 19ms/step - loss: 0.4724 - accuracy: 0.7843 - val_loss: 0.4747 - val_accuracy: 0.7765\n",
            "Epoch 3/100\n",
            "313/313 [==============================] - 6s 19ms/step - loss: 0.4026 - accuracy: 0.8212 - val_loss: 0.3672 - val_accuracy: 0.8445\n",
            "Epoch 4/100\n",
            "313/313 [==============================] - 6s 19ms/step - loss: 0.3558 - accuracy: 0.8479 - val_loss: 0.3648 - val_accuracy: 0.8440\n",
            "Epoch 5/100\n",
            "313/313 [==============================] - 6s 19ms/step - loss: 0.3217 - accuracy: 0.8648 - val_loss: 0.2836 - val_accuracy: 0.8845\n",
            "Epoch 6/100\n",
            "313/313 [==============================] - 6s 19ms/step - loss: 0.2947 - accuracy: 0.8774 - val_loss: 0.2829 - val_accuracy: 0.8830\n",
            "Epoch 7/100\n",
            "313/313 [==============================] - 6s 19ms/step - loss: 0.2886 - accuracy: 0.8796 - val_loss: 0.2620 - val_accuracy: 0.8935\n",
            "Epoch 8/100\n",
            "313/313 [==============================] - 6s 19ms/step - loss: 0.2672 - accuracy: 0.8871 - val_loss: 0.2507 - val_accuracy: 0.8970\n",
            "Epoch 9/100\n",
            "313/313 [==============================] - 6s 19ms/step - loss: 0.2504 - accuracy: 0.8969 - val_loss: 0.2537 - val_accuracy: 0.8960\n",
            "Epoch 10/100\n",
            "313/313 [==============================] - 6s 18ms/step - loss: 0.2419 - accuracy: 0.9015 - val_loss: 0.3832 - val_accuracy: 0.8525\n",
            "Epoch 11/100\n",
            "313/313 [==============================] - 6s 19ms/step - loss: 0.2371 - accuracy: 0.9045 - val_loss: 0.2288 - val_accuracy: 0.9100\n",
            "Epoch 12/100\n",
            "313/313 [==============================] - 6s 19ms/step - loss: 0.2219 - accuracy: 0.9111 - val_loss: 0.2248 - val_accuracy: 0.9090\n",
            "Epoch 13/100\n",
            "313/313 [==============================] - 6s 19ms/step - loss: 0.2070 - accuracy: 0.9184 - val_loss: 0.2317 - val_accuracy: 0.9065\n",
            "Epoch 14/100\n",
            "313/313 [==============================] - 6s 19ms/step - loss: 0.2114 - accuracy: 0.9138 - val_loss: 0.2214 - val_accuracy: 0.9100\n",
            "Epoch 15/100\n",
            "313/313 [==============================] - 6s 18ms/step - loss: 0.2010 - accuracy: 0.9202 - val_loss: 0.2157 - val_accuracy: 0.9095\n",
            "Epoch 16/100\n",
            "313/313 [==============================] - 6s 19ms/step - loss: 0.1912 - accuracy: 0.9221 - val_loss: 0.2211 - val_accuracy: 0.9110\n",
            "Epoch 17/100\n",
            "313/313 [==============================] - 6s 19ms/step - loss: 0.1864 - accuracy: 0.9265 - val_loss: 0.2169 - val_accuracy: 0.9105\n",
            "Epoch 18/100\n",
            "313/313 [==============================] - 6s 19ms/step - loss: 0.1827 - accuracy: 0.9276 - val_loss: 0.2018 - val_accuracy: 0.9240\n",
            "Epoch 19/100\n",
            "313/313 [==============================] - 6s 19ms/step - loss: 0.1799 - accuracy: 0.9267 - val_loss: 0.2073 - val_accuracy: 0.9215\n",
            "Epoch 20/100\n",
            "313/313 [==============================] - 6s 19ms/step - loss: 0.1670 - accuracy: 0.9366 - val_loss: 0.1976 - val_accuracy: 0.9205\n",
            "Epoch 21/100\n",
            "313/313 [==============================] - 6s 19ms/step - loss: 0.1654 - accuracy: 0.9337 - val_loss: 0.2254 - val_accuracy: 0.9205\n",
            "Epoch 22/100\n",
            "313/313 [==============================] - 6s 19ms/step - loss: 0.1583 - accuracy: 0.9368 - val_loss: 0.2107 - val_accuracy: 0.9180\n",
            "Epoch 23/100\n",
            "313/313 [==============================] - 6s 19ms/step - loss: 0.1521 - accuracy: 0.9405 - val_loss: 0.2184 - val_accuracy: 0.9225\n"
          ]
        }
      ]
    },
    {
      "cell_type": "markdown",
      "metadata": {
        "id": "U3PZasO0006Z"
      },
      "source": [
        "## Part 4 - Making a single prediction"
      ]
    },
    {
      "cell_type": "markdown",
      "source": [
        "## Visualization Loss and Accuracy\n"
      ],
      "metadata": {
        "collapsed": false,
        "pycharm": {
          "name": "#%% md\n"
        },
        "id": "xJsOWhOCp15Z"
      }
    },
    {
      "cell_type": "code",
      "execution_count": 136,
      "metadata": {
        "pycharm": {
          "is_executing": true,
          "name": "#%%\n"
        },
        "colab": {
          "base_uri": "https://localhost:8080/",
          "height": 295
        },
        "id": "GtNBalzlp15Z",
        "outputId": "33225c5a-3a3c-43f5-fa5f-64a3120ab4f9"
      },
      "outputs": [
        {
          "output_type": "display_data",
          "data": {
            "text/plain": [
              "<Figure size 432x288 with 1 Axes>"
            ],
            "image/png": "[encoded data removed]"
          },
          "metadata": {
            "needs_background": "light"
          }
        }
      ],
      "source": [
        "from matplotlib import pyplot as plt\n",
        "plt.plot(history.history['loss'])\n",
        "plt.plot(history.history['val_loss'])\n",
        "plt.title('model loss')\n",
        "plt.ylabel('loss')\n",
        "plt.xlabel('epoch')\n",
        "plt.legend(['train', 'val'], loc='upper left')\n",
        "plt.show()"
      ]
    },
    {
      "cell_type": "code",
      "source": [
        "plt.plot(history.history['accuracy'])\n",
        "plt.plot(history.history['val_accuracy'])\n",
        "plt.title('model accuracy')\n",
        "plt.ylabel('accuracy')\n",
        "plt.xlabel('epoch')\n",
        "plt.legend(['train', 'val'], loc='upper left')\n",
        "plt.show()"
      ],
      "metadata": {
        "colab": {
          "base_uri": "https://localhost:8080/",
          "height": 295
        },
        "id": "LnuAV9Ah-28q",
        "outputId": "1a20c844-e4f4-4a4b-bdcd-02737430bb61"
      },
      "execution_count": 137,
      "outputs": [
        {
          "output_type": "display_data",
          "data": {
            "text/plain": [
              "<Figure size 432x288 with 1 Axes>"
            ],
            "image/png": "[encoded data removed]"
          },
          "metadata": {
            "needs_background": "light"
          }
        }
      ]
    },
    {
      "cell_type": "markdown",
      "source": [
        "### Test and Metrics"
      ],
      "metadata": {
        "id": "WpOzbjxmrlwP"
      }
    },
    {
      "cell_type": "code",
      "source": [
        "y_pred = cnn.predict(x_test)\n",
        "y_pred = (y_pred > 0.5)"
      ],
      "metadata": {
        "colab": {
          "base_uri": "https://localhost:8080/"
        },
        "id": "eCX4v7YMpqRh",
        "outputId": "e8613e0d-abbd-43d4-8569-573953c274d7"
      },
      "execution_count": 138,
      "outputs": [
        {
          "output_type": "stream",
          "name": "stdout",
          "text": [
            "63/63 [==============================] - 0s 2ms/step\n"
          ]
        }
      ]
    },
    {
      "cell_type": "code",
      "source": [
        "from sklearn.metrics import confusion_matrix, accuracy_score\n",
        "\n",
        "cm = confusion_matrix(y_test, y_pred)\n",
        "print(cm)\n",
        "accuracy_score(y_test, y_pred)"
      ],
      "metadata": {
        "colab": {
          "base_uri": "https://localhost:8080/"
        },
        "id": "1tn0d4skpvUw",
        "outputId": "c860bf46-dcae-4d45-d42f-686f893f741d"
      },
      "execution_count": 139,
      "outputs": [
        {
          "output_type": "stream",
          "name": "stdout",
          "text": [
            "[[915  85]\n",
            " [172 828]]\n"
          ]
        },
        {
          "output_type": "execute_result",
          "data": {
            "text/plain": [
              "0.8715"
            ]
          },
          "metadata": {},
          "execution_count": 139
        }
      ]
    }
  ],
  "metadata": {
    "colab": {
      "provenance": [],
      "machine_shape": "hm"
    },
    "kernelspec": {
      "display_name": "Python 3 (ipykernel)",
      "language": "python",
      "name": "python3"
    },
    "language_info": {
      "codemirror_mode": {
        "name": "ipython",
        "version": 3
      },
      "file_extension": ".py",
      "mimetype": "text/x-python",
      "name": "python",
      "nbconvert_exporter": "python",
      "pygments_lexer": "ipython3",
      "version": "3.8.10"
    },
    "accelerator": "GPU",
    "gpuClass": "premium"
  },
  "nbformat": 4,
  "nbformat_minor": 0
}
