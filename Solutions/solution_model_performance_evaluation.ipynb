{
  "cells": [
    {
      "cell_type": "code",
      "source": [
        "from google.colab import drive\n",
        "drive.mount('/content/drive')"
      ],
      "metadata": {
        "colab": {
          "base_uri": "https://localhost:8080/"
        },
        "id": "jiVe4OXb4mnl",
        "outputId": "bff888ad-c2e5-465e-e4ef-f3a676e267ba"
      },
      "execution_count": 1,
      "outputs": [
        {
          "output_type": "stream",
          "name": "stdout",
          "text": [
            "Mounted at /content/drive\n"
          ]
        }
      ]
    },
    {
      "cell_type": "markdown",
      "metadata": {
        "id": "lP6JLo1tGNBg"
      },
      "source": [
        "# Artificial Neural Network"
      ]
    },
    {
      "cell_type": "markdown",
      "metadata": {
        "id": "gWZyYmS_UE_L"
      },
      "source": [
        "### Importing the libraries"
      ]
    },
    {
      "cell_type": "code",
      "execution_count": 18,
      "metadata": {
        "id": "MxkJoQBkUIHC"
      },
      "outputs": [],
      "source": [
        "import numpy as np\n",
        "import pandas as pd\n",
        "import tensorflow as tf\n",
        "import matplotlib.pyplot as plt"
      ]
    },
    {
      "cell_type": "code",
      "execution_count": 3,
      "metadata": {
        "colab": {
          "base_uri": "https://localhost:8080/",
          "height": 35
        },
        "id": "ZaTwK7ojXr2F",
        "outputId": "0f715433-511f-40c6-b652-9a51b46ade55",
        "pycharm": {
          "is_executing": true
        }
      },
      "outputs": [
        {
          "output_type": "execute_result",
          "data": {
            "text/plain": [
              "'2.9.2'"
            ],
            "application/vnd.google.colaboratory.intrinsic+json": {
              "type": "string"
            }
          },
          "metadata": {},
          "execution_count": 3
        }
      ],
      "source": [
        "tf.__version__"
      ]
    },
    {
      "cell_type": "markdown",
      "metadata": {
        "id": "1E0Q3aoKUCRX"
      },
      "source": [
        "## Part 1 - Data Preprocessing"
      ]
    },
    {
      "cell_type": "markdown",
      "metadata": {
        "id": "cKWAkFVGUU0Z"
      },
      "source": [
        "### Importing the dataset"
      ]
    },
    {
      "cell_type": "code",
      "execution_count": 4,
      "metadata": {
        "id": "MXUkhkMfU4wq",
        "colab": {
          "base_uri": "https://localhost:8080/",
          "height": 206
        },
        "outputId": "a37447d4-dba2-4d32-d392-75e0b35b298e"
      },
      "outputs": [
        {
          "output_type": "execute_result",
          "data": {
            "text/plain": [
              "   RowNumber  CustomerId   Surname  CreditScore Geography  Gender  Age  \\\n",
              "0          1    15634602  Hargrave          619    France  Female   42   \n",
              "1          2    15647311      Hill          608     Spain  Female   41   \n",
              "2          3    15619304      Onio          502    France  Female   42   \n",
              "3          4    15701354      Boni          699    France  Female   39   \n",
              "4          5    15737888  Mitchell          850     Spain  Female   43   \n",
              "\n",
              "   Tenure    Balance  NumOfProducts  HasCrCard  IsActiveMember  \\\n",
              "0       2       0.00              1          1               1   \n",
              "1       1   83807.86              1          0               1   \n",
              "2       8  159660.80              3          1               0   \n",
              "3       1       0.00              2          0               0   \n",
              "4       2  125510.82              1          1               1   \n",
              "\n",
              "   EstimatedSalary  Exited  \n",
              "0        101348.88       1  \n",
              "1        112542.58       0  \n",
              "2        113931.57       1  \n",
              "3         93826.63       0  \n",
              "4         79084.10       0  "
            ],
            "text/html": [
              "\n",
              "  <div id=\"df-96bc170b-ad81-45a3-a0d0-4435ce3f4cb2\">\n",
              "    <div class=\"colab-df-container\">\n",
              "      <div>\n",
              "<style scoped>\n",
              "    .dataframe tbody tr th:only-of-type {\n",
              "        vertical-align: middle;\n",
              "    }\n",
              "\n",
              "    .dataframe tbody tr th {\n",
              "        vertical-align: top;\n",
              "    }\n",
              "\n",
              "    .dataframe thead th {\n",
              "        text-align: right;\n",
              "    }\n",
              "</style>\n",
              "<table border=\"1\" class=\"dataframe\">\n",
              "  <thead>\n",
              "    <tr style=\"text-align: right;\">\n",
              "      <th></th>\n",
              "      <th>RowNumber</th>\n",
              "      <th>CustomerId</th>\n",
              "      <th>Surname</th>\n",
              "      <th>CreditScore</th>\n",
              "      <th>Geography</th>\n",
              "      <th>Gender</th>\n",
              "      <th>Age</th>\n",
              "      <th>Tenure</th>\n",
              "      <th>Balance</th>\n",
              "      <th>NumOfProducts</th>\n",
              "      <th>HasCrCard</th>\n",
              "      <th>IsActiveMember</th>\n",
              "      <th>EstimatedSalary</th>\n",
              "      <th>Exited</th>\n",
              "    </tr>\n",
              "  </thead>\n",
              "  <tbody>\n",
              "    <tr>\n",
              "      <th>0</th>\n",
              "      <td>1</td>\n",
              "      <td>15634602</td>\n",
              "      <td>Hargrave</td>\n",
              "      <td>619</td>\n",
              "      <td>France</td>\n",
              "      <td>Female</td>\n",
              "      <td>42</td>\n",
              "      <td>2</td>\n",
              "      <td>0.00</td>\n",
              "      <td>1</td>\n",
              "      <td>1</td>\n",
              "      <td>1</td>\n",
              "      <td>101348.88</td>\n",
              "      <td>1</td>\n",
              "    </tr>\n",
              "    <tr>\n",
              "      <th>1</th>\n",
              "      <td>2</td>\n",
              "      <td>15647311</td>\n",
              "      <td>Hill</td>\n",
              "      <td>608</td>\n",
              "      <td>Spain</td>\n",
              "      <td>Female</td>\n",
              "      <td>41</td>\n",
              "      <td>1</td>\n",
              "      <td>83807.86</td>\n",
              "      <td>1</td>\n",
              "      <td>0</td>\n",
              "      <td>1</td>\n",
              "      <td>112542.58</td>\n",
              "      <td>0</td>\n",
              "    </tr>\n",
              "    <tr>\n",
              "      <th>2</th>\n",
              "      <td>3</td>\n",
              "      <td>15619304</td>\n",
              "      <td>Onio</td>\n",
              "      <td>502</td>\n",
              "      <td>France</td>\n",
              "      <td>Female</td>\n",
              "      <td>42</td>\n",
              "      <td>8</td>\n",
              "      <td>159660.80</td>\n",
              "      <td>3</td>\n",
              "      <td>1</td>\n",
              "      <td>0</td>\n",
              "      <td>113931.57</td>\n",
              "      <td>1</td>\n",
              "    </tr>\n",
              "    <tr>\n",
              "      <th>3</th>\n",
              "      <td>4</td>\n",
              "      <td>15701354</td>\n",
              "      <td>Boni</td>\n",
              "      <td>699</td>\n",
              "      <td>France</td>\n",
              "      <td>Female</td>\n",
              "      <td>39</td>\n",
              "      <td>1</td>\n",
              "      <td>0.00</td>\n",
              "      <td>2</td>\n",
              "      <td>0</td>\n",
              "      <td>0</td>\n",
              "      <td>93826.63</td>\n",
              "      <td>0</td>\n",
              "    </tr>\n",
              "    <tr>\n",
              "      <th>4</th>\n",
              "      <td>5</td>\n",
              "      <td>15737888</td>\n",
              "      <td>Mitchell</td>\n",
              "      <td>850</td>\n",
              "      <td>Spain</td>\n",
              "      <td>Female</td>\n",
              "      <td>43</td>\n",
              "      <td>2</td>\n",
              "      <td>125510.82</td>\n",
              "      <td>1</td>\n",
              "      <td>1</td>\n",
              "      <td>1</td>\n",
              "      <td>79084.10</td>\n",
              "      <td>0</td>\n",
              "    </tr>\n",
              "  </tbody>\n",
              "</table>\n",
              "</div>\n",
              "      <button class=\"colab-df-convert\" onclick=\"convertToInteractive('df-96bc170b-ad81-45a3-a0d0-4435ce3f4cb2')\"\n",
              "              title=\"Convert this dataframe to an interactive table.\"\n",
              "              style=\"display:none;\">\n",
              "        \n",
              "  <svg xmlns=\"http://www.w3.org/2000/svg\" height=\"24px\"viewBox=\"0 0 24 24\"\n",
              "       width=\"24px\">\n",
              "    <path d=\"M0 0h24v24H0V0z\" fill=\"none\"/>\n",
              "    <path d=\"M18.56 5.44l.94 2.06.94-2.06 2.06-.94-2.06-.94-.94-2.06-.94 2.06-2.06.94zm-11 1L8.5 8.5l.94-2.06 2.06-.94-2.06-.94L8.5 2.5l-.94 2.06-2.06.94zm10 10l.94 2.06.94-2.06 2.06-.94-2.06-.94-.94-2.06-.94 2.06-2.06.94z\"/><path d=\"M17.41 7.96l-1.37-1.37c-.4-.4-.92-.59-1.43-.59-.52 0-1.04.2-1.43.59L10.3 9.45l-7.72 7.72c-.78.78-.78 2.05 0 2.83L4 21.41c.39.39.9.59 1.41.59.51 0 1.02-.2 1.41-.59l7.78-7.78 2.81-2.81c.8-.78.8-2.07 0-2.86zM5.41 20L4 18.59l7.72-7.72 1.47 1.35L5.41 20z\"/>\n",
              "  </svg>\n",
              "      </button>\n",
              "      \n",
              "  <style>\n",
              "    .colab-df-container {\n",
              "      display:flex;\n",
              "      flex-wrap:wrap;\n",
              "      gap: 12px;\n",
              "    }\n",
              "\n",
              "    .colab-df-convert {\n",
              "      background-color: #E8F0FE;\n",
              "      border: none;\n",
              "      border-radius: 50%;\n",
              "      cursor: pointer;\n",
              "      display: none;\n",
              "      fill: #1967D2;\n",
              "      height: 32px;\n",
              "      padding: 0 0 0 0;\n",
              "      width: 32px;\n",
              "    }\n",
              "\n",
              "    .colab-df-convert:hover {\n",
              "      background-color: #E2EBFA;\n",
              "      box-shadow: 0px 1px 2px rgba(60, 64, 67, 0.3), 0px 1px 3px 1px rgba(60, 64, 67, 0.15);\n",
              "      fill: #174EA6;\n",
              "    }\n",
              "\n",
              "    [theme=dark] .colab-df-convert {\n",
              "      background-color: #3B4455;\n",
              "      fill: #D2E3FC;\n",
              "    }\n",
              "\n",
              "    [theme=dark] .colab-df-convert:hover {\n",
              "      background-color: #434B5C;\n",
              "      box-shadow: 0px 1px 3px 1px rgba(0, 0, 0, 0.15);\n",
              "      filter: drop-shadow(0px 1px 2px rgba(0, 0, 0, 0.3));\n",
              "      fill: #FFFFFF;\n",
              "    }\n",
              "  </style>\n",
              "\n",
              "      <script>\n",
              "        const buttonEl =\n",
              "          document.querySelector('#df-96bc170b-ad81-45a3-a0d0-4435ce3f4cb2 button.colab-df-convert');\n",
              "        buttonEl.style.display =\n",
              "          google.colab.kernel.accessAllowed ? 'block' : 'none';\n",
              "\n",
              "        async function convertToInteractive(key) {\n",
              "          const element = document.querySelector('#df-96bc170b-ad81-45a3-a0d0-4435ce3f4cb2');\n",
              "          const dataTable =\n",
              "            await google.colab.kernel.invokeFunction('convertToInteractive',\n",
              "                                                     [key], {});\n",
              "          if (!dataTable) return;\n",
              "\n",
              "          const docLinkHtml = 'Like what you see? Visit the ' +\n",
              "            '<a target=\"_blank\" href=https://colab.research.google.com/notebooks/data_table.ipynb>data table notebook</a>'\n",
              "            + ' to learn more about interactive tables.';\n",
              "          element.innerHTML = '';\n",
              "          dataTable['output_type'] = 'display_data';\n",
              "          await google.colab.output.renderOutput(dataTable, element);\n",
              "          const docLink = document.createElement('div');\n",
              "          docLink.innerHTML = docLinkHtml;\n",
              "          element.appendChild(docLink);\n",
              "        }\n",
              "      </script>\n",
              "    </div>\n",
              "  </div>\n",
              "  "
            ]
          },
          "metadata": {},
          "execution_count": 4
        }
      ],
      "source": [
        "dataset = pd.read_csv('/content/drive/MyDrive/exercise-3/Model Performance Evaluation/Churn_Modelling.csv')\n",
        "X = dataset.iloc[:, 3:-1].values\n",
        "y = dataset.iloc[:, -1].values\n",
        "dataset.head()"
      ]
    },
    {
      "cell_type": "markdown",
      "metadata": {
        "id": "N6bQ0UgSU-NJ"
      },
      "source": [
        "### Encoding categorical data"
      ]
    },
    {
      "cell_type": "markdown",
      "metadata": {
        "id": "le5MJreAbW52"
      },
      "source": [
        "Label Encoding the \"Gender\" column"
      ]
    },
    {
      "cell_type": "code",
      "execution_count": 5,
      "metadata": {
        "id": "PxVKWXxLbczC"
      },
      "outputs": [],
      "source": [
        "from sklearn.preprocessing import LabelEncoder\n",
        "le = LabelEncoder()\n",
        "X[:, 2] = le.fit_transform(X[:, 2])"
      ]
    },
    {
      "cell_type": "code",
      "execution_count": 6,
      "metadata": {
        "colab": {
          "base_uri": "https://localhost:8080/"
        },
        "id": "-M1KboxFb6OO",
        "outputId": "a9cd9c4a-e4e9-4d1a-c29d-0682dd35b9bd",
        "pycharm": {
          "is_executing": true
        }
      },
      "outputs": [
        {
          "output_type": "stream",
          "name": "stdout",
          "text": [
            "[0 0 0 ... 0 1 0]\n"
          ]
        }
      ],
      "source": [
        "print(X[:, 2])"
      ]
    },
    {
      "cell_type": "markdown",
      "metadata": {
        "id": "CUxGZezpbMcb"
      },
      "source": [
        "One Hot Encoding the \"Geography\" column"
      ]
    },
    {
      "cell_type": "code",
      "execution_count": 7,
      "metadata": {
        "id": "AMXC8-KMVirw"
      },
      "outputs": [],
      "source": [
        "from sklearn.compose import ColumnTransformer\n",
        "from sklearn.preprocessing import OneHotEncoder\n",
        "ct = ColumnTransformer(transformers=[('encoder', OneHotEncoder(), [1])], remainder='passthrough')\n",
        "X = np.array(ct.fit_transform(X))"
      ]
    },
    {
      "cell_type": "code",
      "execution_count": 8,
      "metadata": {
        "colab": {
          "base_uri": "https://localhost:8080/"
        },
        "id": "ZcxwEon-b8nV",
        "outputId": "948f88ee-a47d-467e-adc8-58ce3c027fd6",
        "pycharm": {
          "is_executing": true
        }
      },
      "outputs": [
        {
          "output_type": "stream",
          "name": "stdout",
          "text": [
            "[0.0 0.0 0.0 ... 0.0 1.0 0.0]\n"
          ]
        }
      ],
      "source": [
        "print(X[:, 1])"
      ]
    },
    {
      "cell_type": "markdown",
      "metadata": {
        "id": "vHol938cW8zd"
      },
      "source": [
        "### Splitting the dataset into the Training set and Test set"
      ]
    },
    {
      "cell_type": "code",
      "execution_count": 9,
      "metadata": {
        "id": "Z-TDt0Y_XEfc"
      },
      "outputs": [],
      "source": [
        "from sklearn.model_selection import train_test_split\n",
        "X_train, X_test, y_train, y_test = train_test_split(X, y, test_size = 0.2, random_state = 0)"
      ]
    },
    {
      "cell_type": "markdown",
      "metadata": {
        "id": "RE_FcHyfV3TQ"
      },
      "source": [
        "### Feature Scaling"
      ]
    },
    {
      "cell_type": "code",
      "execution_count": 10,
      "metadata": {
        "id": "ViCrE00rV8Sk"
      },
      "outputs": [],
      "source": [
        "from sklearn.preprocessing import StandardScaler\n",
        "sc = StandardScaler()\n",
        "X_train = sc.fit_transform(X_train)\n",
        "X_test = sc.transform(X_test)"
      ]
    },
    {
      "cell_type": "markdown",
      "metadata": {
        "id": "-zfEzkRVXIwF"
      },
      "source": [
        "## Part 2 - Building the ANN"
      ]
    },
    {
      "cell_type": "markdown",
      "metadata": {
        "id": "KvdeScabXtlB"
      },
      "source": [
        "### Initializing the ANN"
      ]
    },
    {
      "cell_type": "code",
      "execution_count": 11,
      "metadata": {
        "id": "3dtrScHxXQox"
      },
      "outputs": [],
      "source": [
        "ann = tf.keras.models.Sequential()"
      ]
    },
    {
      "cell_type": "markdown",
      "metadata": {
        "id": "rP6urV6SX7kS"
      },
      "source": [
        "### Adding the input layer and the first hidden layer"
      ]
    },
    {
      "cell_type": "code",
      "execution_count": 12,
      "metadata": {
        "id": "bppGycBXYCQr"
      },
      "outputs": [],
      "source": [
        "ann.add(tf.keras.layers.Dense(units=6, activation='relu'))"
      ]
    },
    {
      "cell_type": "markdown",
      "metadata": {
        "id": "BELWAc_8YJze"
      },
      "source": [
        "### Adding the second hidden layer"
      ]
    },
    {
      "cell_type": "code",
      "execution_count": 13,
      "metadata": {
        "id": "JneR0u0sYRTd"
      },
      "outputs": [],
      "source": [
        "ann.add(tf.keras.layers.Dense(units=6, activation='relu'))"
      ]
    },
    {
      "cell_type": "markdown",
      "metadata": {
        "id": "OyNEe6RXYcU4"
      },
      "source": [
        "### Adding the output layer"
      ]
    },
    {
      "cell_type": "code",
      "execution_count": 14,
      "metadata": {
        "id": "Cn3x41RBYfvY"
      },
      "outputs": [],
      "source": [
        "ann.add(tf.keras.layers.Dense(units=1, activation='sigmoid'))"
      ]
    },
    {
      "cell_type": "markdown",
      "metadata": {
        "id": "JT4u2S1_Y4WG"
      },
      "source": [
        "## Part 3 - Training the ANN"
      ]
    },
    {
      "cell_type": "markdown",
      "metadata": {
        "id": "8GWlJChhY_ZI"
      },
      "source": [
        "### Compiling the ANN"
      ]
    },
    {
      "cell_type": "code",
      "execution_count": 15,
      "metadata": {
        "id": "fG3RrwDXZEaS"
      },
      "outputs": [],
      "source": [
        "ann.compile(optimizer = 'adam', loss = 'binary_crossentropy', metrics = ['accuracy'])"
      ]
    },
    {
      "cell_type": "markdown",
      "metadata": {
        "id": "0QR_G5u7ZLSM"
      },
      "source": [
        "### Training the ANN on the Training set"
      ]
    },
    {
      "cell_type": "code",
      "execution_count": 16,
      "metadata": {
        "colab": {
          "base_uri": "https://localhost:8080/"
        },
        "id": "nHZ-LKv_ZRb3",
        "outputId": "4b20e6cb-4db6-4432-ddd8-cd19c366faf6",
        "pycharm": {
          "is_executing": true
        }
      },
      "outputs": [
        {
          "output_type": "stream",
          "name": "stdout",
          "text": [
            "Epoch 1/100\n",
            "225/225 [==============================] - 1s 3ms/step - loss: 0.5685 - accuracy: 0.7418 - val_loss: 0.4921 - val_accuracy: 0.7950\n",
            "Epoch 2/100\n",
            "225/225 [==============================] - 0s 2ms/step - loss: 0.4749 - accuracy: 0.7961 - val_loss: 0.4577 - val_accuracy: 0.7950\n",
            "Epoch 3/100\n",
            "225/225 [==============================] - 0s 2ms/step - loss: 0.4542 - accuracy: 0.7961 - val_loss: 0.4416 - val_accuracy: 0.7950\n",
            "Epoch 4/100\n",
            "225/225 [==============================] - 0s 2ms/step - loss: 0.4435 - accuracy: 0.7961 - val_loss: 0.4325 - val_accuracy: 0.7950\n",
            "Epoch 5/100\n",
            "225/225 [==============================] - 0s 2ms/step - loss: 0.4373 - accuracy: 0.7961 - val_loss: 0.4263 - val_accuracy: 0.7950\n",
            "Epoch 6/100\n",
            "225/225 [==============================] - 0s 2ms/step - loss: 0.4331 - accuracy: 0.7961 - val_loss: 0.4231 - val_accuracy: 0.7950\n",
            "Epoch 7/100\n",
            "225/225 [==============================] - 0s 2ms/step - loss: 0.4304 - accuracy: 0.8001 - val_loss: 0.4198 - val_accuracy: 0.8125\n",
            "Epoch 8/100\n",
            "225/225 [==============================] - 1s 3ms/step - loss: 0.4284 - accuracy: 0.8082 - val_loss: 0.4174 - val_accuracy: 0.8125\n",
            "Epoch 9/100\n",
            "225/225 [==============================] - 1s 5ms/step - loss: 0.4262 - accuracy: 0.8133 - val_loss: 0.4154 - val_accuracy: 0.8150\n",
            "Epoch 10/100\n",
            "225/225 [==============================] - 1s 4ms/step - loss: 0.4244 - accuracy: 0.8149 - val_loss: 0.4136 - val_accuracy: 0.8150\n",
            "Epoch 11/100\n",
            "225/225 [==============================] - 1s 5ms/step - loss: 0.4225 - accuracy: 0.8167 - val_loss: 0.4121 - val_accuracy: 0.8213\n",
            "Epoch 12/100\n",
            "225/225 [==============================] - 1s 4ms/step - loss: 0.4205 - accuracy: 0.8188 - val_loss: 0.4105 - val_accuracy: 0.8275\n",
            "Epoch 13/100\n",
            "225/225 [==============================] - 1s 4ms/step - loss: 0.4185 - accuracy: 0.8228 - val_loss: 0.4077 - val_accuracy: 0.8288\n",
            "Epoch 14/100\n",
            "225/225 [==============================] - 1s 3ms/step - loss: 0.4156 - accuracy: 0.8232 - val_loss: 0.4047 - val_accuracy: 0.8375\n",
            "Epoch 15/100\n",
            "225/225 [==============================] - 0s 2ms/step - loss: 0.4094 - accuracy: 0.8265 - val_loss: 0.3968 - val_accuracy: 0.8400\n",
            "Epoch 16/100\n",
            "225/225 [==============================] - 0s 2ms/step - loss: 0.3987 - accuracy: 0.8376 - val_loss: 0.3880 - val_accuracy: 0.8462\n",
            "Epoch 17/100\n",
            "225/225 [==============================] - 0s 2ms/step - loss: 0.3876 - accuracy: 0.8449 - val_loss: 0.3802 - val_accuracy: 0.8450\n",
            "Epoch 18/100\n",
            "225/225 [==============================] - 0s 2ms/step - loss: 0.3784 - accuracy: 0.8481 - val_loss: 0.3724 - val_accuracy: 0.8537\n",
            "Epoch 19/100\n",
            "225/225 [==============================] - 0s 2ms/step - loss: 0.3710 - accuracy: 0.8510 - val_loss: 0.3655 - val_accuracy: 0.8525\n",
            "Epoch 20/100\n",
            "225/225 [==============================] - 0s 2ms/step - loss: 0.3649 - accuracy: 0.8547 - val_loss: 0.3613 - val_accuracy: 0.8537\n",
            "Epoch 21/100\n",
            "225/225 [==============================] - 0s 2ms/step - loss: 0.3600 - accuracy: 0.8553 - val_loss: 0.3549 - val_accuracy: 0.8587\n",
            "Epoch 22/100\n",
            "225/225 [==============================] - 0s 2ms/step - loss: 0.3559 - accuracy: 0.8560 - val_loss: 0.3528 - val_accuracy: 0.8587\n",
            "Epoch 23/100\n",
            "225/225 [==============================] - 0s 2ms/step - loss: 0.3533 - accuracy: 0.8565 - val_loss: 0.3476 - val_accuracy: 0.8600\n",
            "Epoch 24/100\n",
            "225/225 [==============================] - 0s 2ms/step - loss: 0.3515 - accuracy: 0.8590 - val_loss: 0.3454 - val_accuracy: 0.8587\n",
            "Epoch 25/100\n",
            "225/225 [==============================] - 0s 2ms/step - loss: 0.3496 - accuracy: 0.8586 - val_loss: 0.3442 - val_accuracy: 0.8650\n",
            "Epoch 26/100\n",
            "225/225 [==============================] - 0s 2ms/step - loss: 0.3479 - accuracy: 0.8575 - val_loss: 0.3412 - val_accuracy: 0.8637\n",
            "Epoch 27/100\n",
            "225/225 [==============================] - 0s 2ms/step - loss: 0.3475 - accuracy: 0.8586 - val_loss: 0.3403 - val_accuracy: 0.8625\n",
            "Epoch 28/100\n",
            "225/225 [==============================] - 0s 2ms/step - loss: 0.3467 - accuracy: 0.8593 - val_loss: 0.3398 - val_accuracy: 0.8625\n",
            "Epoch 29/100\n",
            "225/225 [==============================] - 0s 2ms/step - loss: 0.3460 - accuracy: 0.8604 - val_loss: 0.3394 - val_accuracy: 0.8650\n",
            "Epoch 30/100\n",
            "225/225 [==============================] - 0s 2ms/step - loss: 0.3453 - accuracy: 0.8610 - val_loss: 0.3378 - val_accuracy: 0.8612\n",
            "Epoch 31/100\n",
            "225/225 [==============================] - 0s 2ms/step - loss: 0.3448 - accuracy: 0.8611 - val_loss: 0.3365 - val_accuracy: 0.8600\n",
            "Epoch 32/100\n",
            "225/225 [==============================] - 0s 2ms/step - loss: 0.3445 - accuracy: 0.8606 - val_loss: 0.3363 - val_accuracy: 0.8612\n",
            "Epoch 33/100\n",
            "225/225 [==============================] - 0s 2ms/step - loss: 0.3440 - accuracy: 0.8615 - val_loss: 0.3366 - val_accuracy: 0.8637\n",
            "Epoch 34/100\n",
            "225/225 [==============================] - 0s 2ms/step - loss: 0.3435 - accuracy: 0.8615 - val_loss: 0.3371 - val_accuracy: 0.8675\n",
            "Epoch 35/100\n",
            "225/225 [==============================] - 0s 2ms/step - loss: 0.3434 - accuracy: 0.8610 - val_loss: 0.3342 - val_accuracy: 0.8687\n",
            "Epoch 36/100\n",
            "225/225 [==============================] - 0s 2ms/step - loss: 0.3432 - accuracy: 0.8614 - val_loss: 0.3338 - val_accuracy: 0.8687\n",
            "Epoch 37/100\n",
            "225/225 [==============================] - 0s 2ms/step - loss: 0.3426 - accuracy: 0.8612 - val_loss: 0.3344 - val_accuracy: 0.8662\n",
            "Epoch 38/100\n",
            "225/225 [==============================] - 0s 2ms/step - loss: 0.3421 - accuracy: 0.8615 - val_loss: 0.3330 - val_accuracy: 0.8662\n",
            "Epoch 39/100\n",
            "225/225 [==============================] - 0s 2ms/step - loss: 0.3424 - accuracy: 0.8615 - val_loss: 0.3317 - val_accuracy: 0.8700\n",
            "Epoch 40/100\n",
            "225/225 [==============================] - 0s 2ms/step - loss: 0.3417 - accuracy: 0.8604 - val_loss: 0.3317 - val_accuracy: 0.8662\n",
            "Epoch 41/100\n",
            "225/225 [==============================] - 0s 2ms/step - loss: 0.3417 - accuracy: 0.8628 - val_loss: 0.3311 - val_accuracy: 0.8675\n",
            "Epoch 42/100\n",
            "225/225 [==============================] - 0s 2ms/step - loss: 0.3415 - accuracy: 0.8608 - val_loss: 0.3303 - val_accuracy: 0.8712\n",
            "Epoch 43/100\n",
            "225/225 [==============================] - 0s 2ms/step - loss: 0.3413 - accuracy: 0.8626 - val_loss: 0.3298 - val_accuracy: 0.8700\n",
            "Epoch 44/100\n",
            "225/225 [==============================] - 0s 2ms/step - loss: 0.3407 - accuracy: 0.8635 - val_loss: 0.3305 - val_accuracy: 0.8662\n",
            "Epoch 45/100\n",
            "225/225 [==============================] - 0s 2ms/step - loss: 0.3408 - accuracy: 0.8604 - val_loss: 0.3300 - val_accuracy: 0.8662\n",
            "Epoch 46/100\n",
            "225/225 [==============================] - 0s 2ms/step - loss: 0.3408 - accuracy: 0.8621 - val_loss: 0.3299 - val_accuracy: 0.8662\n",
            "Epoch 47/100\n",
            "225/225 [==============================] - 0s 2ms/step - loss: 0.3406 - accuracy: 0.8617 - val_loss: 0.3290 - val_accuracy: 0.8700\n",
            "Epoch 48/100\n",
            "225/225 [==============================] - 0s 2ms/step - loss: 0.3402 - accuracy: 0.8626 - val_loss: 0.3296 - val_accuracy: 0.8675\n",
            "Epoch 49/100\n",
            "225/225 [==============================] - 0s 2ms/step - loss: 0.3402 - accuracy: 0.8624 - val_loss: 0.3291 - val_accuracy: 0.8725\n",
            "Epoch 50/100\n",
            "225/225 [==============================] - 0s 2ms/step - loss: 0.3401 - accuracy: 0.8622 - val_loss: 0.3300 - val_accuracy: 0.8700\n",
            "Epoch 51/100\n",
            "225/225 [==============================] - 0s 2ms/step - loss: 0.3400 - accuracy: 0.8629 - val_loss: 0.3303 - val_accuracy: 0.8712\n",
            "Epoch 52/100\n",
            "225/225 [==============================] - 0s 2ms/step - loss: 0.3401 - accuracy: 0.8628 - val_loss: 0.3295 - val_accuracy: 0.8737\n",
            "Epoch 53/100\n",
            "225/225 [==============================] - 0s 2ms/step - loss: 0.3399 - accuracy: 0.8615 - val_loss: 0.3295 - val_accuracy: 0.8700\n",
            "Epoch 54/100\n",
            "225/225 [==============================] - 0s 2ms/step - loss: 0.3396 - accuracy: 0.8632 - val_loss: 0.3292 - val_accuracy: 0.8737\n",
            "Epoch 55/100\n",
            "225/225 [==============================] - 0s 2ms/step - loss: 0.3399 - accuracy: 0.8636 - val_loss: 0.3285 - val_accuracy: 0.8687\n",
            "Epoch 56/100\n",
            "225/225 [==============================] - 0s 2ms/step - loss: 0.3395 - accuracy: 0.8633 - val_loss: 0.3286 - val_accuracy: 0.8675\n",
            "Epoch 57/100\n",
            "225/225 [==============================] - 0s 2ms/step - loss: 0.3397 - accuracy: 0.8633 - val_loss: 0.3276 - val_accuracy: 0.8700\n",
            "Epoch 58/100\n",
            "225/225 [==============================] - 0s 2ms/step - loss: 0.3394 - accuracy: 0.8624 - val_loss: 0.3278 - val_accuracy: 0.8687\n",
            "Epoch 59/100\n",
            "225/225 [==============================] - 0s 2ms/step - loss: 0.3393 - accuracy: 0.8629 - val_loss: 0.3273 - val_accuracy: 0.8712\n",
            "Epoch 60/100\n",
            "225/225 [==============================] - 0s 2ms/step - loss: 0.3394 - accuracy: 0.8639 - val_loss: 0.3288 - val_accuracy: 0.8675\n",
            "Epoch 61/100\n",
            "225/225 [==============================] - 0s 2ms/step - loss: 0.3394 - accuracy: 0.8636 - val_loss: 0.3273 - val_accuracy: 0.8675\n",
            "Epoch 62/100\n",
            "225/225 [==============================] - 0s 2ms/step - loss: 0.3393 - accuracy: 0.8626 - val_loss: 0.3275 - val_accuracy: 0.8712\n",
            "Epoch 63/100\n",
            "225/225 [==============================] - 0s 2ms/step - loss: 0.3392 - accuracy: 0.8632 - val_loss: 0.3282 - val_accuracy: 0.8675\n",
            "Epoch 64/100\n",
            "225/225 [==============================] - 0s 2ms/step - loss: 0.3389 - accuracy: 0.8633 - val_loss: 0.3295 - val_accuracy: 0.8675\n",
            "Epoch 65/100\n",
            "225/225 [==============================] - 0s 2ms/step - loss: 0.3389 - accuracy: 0.8653 - val_loss: 0.3270 - val_accuracy: 0.8687\n",
            "Epoch 66/100\n",
            "225/225 [==============================] - 0s 2ms/step - loss: 0.3392 - accuracy: 0.8643 - val_loss: 0.3282 - val_accuracy: 0.8662\n",
            "Epoch 67/100\n",
            "225/225 [==============================] - 0s 2ms/step - loss: 0.3391 - accuracy: 0.8622 - val_loss: 0.3272 - val_accuracy: 0.8687\n",
            "Epoch 68/100\n",
            "225/225 [==============================] - 0s 2ms/step - loss: 0.3389 - accuracy: 0.8636 - val_loss: 0.3275 - val_accuracy: 0.8725\n",
            "Epoch 69/100\n",
            "225/225 [==============================] - 0s 2ms/step - loss: 0.3386 - accuracy: 0.8631 - val_loss: 0.3280 - val_accuracy: 0.8737\n",
            "Epoch 70/100\n",
            "225/225 [==============================] - 0s 2ms/step - loss: 0.3388 - accuracy: 0.8631 - val_loss: 0.3289 - val_accuracy: 0.8712\n",
            "Epoch 71/100\n",
            "225/225 [==============================] - 0s 2ms/step - loss: 0.3389 - accuracy: 0.8653 - val_loss: 0.3280 - val_accuracy: 0.8662\n",
            "Epoch 72/100\n",
            "225/225 [==============================] - 0s 2ms/step - loss: 0.3390 - accuracy: 0.8651 - val_loss: 0.3273 - val_accuracy: 0.8700\n",
            "Epoch 73/100\n",
            "225/225 [==============================] - 0s 2ms/step - loss: 0.3386 - accuracy: 0.8631 - val_loss: 0.3283 - val_accuracy: 0.8737\n",
            "Epoch 74/100\n",
            "225/225 [==============================] - 0s 2ms/step - loss: 0.3389 - accuracy: 0.8629 - val_loss: 0.3278 - val_accuracy: 0.8737\n",
            "Epoch 75/100\n",
            "225/225 [==============================] - 0s 2ms/step - loss: 0.3386 - accuracy: 0.8633 - val_loss: 0.3271 - val_accuracy: 0.8725\n",
            "Epoch 76/100\n",
            "225/225 [==============================] - 0s 2ms/step - loss: 0.3384 - accuracy: 0.8643 - val_loss: 0.3296 - val_accuracy: 0.8637\n",
            "Epoch 77/100\n",
            "225/225 [==============================] - 0s 2ms/step - loss: 0.3390 - accuracy: 0.8643 - val_loss: 0.3277 - val_accuracy: 0.8712\n",
            "Epoch 78/100\n",
            "225/225 [==============================] - 0s 2ms/step - loss: 0.3386 - accuracy: 0.8654 - val_loss: 0.3273 - val_accuracy: 0.8750\n",
            "Epoch 79/100\n",
            "225/225 [==============================] - 0s 2ms/step - loss: 0.3385 - accuracy: 0.8644 - val_loss: 0.3286 - val_accuracy: 0.8675\n",
            "Epoch 80/100\n",
            "225/225 [==============================] - 0s 2ms/step - loss: 0.3382 - accuracy: 0.8644 - val_loss: 0.3285 - val_accuracy: 0.8700\n",
            "Epoch 81/100\n",
            "225/225 [==============================] - 0s 2ms/step - loss: 0.3386 - accuracy: 0.8628 - val_loss: 0.3281 - val_accuracy: 0.8725\n",
            "Epoch 82/100\n",
            "225/225 [==============================] - 0s 2ms/step - loss: 0.3376 - accuracy: 0.8644 - val_loss: 0.3305 - val_accuracy: 0.8662\n",
            "Epoch 83/100\n",
            "225/225 [==============================] - 0s 2ms/step - loss: 0.3386 - accuracy: 0.8624 - val_loss: 0.3279 - val_accuracy: 0.8725\n",
            "Epoch 84/100\n",
            "225/225 [==============================] - 0s 2ms/step - loss: 0.3387 - accuracy: 0.8637 - val_loss: 0.3282 - val_accuracy: 0.8725\n",
            "Epoch 85/100\n",
            "225/225 [==============================] - 0s 2ms/step - loss: 0.3381 - accuracy: 0.8656 - val_loss: 0.3284 - val_accuracy: 0.8675\n",
            "Epoch 86/100\n",
            "225/225 [==============================] - 0s 2ms/step - loss: 0.3382 - accuracy: 0.8636 - val_loss: 0.3285 - val_accuracy: 0.8687\n",
            "Epoch 87/100\n",
            "225/225 [==============================] - 0s 2ms/step - loss: 0.3382 - accuracy: 0.8635 - val_loss: 0.3282 - val_accuracy: 0.8675\n",
            "Epoch 88/100\n",
            "225/225 [==============================] - 0s 2ms/step - loss: 0.3381 - accuracy: 0.8636 - val_loss: 0.3301 - val_accuracy: 0.8637\n",
            "Epoch 89/100\n",
            "225/225 [==============================] - 0s 2ms/step - loss: 0.3385 - accuracy: 0.8649 - val_loss: 0.3286 - val_accuracy: 0.8650\n",
            "Epoch 90/100\n",
            "225/225 [==============================] - 0s 2ms/step - loss: 0.3380 - accuracy: 0.8642 - val_loss: 0.3288 - val_accuracy: 0.8700\n",
            "Epoch 91/100\n",
            "225/225 [==============================] - 0s 2ms/step - loss: 0.3380 - accuracy: 0.8636 - val_loss: 0.3281 - val_accuracy: 0.8737\n",
            "Epoch 92/100\n",
            "225/225 [==============================] - 0s 2ms/step - loss: 0.3383 - accuracy: 0.8656 - val_loss: 0.3286 - val_accuracy: 0.8662\n",
            "Epoch 93/100\n",
            "225/225 [==============================] - 0s 2ms/step - loss: 0.3380 - accuracy: 0.8637 - val_loss: 0.3287 - val_accuracy: 0.8650\n",
            "Epoch 94/100\n",
            "225/225 [==============================] - 0s 2ms/step - loss: 0.3378 - accuracy: 0.8619 - val_loss: 0.3281 - val_accuracy: 0.8687\n",
            "Epoch 95/100\n",
            "225/225 [==============================] - 0s 2ms/step - loss: 0.3380 - accuracy: 0.8650 - val_loss: 0.3277 - val_accuracy: 0.8662\n",
            "Epoch 96/100\n",
            "225/225 [==============================] - 0s 2ms/step - loss: 0.3378 - accuracy: 0.8640 - val_loss: 0.3297 - val_accuracy: 0.8625\n",
            "Epoch 97/100\n",
            "225/225 [==============================] - 0s 2ms/step - loss: 0.3377 - accuracy: 0.8625 - val_loss: 0.3289 - val_accuracy: 0.8675\n",
            "Epoch 98/100\n",
            "225/225 [==============================] - 0s 2ms/step - loss: 0.3379 - accuracy: 0.8633 - val_loss: 0.3266 - val_accuracy: 0.8662\n",
            "Epoch 99/100\n",
            "225/225 [==============================] - 0s 2ms/step - loss: 0.3381 - accuracy: 0.8633 - val_loss: 0.3298 - val_accuracy: 0.8675\n",
            "Epoch 100/100\n",
            "225/225 [==============================] - 0s 2ms/step - loss: 0.3380 - accuracy: 0.8639 - val_loss: 0.3294 - val_accuracy: 0.8675\n"
          ]
        }
      ],
      "source": [
        "history = ann.fit(X_train, y_train, validation_split = 0.1, batch_size = 32, epochs = 100)"
      ]
    },
    {
      "cell_type": "markdown",
      "source": [
        "# Visualization of the Loss training VS validation"
      ],
      "metadata": {
        "collapsed": false,
        "pycharm": {
          "name": "#%% md\n"
        },
        "id": "DkvVI2Uy4fb_"
      }
    },
    {
      "cell_type": "code",
      "execution_count": 19,
      "outputs": [
        {
          "output_type": "display_data",
          "data": {
            "text/plain": [
              "<Figure size 432x288 with 1 Axes>"
            ],
            "image/png": "[encoded data removed]"
          },
          "metadata": {
            "needs_background": "light"
          }
        }
      ],
      "source": [
        "plt.plot(history.history['loss'])\n",
        "plt.plot(history.history['val_loss'])\n",
        "plt.title('model loss')\n",
        "plt.ylabel('loss')\n",
        "plt.xlabel('epoch')\n",
        "plt.legend(['train', 'val'], loc='upper left')\n",
        "plt.show()"
      ],
      "metadata": {
        "pycharm": {
          "name": "#%%\n",
          "is_executing": true
        },
        "colab": {
          "base_uri": "https://localhost:8080/",
          "height": 295
        },
        "id": "Zt48AsEb4fb_",
        "outputId": "474c6cdd-9b4c-43d4-9d71-9820bbadf643"
      }
    },
    {
      "cell_type": "markdown",
      "source": [
        "# Visualization of the Accuracy training VS validation"
      ],
      "metadata": {
        "collapsed": false,
        "pycharm": {
          "name": "#%% md\n"
        },
        "id": "kbAghuZ_4fcA"
      }
    },
    {
      "cell_type": "code",
      "execution_count": 20,
      "outputs": [
        {
          "output_type": "display_data",
          "data": {
            "text/plain": [
              "<Figure size 432x288 with 1 Axes>"
            ],
            "image/png": "[encoded data removed]"
          },
          "metadata": {
            "needs_background": "light"
          }
        }
      ],
      "source": [
        "plt.plot(history.history['accuracy'])\n",
        "plt.plot(history.history['val_accuracy'])\n",
        "plt.title('model accuracy')\n",
        "plt.ylabel('accuracy')\n",
        "plt.xlabel('epoch')\n",
        "plt.legend(['train', 'val'], loc='upper left')\n",
        "plt.show()"
      ],
      "metadata": {
        "pycharm": {
          "name": "#%%\n",
          "is_executing": true
        },
        "colab": {
          "base_uri": "https://localhost:8080/",
          "height": 295
        },
        "id": "G8IF9RE-4fcA",
        "outputId": "a48fdf46-f4bc-420d-f307-d9c9ee357869"
      }
    },
    {
      "cell_type": "markdown",
      "metadata": {
        "id": "tJj5k2MxZga3"
      },
      "source": [
        "## Part 4 - Making the predictions and evaluating the model"
      ]
    },
    {
      "cell_type": "markdown",
      "source": [
        "### Predicting the Test set results"
      ],
      "metadata": {
        "collapsed": false,
        "pycharm": {
          "name": "#%% md\n"
        },
        "id": "u9SiP32E4fcB"
      }
    },
    {
      "cell_type": "code",
      "execution_count": 21,
      "outputs": [
        {
          "output_type": "stream",
          "name": "stdout",
          "text": [
            "63/63 [==============================] - 1s 3ms/step\n"
          ]
        }
      ],
      "source": [
        "y_pred = ann.predict(X_test)\n",
        "y_pred = (y_pred > 0.8)"
      ],
      "metadata": {
        "pycharm": {
          "name": "#%%\n"
        },
        "id": "Rf8xYhH84fcC",
        "colab": {
          "base_uri": "https://localhost:8080/"
        },
        "outputId": "c89e1f99-fc25-497a-ad10-d76773006925"
      }
    },
    {
      "cell_type": "markdown",
      "source": [
        "## Model Performance Evaluation"
      ],
      "metadata": {
        "collapsed": false,
        "pycharm": {
          "name": "#%% md\n"
        },
        "id": "lfYnGPWn4fcC"
      }
    },
    {
      "cell_type": "markdown",
      "source": [
        "Confusion Matrix"
      ],
      "metadata": {
        "id": "N8ZSI-zJvcBK"
      }
    },
    {
      "cell_type": "code",
      "execution_count": 22,
      "outputs": [
        {
          "output_type": "stream",
          "name": "stdout",
          "text": [
            "Confusion Matrix:\n",
            "\n",
            "[[1585   10]\n",
            " [ 290  115]]\n"
          ]
        }
      ],
      "source": [
        "from sklearn.metrics import confusion_matrix, accuracy_score, ConfusionMatrixDisplay, classification_report, balanced_accuracy_score\n",
        "cm = confusion_matrix(y_test, y_pred)\n",
        "print(f'Confusion Matrix:\\n\\n{cm}')"
      ],
      "metadata": {
        "pycharm": {
          "name": "#%%\n",
          "is_executing": true
        },
        "colab": {
          "base_uri": "https://localhost:8080/"
        },
        "id": "jy_ftfpv4fcC",
        "outputId": "8ab6e16a-502a-4fb8-a96d-a37d625a4055"
      }
    },
    {
      "cell_type": "markdown",
      "source": [
        "Confusion Matrix Plot"
      ],
      "metadata": {
        "id": "h7RUXhs6vkRW"
      }
    },
    {
      "cell_type": "code",
      "source": [
        "cmd = ConfusionMatrixDisplay(cm, display_labels=['stay', 'leave'])\n",
        "cmd.plot()"
      ],
      "metadata": {
        "colab": {
          "base_uri": "https://localhost:8080/",
          "height": 296
        },
        "id": "bmIFKtooyYSe",
        "outputId": "f84cf30a-eb7a-419f-9724-92020d17cf68"
      },
      "execution_count": 27,
      "outputs": [
        {
          "output_type": "execute_result",
          "data": {
            "text/plain": [
              "<sklearn.metrics._plot.confusion_matrix.ConfusionMatrixDisplay at 0x7f3863b6f4c0>"
            ]
          },
          "metadata": {},
          "execution_count": 27
        },
        {
          "output_type": "display_data",
          "data": {
            "text/plain": [
              "<Figure size 432x288 with 2 Axes>"
            ],
            "image/png": "[encoded data removed]"
          },
          "metadata": {
            "needs_background": "light"
          }
        }
      ]
    },
    {
      "cell_type": "code",
      "execution_count": 28,
      "outputs": [
        {
          "output_type": "stream",
          "name": "stdout",
          "text": [
            "Accuracy: 85%\n"
          ]
        }
      ],
      "source": [
        "accuracy = accuracy_score(y_test, y_pred)\n",
        "print(f'Accuracy: {round(accuracy*100)}%')"
      ],
      "metadata": {
        "pycharm": {
          "name": "#%%\n",
          "is_executing": true
        },
        "colab": {
          "base_uri": "https://localhost:8080/"
        },
        "id": "fks9boJF4fcD",
        "outputId": "3325d8ee-44a9-4cb5-870c-3cc1f0125032"
      }
    },
    {
      "cell_type": "markdown",
      "source": [
        "TPR, TNR, FPR and FNR"
      ],
      "metadata": {
        "id": "dUeFae_1zf8k"
      }
    },
    {
      "cell_type": "code",
      "execution_count": 39,
      "outputs": [
        {
          "output_type": "stream",
          "name": "stdout",
          "text": [
            "TPR: 28%\n",
            "TNR: 99%\n",
            "FPR: 1%\n",
            "FNR: 72%\n",
            "\n"
          ]
        }
      ],
      "source": [
        "tn, fp, fn, tp = cm.ravel()\n",
        "TPR = tp/(tp+fn)\n",
        "TNR = tn/(tn+fp)\n",
        "FPR = fp/(fp+tn)\n",
        "FNR = fn/(fn+tp)\n",
        "\n",
        "print(f'TPR: {round(TPR*100)}%\\n'\n",
        "      f'TNR: {round(TNR*100)}%\\n'\n",
        "      f'FPR: {round(FPR*100)}%\\n'\n",
        "      f'FNR: {round(FNR*100)}%\\n')\n"
      ],
      "metadata": {
        "pycharm": {
          "name": "#%%\n",
          "is_executing": true
        },
        "colab": {
          "base_uri": "https://localhost:8080/"
        },
        "id": "m2rB1bft4fcE",
        "outputId": "7ad4bbfe-4288-4206-9696-33f6ec34f8be"
      }
    },
    {
      "cell_type": "markdown",
      "source": [
        "Balanced Accuracy"
      ],
      "metadata": {
        "id": "Gf6Le8UFzn4S"
      }
    },
    {
      "cell_type": "code",
      "source": [
        "bal_acc = balanced_accuracy_score(y_test, y_pred)\n",
        "print(f'Balanced Accuracy: {round(bal_acc*100)}%')"
      ],
      "metadata": {
        "colab": {
          "base_uri": "https://localhost:8080/"
        },
        "id": "BlvuhzCbzq5n",
        "outputId": "dd8b5826-203b-4444-e76d-1bbbcdd402f4"
      },
      "execution_count": 38,
      "outputs": [
        {
          "output_type": "stream",
          "name": "stdout",
          "text": [
            "Balanced Accuracy: 64%\n"
          ]
        }
      ]
    },
    {
      "cell_type": "markdown",
      "source": [
        "Classification Report - Precision, Recall, F1 Score and Accuracy"
      ],
      "metadata": {
        "id": "bebvNYxh1M26"
      }
    },
    {
      "cell_type": "code",
      "execution_count": 33,
      "outputs": [
        {
          "output_type": "stream",
          "name": "stdout",
          "text": [
            "              precision    recall  f1-score   support\n",
            "\n",
            "        stay       0.85      0.99      0.91      1595\n",
            "       leave       0.92      0.28      0.43       405\n",
            "\n",
            "    accuracy                           0.85      2000\n",
            "   macro avg       0.88      0.64      0.67      2000\n",
            "weighted avg       0.86      0.85      0.82      2000\n",
            "\n"
          ]
        }
      ],
      "source": [
        "print(classification_report(y_test, y_pred, target_names=['stay', 'leave']))"
      ],
      "metadata": {
        "pycharm": {
          "name": "#%%\n",
          "is_executing": true
        },
        "colab": {
          "base_uri": "https://localhost:8080/"
        },
        "id": "yOiToWLE4fcE",
        "outputId": "450c5257-bada-43cd-cbe6-2f912172e0c4"
      }
    }
  ],
  "metadata": {
    "colab": {
      "provenance": []
    },
    "kernelspec": {
      "display_name": "Python 3 (ipykernel)",
      "language": "python",
      "name": "python3"
    },
    "language_info": {
      "codemirror_mode": {
        "name": "ipython",
        "version": 3
      },
      "file_extension": ".py",
      "mimetype": "text/x-python",
      "name": "python",
      "nbconvert_exporter": "python",
      "pygments_lexer": "ipython3",
      "version": "3.8.10"
    }
  },
  "nbformat": 4,
  "nbformat_minor": 0
}