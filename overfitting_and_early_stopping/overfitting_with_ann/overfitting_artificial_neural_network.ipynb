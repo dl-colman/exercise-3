{
  "cells": [
    {
      "cell_type": "markdown",
      "metadata": {
        "id": "lP6JLo1tGNBg"
      },
      "source": [
        "# Artificial Neural Network"
      ]
    },
    {
      "cell_type": "markdown",
      "metadata": {
        "id": "gWZyYmS_UE_L"
      },
      "source": [
        "### Importing the libraries"
      ]
    },
    {
      "cell_type": "code",
      "execution_count": 2,
      "metadata": {
        "id": "MxkJoQBkUIHC"
      },
      "outputs": [],
      "source": [
        "import numpy as np\n",
        "import pandas as pd\n",
        "import tensorflow as tf\n",
        "import matplotlib.pyplot as plt"
      ]
    },
    {
      "cell_type": "code",
      "execution_count": 3,
      "metadata": {
        "colab": {
          "base_uri": "https://localhost:8080/",
          "height": 36
        },
        "id": "ZaTwK7ojXr2F",
        "outputId": "7ef49cf2-ade3-40ce-e679-3c1fe915a380"
      },
      "outputs": [
        {
          "output_type": "execute_result",
          "data": {
            "text/plain": [
              "'2.9.2'"
            ],
            "application/vnd.google.colaboratory.intrinsic+json": {
              "type": "string"
            }
          },
          "metadata": {},
          "execution_count": 3
        }
      ],
      "source": [
        "tf.__version__"
      ]
    },
    {
      "cell_type": "markdown",
      "metadata": {
        "id": "1E0Q3aoKUCRX"
      },
      "source": [
        "## Part 1 - Data Preprocessing"
      ]
    },
    {
      "cell_type": "markdown",
      "metadata": {
        "id": "cKWAkFVGUU0Z"
      },
      "source": [
        "### Importing the dataset"
      ]
    },
    {
      "cell_type": "code",
      "source": [
        "from google.colab import drive\n",
        "drive.mount('/content/drive')"
      ],
      "metadata": {
        "colab": {
          "base_uri": "https://localhost:8080/"
        },
        "id": "bH_Trr94Qr7Y",
        "outputId": "dc250303-64bd-421c-d33b-94cf00f50f26"
      },
      "execution_count": 4,
      "outputs": [
        {
          "output_type": "stream",
          "name": "stdout",
          "text": [
            "Mounted at /content/drive\n"
          ]
        }
      ]
    },
    {
      "cell_type": "code",
      "execution_count": 11,
      "metadata": {
        "id": "MXUkhkMfU4wq"
      },
      "outputs": [],
      "source": [
        "dataset = pd.read_csv('/content/drive/MyDrive/exercise-2/ANN_exercise/cardio_train.csv', sep = ';')\n",
        "X = dataset.iloc[:, 1:-1].values\n",
        "y = dataset.iloc[:, -1].values"
      ]
    },
    {
      "cell_type": "code",
      "source": [
        "dataset.head()"
      ],
      "metadata": {
        "colab": {
          "base_uri": "https://localhost:8080/",
          "height": 206
        },
        "id": "8t2WUFmvdDUW",
        "outputId": "29b0ea95-441b-4b01-8fb8-179aec6bbb09"
      },
      "execution_count": 12,
      "outputs": [
        {
          "output_type": "execute_result",
          "data": {
            "text/plain": [
              "   id    age  gender  height  weight  ap_hi  ap_lo  cholesterol  gluc  smoke  \\\n",
              "0   0  18393       2     168    62.0    110     80            1     1      0   \n",
              "1   1  20228       1     156    85.0    140     90            3     1      0   \n",
              "2   2  18857       1     165    64.0    130     70            3     1      0   \n",
              "3   3  17623       2     169    82.0    150    100            1     1      0   \n",
              "4   4  17474       1     156    56.0    100     60            1     1      0   \n",
              "\n",
              "   alco  active  cardio  \n",
              "0     0       1       0  \n",
              "1     0       1       1  \n",
              "2     0       0       1  \n",
              "3     0       1       1  \n",
              "4     0       0       0  "
            ],
            "text/html": [
              "\n",
              "  <div id=\"df-9fb754f1-2eb6-4e58-ac38-0445980bef5f\">\n",
              "    <div class=\"colab-df-container\">\n",
              "      <div>\n",
              "<style scoped>\n",
              "    .dataframe tbody tr th:only-of-type {\n",
              "        vertical-align: middle;\n",
              "    }\n",
              "\n",
              "    .dataframe tbody tr th {\n",
              "        vertical-align: top;\n",
              "    }\n",
              "\n",
              "    .dataframe thead th {\n",
              "        text-align: right;\n",
              "    }\n",
              "</style>\n",
              "<table border=\"1\" class=\"dataframe\">\n",
              "  <thead>\n",
              "    <tr style=\"text-align: right;\">\n",
              "      <th></th>\n",
              "      <th>id</th>\n",
              "      <th>age</th>\n",
              "      <th>gender</th>\n",
              "      <th>height</th>\n",
              "      <th>weight</th>\n",
              "      <th>ap_hi</th>\n",
              "      <th>ap_lo</th>\n",
              "      <th>cholesterol</th>\n",
              "      <th>gluc</th>\n",
              "      <th>smoke</th>\n",
              "      <th>alco</th>\n",
              "      <th>active</th>\n",
              "      <th>cardio</th>\n",
              "    </tr>\n",
              "  </thead>\n",
              "  <tbody>\n",
              "    <tr>\n",
              "      <th>0</th>\n",
              "      <td>0</td>\n",
              "      <td>18393</td>\n",
              "      <td>2</td>\n",
              "      <td>168</td>\n",
              "      <td>62.0</td>\n",
              "      <td>110</td>\n",
              "      <td>80</td>\n",
              "      <td>1</td>\n",
              "      <td>1</td>\n",
              "      <td>0</td>\n",
              "      <td>0</td>\n",
              "      <td>1</td>\n",
              "      <td>0</td>\n",
              "    </tr>\n",
              "    <tr>\n",
              "      <th>1</th>\n",
              "      <td>1</td>\n",
              "      <td>20228</td>\n",
              "      <td>1</td>\n",
              "      <td>156</td>\n",
              "      <td>85.0</td>\n",
              "      <td>140</td>\n",
              "      <td>90</td>\n",
              "      <td>3</td>\n",
              "      <td>1</td>\n",
              "      <td>0</td>\n",
              "      <td>0</td>\n",
              "      <td>1</td>\n",
              "      <td>1</td>\n",
              "    </tr>\n",
              "    <tr>\n",
              "      <th>2</th>\n",
              "      <td>2</td>\n",
              "      <td>18857</td>\n",
              "      <td>1</td>\n",
              "      <td>165</td>\n",
              "      <td>64.0</td>\n",
              "      <td>130</td>\n",
              "      <td>70</td>\n",
              "      <td>3</td>\n",
              "      <td>1</td>\n",
              "      <td>0</td>\n",
              "      <td>0</td>\n",
              "      <td>0</td>\n",
              "      <td>1</td>\n",
              "    </tr>\n",
              "    <tr>\n",
              "      <th>3</th>\n",
              "      <td>3</td>\n",
              "      <td>17623</td>\n",
              "      <td>2</td>\n",
              "      <td>169</td>\n",
              "      <td>82.0</td>\n",
              "      <td>150</td>\n",
              "      <td>100</td>\n",
              "      <td>1</td>\n",
              "      <td>1</td>\n",
              "      <td>0</td>\n",
              "      <td>0</td>\n",
              "      <td>1</td>\n",
              "      <td>1</td>\n",
              "    </tr>\n",
              "    <tr>\n",
              "      <th>4</th>\n",
              "      <td>4</td>\n",
              "      <td>17474</td>\n",
              "      <td>1</td>\n",
              "      <td>156</td>\n",
              "      <td>56.0</td>\n",
              "      <td>100</td>\n",
              "      <td>60</td>\n",
              "      <td>1</td>\n",
              "      <td>1</td>\n",
              "      <td>0</td>\n",
              "      <td>0</td>\n",
              "      <td>0</td>\n",
              "      <td>0</td>\n",
              "    </tr>\n",
              "  </tbody>\n",
              "</table>\n",
              "</div>\n",
              "      <button class=\"colab-df-convert\" onclick=\"convertToInteractive('df-9fb754f1-2eb6-4e58-ac38-0445980bef5f')\"\n",
              "              title=\"Convert this dataframe to an interactive table.\"\n",
              "              style=\"display:none;\">\n",
              "        \n",
              "  <svg xmlns=\"http://www.w3.org/2000/svg\" height=\"24px\"viewBox=\"0 0 24 24\"\n",
              "       width=\"24px\">\n",
              "    <path d=\"M0 0h24v24H0V0z\" fill=\"none\"/>\n",
              "    <path d=\"M18.56 5.44l.94 2.06.94-2.06 2.06-.94-2.06-.94-.94-2.06-.94 2.06-2.06.94zm-11 1L8.5 8.5l.94-2.06 2.06-.94-2.06-.94L8.5 2.5l-.94 2.06-2.06.94zm10 10l.94 2.06.94-2.06 2.06-.94-2.06-.94-.94-2.06-.94 2.06-2.06.94z\"/><path d=\"M17.41 7.96l-1.37-1.37c-.4-.4-.92-.59-1.43-.59-.52 0-1.04.2-1.43.59L10.3 9.45l-7.72 7.72c-.78.78-.78 2.05 0 2.83L4 21.41c.39.39.9.59 1.41.59.51 0 1.02-.2 1.41-.59l7.78-7.78 2.81-2.81c.8-.78.8-2.07 0-2.86zM5.41 20L4 18.59l7.72-7.72 1.47 1.35L5.41 20z\"/>\n",
              "  </svg>\n",
              "      </button>\n",
              "      \n",
              "  <style>\n",
              "    .colab-df-container {\n",
              "      display:flex;\n",
              "      flex-wrap:wrap;\n",
              "      gap: 12px;\n",
              "    }\n",
              "\n",
              "    .colab-df-convert {\n",
              "      background-color: #E8F0FE;\n",
              "      border: none;\n",
              "      border-radius: 50%;\n",
              "      cursor: pointer;\n",
              "      display: none;\n",
              "      fill: #1967D2;\n",
              "      height: 32px;\n",
              "      padding: 0 0 0 0;\n",
              "      width: 32px;\n",
              "    }\n",
              "\n",
              "    .colab-df-convert:hover {\n",
              "      background-color: #E2EBFA;\n",
              "      box-shadow: 0px 1px 2px rgba(60, 64, 67, 0.3), 0px 1px 3px 1px rgba(60, 64, 67, 0.15);\n",
              "      fill: #174EA6;\n",
              "    }\n",
              "\n",
              "    [theme=dark] .colab-df-convert {\n",
              "      background-color: #3B4455;\n",
              "      fill: #D2E3FC;\n",
              "    }\n",
              "\n",
              "    [theme=dark] .colab-df-convert:hover {\n",
              "      background-color: #434B5C;\n",
              "      box-shadow: 0px 1px 3px 1px rgba(0, 0, 0, 0.15);\n",
              "      filter: drop-shadow(0px 1px 2px rgba(0, 0, 0, 0.3));\n",
              "      fill: #FFFFFF;\n",
              "    }\n",
              "  </style>\n",
              "\n",
              "      <script>\n",
              "        const buttonEl =\n",
              "          document.querySelector('#df-9fb754f1-2eb6-4e58-ac38-0445980bef5f button.colab-df-convert');\n",
              "        buttonEl.style.display =\n",
              "          google.colab.kernel.accessAllowed ? 'block' : 'none';\n",
              "\n",
              "        async function convertToInteractive(key) {\n",
              "          const element = document.querySelector('#df-9fb754f1-2eb6-4e58-ac38-0445980bef5f');\n",
              "          const dataTable =\n",
              "            await google.colab.kernel.invokeFunction('convertToInteractive',\n",
              "                                                     [key], {});\n",
              "          if (!dataTable) return;\n",
              "\n",
              "          const docLinkHtml = 'Like what you see? Visit the ' +\n",
              "            '<a target=\"_blank\" href=https://colab.research.google.com/notebooks/data_table.ipynb>data table notebook</a>'\n",
              "            + ' to learn more about interactive tables.';\n",
              "          element.innerHTML = '';\n",
              "          dataTable['output_type'] = 'display_data';\n",
              "          await google.colab.output.renderOutput(dataTable, element);\n",
              "          const docLink = document.createElement('div');\n",
              "          docLink.innerHTML = docLinkHtml;\n",
              "          element.appendChild(docLink);\n",
              "        }\n",
              "      </script>\n",
              "    </div>\n",
              "  </div>\n",
              "  "
            ]
          },
          "metadata": {},
          "execution_count": 12
        }
      ]
    },
    {
      "cell_type": "markdown",
      "source": [
        "## Encoding categorical data\n",
        "Label Encoding the \"Gender\" column\n",
        "\n"
      ],
      "metadata": {
        "id": "DPuB1VLzdpds"
      }
    },
    {
      "cell_type": "code",
      "source": [
        "from sklearn.preprocessing import LabelEncoder\n",
        "le = LabelEncoder()\n",
        "X[:, 1] = le.fit_transform(X[:, 1])"
      ],
      "metadata": {
        "id": "vr1z4UeddjRx"
      },
      "execution_count": 13,
      "outputs": []
    },
    {
      "cell_type": "markdown",
      "metadata": {
        "id": "vHol938cW8zd"
      },
      "source": [
        "### Splitting the dataset into the Training set and Test set"
      ]
    },
    {
      "cell_type": "code",
      "execution_count": 14,
      "metadata": {
        "id": "Z-TDt0Y_XEfc"
      },
      "outputs": [],
      "source": [
        "from sklearn.model_selection import train_test_split\n",
        "X_train, X_test, y_train, y_test = train_test_split(X, y, test_size = 0.2, random_state = 0)"
      ]
    },
    {
      "cell_type": "markdown",
      "metadata": {
        "id": "RE_FcHyfV3TQ"
      },
      "source": [
        "### Feature Scaling"
      ]
    },
    {
      "cell_type": "code",
      "execution_count": 15,
      "metadata": {
        "id": "ViCrE00rV8Sk"
      },
      "outputs": [],
      "source": [
        "from sklearn.preprocessing import StandardScaler\n",
        "sc = StandardScaler()\n",
        "X_train = sc.fit_transform(X_train)\n",
        "X_test = sc.transform(X_test)"
      ]
    },
    {
      "cell_type": "code",
      "execution_count": 16,
      "outputs": [
        {
          "output_type": "execute_result",
          "data": {
            "text/plain": [
              "43999"
            ]
          },
          "metadata": {},
          "execution_count": 16
        }
      ],
      "source": [
        "len(X_train)"
      ],
      "metadata": {
        "pycharm": {
          "name": "#%%\n"
        },
        "colab": {
          "base_uri": "https://localhost:8080/"
        },
        "id": "tHMvEUF1QQlu",
        "outputId": "5b2c7cd1-3d79-4ed8-e41c-71f981ee724f"
      }
    },
    {
      "cell_type": "markdown",
      "metadata": {
        "id": "-zfEzkRVXIwF"
      },
      "source": [
        "## Part 2 - Building the ANN"
      ]
    },
    {
      "cell_type": "markdown",
      "metadata": {
        "id": "KvdeScabXtlB"
      },
      "source": [
        "### Initializing the ANN"
      ]
    },
    {
      "cell_type": "code",
      "execution_count": 17,
      "metadata": {
        "id": "3dtrScHxXQox"
      },
      "outputs": [],
      "source": [
        "ann = tf.keras.models.Sequential()"
      ]
    },
    {
      "cell_type": "markdown",
      "source": [
        "### Adding hidden layers"
      ],
      "metadata": {
        "collapsed": false,
        "id": "zW5ZbZYfQQlv"
      }
    },
    {
      "cell_type": "code",
      "execution_count": 18,
      "outputs": [],
      "source": [
        "ann.add(tf.keras.layers.Dense(units=128, activation='relu'))\n",
        "ann.add(tf.keras.layers.Dense(units=64, activation='relu'))\n",
        "ann.add(tf.keras.layers.Dense(units=32, activation='relu'))\n",
        "ann.add(tf.keras.layers.Dense(units=16, activation='relu'))"
      ],
      "metadata": {
        "pycharm": {
          "name": "#%%\n"
        },
        "id": "uL49uaADQQlv"
      }
    },
    {
      "cell_type": "markdown",
      "metadata": {
        "id": "OyNEe6RXYcU4"
      },
      "source": [
        "### Adding the output layer"
      ]
    },
    {
      "cell_type": "code",
      "execution_count": 19,
      "metadata": {
        "id": "Cn3x41RBYfvY"
      },
      "outputs": [],
      "source": [
        "ann.add(tf.keras.layers.Dense(units=1, activation='sigmoid'))"
      ]
    },
    {
      "cell_type": "markdown",
      "metadata": {
        "id": "JT4u2S1_Y4WG"
      },
      "source": [
        "## Part 3 - Training the ANN"
      ]
    },
    {
      "cell_type": "markdown",
      "metadata": {
        "id": "8GWlJChhY_ZI"
      },
      "source": [
        "### Compiling the ANN"
      ]
    },
    {
      "cell_type": "code",
      "execution_count": 20,
      "metadata": {
        "id": "fG3RrwDXZEaS"
      },
      "outputs": [],
      "source": [
        "ann.compile(optimizer = 'adam', loss = 'binary_crossentropy', metrics = ['accuracy'])"
      ]
    },
    {
      "cell_type": "markdown",
      "metadata": {
        "id": "0QR_G5u7ZLSM"
      },
      "source": [
        "### Training the ANN on the Training set"
      ]
    },
    {
      "cell_type": "code",
      "execution_count": 21,
      "metadata": {
        "colab": {
          "base_uri": "https://localhost:8080/"
        },
        "id": "nHZ-LKv_ZRb3",
        "outputId": "c5a81fdb-75b1-4fdf-d3d9-1293279fe0e9"
      },
      "outputs": [
        {
          "output_type": "stream",
          "name": "stdout",
          "text": [
            "Epoch 1/100\n",
            "1238/1238 [==============================] - 4s 2ms/step - loss: 0.5788 - accuracy: 0.7086 - val_loss: 0.5636 - val_accuracy: 0.7184\n",
            "Epoch 2/100\n",
            "1238/1238 [==============================] - 2s 2ms/step - loss: 0.5456 - accuracy: 0.7317 - val_loss: 0.5571 - val_accuracy: 0.7225\n",
            "Epoch 3/100\n",
            "1238/1238 [==============================] - 2s 2ms/step - loss: 0.5468 - accuracy: 0.7341 - val_loss: 0.5526 - val_accuracy: 0.7257\n",
            "Epoch 4/100\n",
            "1238/1238 [==============================] - 2s 2ms/step - loss: 0.5423 - accuracy: 0.7351 - val_loss: 0.5533 - val_accuracy: 0.7245\n",
            "Epoch 5/100\n",
            "1238/1238 [==============================] - 2s 2ms/step - loss: 0.5409 - accuracy: 0.7350 - val_loss: 0.5547 - val_accuracy: 0.7248\n",
            "Epoch 6/100\n",
            "1238/1238 [==============================] - 2s 2ms/step - loss: 0.5394 - accuracy: 0.7381 - val_loss: 0.5525 - val_accuracy: 0.7232\n",
            "Epoch 7/100\n",
            "1238/1238 [==============================] - 2s 2ms/step - loss: 0.5396 - accuracy: 0.7367 - val_loss: 0.5521 - val_accuracy: 0.7248\n",
            "Epoch 8/100\n",
            "1238/1238 [==============================] - 2s 2ms/step - loss: 0.5388 - accuracy: 0.7363 - val_loss: 0.5519 - val_accuracy: 0.7241\n",
            "Epoch 9/100\n",
            "1238/1238 [==============================] - 2s 2ms/step - loss: 0.5371 - accuracy: 0.7377 - val_loss: 0.5506 - val_accuracy: 0.7223\n",
            "Epoch 10/100\n",
            "1238/1238 [==============================] - 2s 2ms/step - loss: 0.5387 - accuracy: 0.7389 - val_loss: 0.5525 - val_accuracy: 0.7227\n",
            "Epoch 11/100\n",
            "1238/1238 [==============================] - 2s 2ms/step - loss: 0.5362 - accuracy: 0.7385 - val_loss: 0.5535 - val_accuracy: 0.7230\n",
            "Epoch 12/100\n",
            "1238/1238 [==============================] - 2s 2ms/step - loss: 0.5352 - accuracy: 0.7389 - val_loss: 0.5519 - val_accuracy: 0.7241\n",
            "Epoch 13/100\n",
            "1238/1238 [==============================] - 2s 2ms/step - loss: 0.5346 - accuracy: 0.7404 - val_loss: 0.5528 - val_accuracy: 0.7214\n",
            "Epoch 14/100\n",
            "1238/1238 [==============================] - 3s 2ms/step - loss: 0.5340 - accuracy: 0.7391 - val_loss: 0.5527 - val_accuracy: 0.7248\n",
            "Epoch 15/100\n",
            "1238/1238 [==============================] - 2s 2ms/step - loss: 0.5336 - accuracy: 0.7388 - val_loss: 0.5516 - val_accuracy: 0.7286\n",
            "Epoch 16/100\n",
            "1238/1238 [==============================] - 2s 2ms/step - loss: 0.5325 - accuracy: 0.7412 - val_loss: 0.5531 - val_accuracy: 0.7234\n",
            "Epoch 17/100\n",
            "1238/1238 [==============================] - 2s 2ms/step - loss: 0.5319 - accuracy: 0.7400 - val_loss: 0.5519 - val_accuracy: 0.7220\n",
            "Epoch 18/100\n",
            "1238/1238 [==============================] - 2s 2ms/step - loss: 0.5315 - accuracy: 0.7403 - val_loss: 0.5529 - val_accuracy: 0.7234\n",
            "Epoch 19/100\n",
            "1238/1238 [==============================] - 2s 2ms/step - loss: 0.5301 - accuracy: 0.7408 - val_loss: 0.5572 - val_accuracy: 0.7205\n",
            "Epoch 20/100\n",
            "1238/1238 [==============================] - 2s 2ms/step - loss: 0.5295 - accuracy: 0.7417 - val_loss: 0.5553 - val_accuracy: 0.7195\n",
            "Epoch 21/100\n",
            "1238/1238 [==============================] - 2s 2ms/step - loss: 0.5285 - accuracy: 0.7421 - val_loss: 0.5581 - val_accuracy: 0.7214\n",
            "Epoch 22/100\n",
            "1238/1238 [==============================] - 2s 2ms/step - loss: 0.5283 - accuracy: 0.7401 - val_loss: 0.5543 - val_accuracy: 0.7200\n",
            "Epoch 23/100\n",
            "1238/1238 [==============================] - 2s 2ms/step - loss: 0.5270 - accuracy: 0.7436 - val_loss: 0.5563 - val_accuracy: 0.7239\n",
            "Epoch 24/100\n",
            "1238/1238 [==============================] - 2s 2ms/step - loss: 0.5267 - accuracy: 0.7425 - val_loss: 0.5555 - val_accuracy: 0.7202\n",
            "Epoch 25/100\n",
            "1238/1238 [==============================] - 3s 2ms/step - loss: 0.5264 - accuracy: 0.7435 - val_loss: 0.5623 - val_accuracy: 0.7225\n",
            "Epoch 26/100\n",
            "1238/1238 [==============================] - 2s 2ms/step - loss: 0.5246 - accuracy: 0.7443 - val_loss: 0.5642 - val_accuracy: 0.7255\n",
            "Epoch 27/100\n",
            "1238/1238 [==============================] - 3s 2ms/step - loss: 0.5242 - accuracy: 0.7451 - val_loss: 0.5594 - val_accuracy: 0.7150\n",
            "Epoch 28/100\n",
            "1238/1238 [==============================] - 2s 2ms/step - loss: 0.5233 - accuracy: 0.7445 - val_loss: 0.5608 - val_accuracy: 0.7207\n",
            "Epoch 29/100\n",
            "1238/1238 [==============================] - 3s 2ms/step - loss: 0.5221 - accuracy: 0.7458 - val_loss: 0.5639 - val_accuracy: 0.7155\n",
            "Epoch 30/100\n",
            "1238/1238 [==============================] - 3s 2ms/step - loss: 0.5210 - accuracy: 0.7467 - val_loss: 0.5595 - val_accuracy: 0.7150\n",
            "Epoch 31/100\n",
            "1238/1238 [==============================] - 2s 2ms/step - loss: 0.5204 - accuracy: 0.7450 - val_loss: 0.5631 - val_accuracy: 0.7177\n",
            "Epoch 32/100\n",
            "1238/1238 [==============================] - 2s 2ms/step - loss: 0.5195 - accuracy: 0.7455 - val_loss: 0.5655 - val_accuracy: 0.7175\n",
            "Epoch 33/100\n",
            "1238/1238 [==============================] - 2s 2ms/step - loss: 0.5188 - accuracy: 0.7467 - val_loss: 0.5692 - val_accuracy: 0.7209\n",
            "Epoch 34/100\n",
            "1238/1238 [==============================] - 2s 2ms/step - loss: 0.5182 - accuracy: 0.7468 - val_loss: 0.5638 - val_accuracy: 0.7191\n",
            "Epoch 35/100\n",
            "1238/1238 [==============================] - 2s 2ms/step - loss: 0.5173 - accuracy: 0.7476 - val_loss: 0.5620 - val_accuracy: 0.7170\n",
            "Epoch 36/100\n",
            "1238/1238 [==============================] - 2s 2ms/step - loss: 0.5161 - accuracy: 0.7491 - val_loss: 0.5671 - val_accuracy: 0.7200\n",
            "Epoch 37/100\n",
            "1238/1238 [==============================] - 2s 2ms/step - loss: 0.5148 - accuracy: 0.7487 - val_loss: 0.5636 - val_accuracy: 0.7193\n",
            "Epoch 38/100\n",
            "1238/1238 [==============================] - 2s 2ms/step - loss: 0.5140 - accuracy: 0.7495 - val_loss: 0.5664 - val_accuracy: 0.7198\n",
            "Epoch 39/100\n",
            "1238/1238 [==============================] - 2s 2ms/step - loss: 0.5133 - accuracy: 0.7503 - val_loss: 0.5710 - val_accuracy: 0.7182\n",
            "Epoch 40/100\n",
            "1238/1238 [==============================] - 2s 2ms/step - loss: 0.5128 - accuracy: 0.7509 - val_loss: 0.5696 - val_accuracy: 0.7227\n",
            "Epoch 41/100\n",
            "1238/1238 [==============================] - 2s 2ms/step - loss: 0.5111 - accuracy: 0.7506 - val_loss: 0.5712 - val_accuracy: 0.7191\n",
            "Epoch 42/100\n",
            "1238/1238 [==============================] - 2s 2ms/step - loss: 0.5101 - accuracy: 0.7515 - val_loss: 0.5640 - val_accuracy: 0.7195\n",
            "Epoch 43/100\n",
            "1238/1238 [==============================] - 2s 2ms/step - loss: 0.5098 - accuracy: 0.7513 - val_loss: 0.5756 - val_accuracy: 0.7184\n",
            "Epoch 44/100\n",
            "1238/1238 [==============================] - 2s 2ms/step - loss: 0.5080 - accuracy: 0.7526 - val_loss: 0.5733 - val_accuracy: 0.7195\n",
            "Epoch 45/100\n",
            "1238/1238 [==============================] - 2s 2ms/step - loss: 0.5074 - accuracy: 0.7528 - val_loss: 0.5838 - val_accuracy: 0.7186\n",
            "Epoch 46/100\n",
            "1238/1238 [==============================] - 2s 2ms/step - loss: 0.5070 - accuracy: 0.7529 - val_loss: 0.5759 - val_accuracy: 0.7177\n",
            "Epoch 47/100\n",
            "1238/1238 [==============================] - 2s 2ms/step - loss: 0.5059 - accuracy: 0.7546 - val_loss: 0.5822 - val_accuracy: 0.7193\n",
            "Epoch 48/100\n",
            "1238/1238 [==============================] - 2s 2ms/step - loss: 0.5043 - accuracy: 0.7530 - val_loss: 0.5768 - val_accuracy: 0.7145\n",
            "Epoch 49/100\n",
            "1238/1238 [==============================] - 2s 2ms/step - loss: 0.5040 - accuracy: 0.7532 - val_loss: 0.5805 - val_accuracy: 0.7159\n",
            "Epoch 50/100\n",
            "1238/1238 [==============================] - 2s 2ms/step - loss: 0.5064 - accuracy: 0.7541 - val_loss: 0.5812 - val_accuracy: 0.7175\n",
            "Epoch 51/100\n",
            "1238/1238 [==============================] - 2s 2ms/step - loss: 0.5018 - accuracy: 0.7545 - val_loss: 0.5808 - val_accuracy: 0.7168\n",
            "Epoch 52/100\n",
            "1238/1238 [==============================] - 2s 2ms/step - loss: 0.5012 - accuracy: 0.7553 - val_loss: 0.5820 - val_accuracy: 0.7216\n",
            "Epoch 53/100\n",
            "1238/1238 [==============================] - 2s 2ms/step - loss: 0.4999 - accuracy: 0.7556 - val_loss: 0.5894 - val_accuracy: 0.7130\n",
            "Epoch 54/100\n",
            "1238/1238 [==============================] - 2s 2ms/step - loss: 0.5001 - accuracy: 0.7566 - val_loss: 0.5953 - val_accuracy: 0.7116\n",
            "Epoch 55/100\n",
            "1238/1238 [==============================] - 2s 2ms/step - loss: 0.4987 - accuracy: 0.7563 - val_loss: 0.5967 - val_accuracy: 0.7148\n",
            "Epoch 56/100\n",
            "1238/1238 [==============================] - 2s 2ms/step - loss: 0.4984 - accuracy: 0.7555 - val_loss: 0.5928 - val_accuracy: 0.7148\n",
            "Epoch 57/100\n",
            "1238/1238 [==============================] - 2s 2ms/step - loss: 0.4966 - accuracy: 0.7569 - val_loss: 0.5973 - val_accuracy: 0.7164\n",
            "Epoch 58/100\n",
            "1238/1238 [==============================] - 2s 2ms/step - loss: 0.4963 - accuracy: 0.7567 - val_loss: 0.6015 - val_accuracy: 0.7098\n",
            "Epoch 59/100\n",
            "1238/1238 [==============================] - 2s 2ms/step - loss: 0.4950 - accuracy: 0.7577 - val_loss: 0.5995 - val_accuracy: 0.7114\n",
            "Epoch 60/100\n",
            "1238/1238 [==============================] - 2s 2ms/step - loss: 0.4941 - accuracy: 0.7591 - val_loss: 0.5954 - val_accuracy: 0.7134\n",
            "Epoch 61/100\n",
            "1238/1238 [==============================] - 2s 2ms/step - loss: 0.4930 - accuracy: 0.7583 - val_loss: 0.6012 - val_accuracy: 0.7136\n",
            "Epoch 62/100\n",
            "1238/1238 [==============================] - 2s 2ms/step - loss: 0.4924 - accuracy: 0.7583 - val_loss: 0.5985 - val_accuracy: 0.7164\n",
            "Epoch 63/100\n",
            "1238/1238 [==============================] - 2s 2ms/step - loss: 0.4916 - accuracy: 0.7581 - val_loss: 0.5910 - val_accuracy: 0.7118\n",
            "Epoch 64/100\n",
            "1238/1238 [==============================] - 2s 2ms/step - loss: 0.4907 - accuracy: 0.7594 - val_loss: 0.6052 - val_accuracy: 0.7136\n",
            "Epoch 65/100\n",
            "1238/1238 [==============================] - 2s 2ms/step - loss: 0.4901 - accuracy: 0.7589 - val_loss: 0.6046 - val_accuracy: 0.7077\n",
            "Epoch 66/100\n",
            "1238/1238 [==============================] - 2s 2ms/step - loss: 0.4898 - accuracy: 0.7589 - val_loss: 0.6052 - val_accuracy: 0.7125\n",
            "Epoch 67/100\n",
            "1238/1238 [==============================] - 2s 2ms/step - loss: 0.4871 - accuracy: 0.7616 - val_loss: 0.6108 - val_accuracy: 0.7041\n",
            "Epoch 68/100\n",
            "1238/1238 [==============================] - 2s 2ms/step - loss: 0.4875 - accuracy: 0.7624 - val_loss: 0.6159 - val_accuracy: 0.7057\n",
            "Epoch 69/100\n",
            "1238/1238 [==============================] - 2s 2ms/step - loss: 0.4853 - accuracy: 0.7611 - val_loss: 0.6149 - val_accuracy: 0.7111\n",
            "Epoch 70/100\n",
            "1238/1238 [==============================] - 2s 2ms/step - loss: 0.4854 - accuracy: 0.7627 - val_loss: 0.6242 - val_accuracy: 0.7120\n",
            "Epoch 71/100\n",
            "1238/1238 [==============================] - 2s 2ms/step - loss: 0.4849 - accuracy: 0.7613 - val_loss: 0.6093 - val_accuracy: 0.7098\n",
            "Epoch 72/100\n",
            "1238/1238 [==============================] - 2s 2ms/step - loss: 0.4827 - accuracy: 0.7630 - val_loss: 0.6226 - val_accuracy: 0.7032\n",
            "Epoch 73/100\n",
            "1238/1238 [==============================] - 2s 2ms/step - loss: 0.4814 - accuracy: 0.7637 - val_loss: 0.6211 - val_accuracy: 0.7073\n",
            "Epoch 74/100\n",
            "1238/1238 [==============================] - 2s 2ms/step - loss: 0.4818 - accuracy: 0.7635 - val_loss: 0.6193 - val_accuracy: 0.7034\n",
            "Epoch 75/100\n",
            "1238/1238 [==============================] - 2s 2ms/step - loss: 0.4802 - accuracy: 0.7650 - val_loss: 0.6261 - val_accuracy: 0.7136\n",
            "Epoch 76/100\n",
            "1238/1238 [==============================] - 2s 2ms/step - loss: 0.4807 - accuracy: 0.7630 - val_loss: 0.6217 - val_accuracy: 0.7086\n",
            "Epoch 77/100\n",
            "1238/1238 [==============================] - 2s 2ms/step - loss: 0.4792 - accuracy: 0.7646 - val_loss: 0.6364 - val_accuracy: 0.7068\n",
            "Epoch 78/100\n",
            "1238/1238 [==============================] - 4s 4ms/step - loss: 0.4781 - accuracy: 0.7651 - val_loss: 0.6350 - val_accuracy: 0.7061\n",
            "Epoch 79/100\n",
            "1238/1238 [==============================] - 4s 3ms/step - loss: 0.4772 - accuracy: 0.7670 - val_loss: 0.6404 - val_accuracy: 0.7055\n",
            "Epoch 80/100\n",
            "1238/1238 [==============================] - 2s 2ms/step - loss: 0.4770 - accuracy: 0.7651 - val_loss: 0.6341 - val_accuracy: 0.7052\n",
            "Epoch 81/100\n",
            "1238/1238 [==============================] - 2s 2ms/step - loss: 0.4765 - accuracy: 0.7658 - val_loss: 0.6298 - val_accuracy: 0.7130\n",
            "Epoch 82/100\n",
            "1238/1238 [==============================] - 2s 2ms/step - loss: 0.4764 - accuracy: 0.7657 - val_loss: 0.6326 - val_accuracy: 0.7077\n",
            "Epoch 83/100\n",
            "1238/1238 [==============================] - 2s 2ms/step - loss: 0.4756 - accuracy: 0.7656 - val_loss: 0.6324 - val_accuracy: 0.7045\n",
            "Epoch 84/100\n",
            "1238/1238 [==============================] - 3s 2ms/step - loss: 0.4727 - accuracy: 0.7675 - val_loss: 0.6403 - val_accuracy: 0.7116\n",
            "Epoch 85/100\n",
            "1238/1238 [==============================] - 2s 2ms/step - loss: 0.4733 - accuracy: 0.7676 - val_loss: 0.6407 - val_accuracy: 0.7007\n",
            "Epoch 86/100\n",
            "1238/1238 [==============================] - 2s 2ms/step - loss: 0.4742 - accuracy: 0.7668 - val_loss: 0.6516 - val_accuracy: 0.7050\n",
            "Epoch 87/100\n",
            "1238/1238 [==============================] - 2s 2ms/step - loss: 0.4720 - accuracy: 0.7679 - val_loss: 0.6519 - val_accuracy: 0.7057\n",
            "Epoch 88/100\n",
            "1238/1238 [==============================] - 2s 2ms/step - loss: 0.4704 - accuracy: 0.7699 - val_loss: 0.6588 - val_accuracy: 0.7030\n",
            "Epoch 89/100\n",
            "1238/1238 [==============================] - 2s 2ms/step - loss: 0.4702 - accuracy: 0.7693 - val_loss: 0.6637 - val_accuracy: 0.7070\n",
            "Epoch 90/100\n",
            "1238/1238 [==============================] - 2s 2ms/step - loss: 0.4744 - accuracy: 0.7691 - val_loss: 0.6650 - val_accuracy: 0.7080\n",
            "Epoch 91/100\n",
            "1238/1238 [==============================] - 2s 2ms/step - loss: 0.4676 - accuracy: 0.7718 - val_loss: 0.6486 - val_accuracy: 0.7077\n",
            "Epoch 92/100\n",
            "1238/1238 [==============================] - 2s 2ms/step - loss: 0.4683 - accuracy: 0.7706 - val_loss: 0.6733 - val_accuracy: 0.7043\n",
            "Epoch 93/100\n",
            "1238/1238 [==============================] - 2s 2ms/step - loss: 0.4669 - accuracy: 0.7712 - val_loss: 0.6682 - val_accuracy: 0.7052\n",
            "Epoch 94/100\n",
            "1238/1238 [==============================] - 2s 2ms/step - loss: 0.4677 - accuracy: 0.7700 - val_loss: 0.6618 - val_accuracy: 0.7036\n",
            "Epoch 95/100\n",
            "1238/1238 [==============================] - 2s 2ms/step - loss: 0.4675 - accuracy: 0.7713 - val_loss: 0.6704 - val_accuracy: 0.7039\n",
            "Epoch 96/100\n",
            "1238/1238 [==============================] - 2s 2ms/step - loss: 0.4664 - accuracy: 0.7694 - val_loss: 0.6701 - val_accuracy: 0.7020\n",
            "Epoch 97/100\n",
            "1238/1238 [==============================] - 2s 2ms/step - loss: 0.4646 - accuracy: 0.7730 - val_loss: 0.6798 - val_accuracy: 0.7105\n",
            "Epoch 98/100\n",
            "1238/1238 [==============================] - 2s 2ms/step - loss: 0.4655 - accuracy: 0.7719 - val_loss: 0.6562 - val_accuracy: 0.7027\n",
            "Epoch 99/100\n",
            "1238/1238 [==============================] - 2s 2ms/step - loss: 0.4625 - accuracy: 0.7728 - val_loss: 0.6755 - val_accuracy: 0.7061\n",
            "Epoch 100/100\n",
            "1238/1238 [==============================] - 2s 2ms/step - loss: 0.4620 - accuracy: 0.7740 - val_loss: 0.6780 - val_accuracy: 0.7043\n"
          ]
        }
      ],
      "source": [
        "history = ann.fit(X_train, y_train, validation_split = 0.1, batch_size = 32, epochs = 100)"
      ]
    },
    {
      "cell_type": "markdown",
      "source": [
        "# Visualization of Loss and Accuracy"
      ],
      "metadata": {
        "collapsed": false,
        "pycharm": {
          "name": "#%% md\n"
        },
        "id": "bkVjK6D1QQlw"
      }
    },
    {
      "cell_type": "code",
      "execution_count": 22,
      "outputs": [
        {
          "output_type": "display_data",
          "data": {
            "text/plain": [
              "<Figure size 432x288 with 1 Axes>"
            ],
            "image/png": "[encoded data removed]"
          },
          "metadata": {
            "needs_background": "light"
          }
        }
      ],
      "source": [
        "plt.plot(history.history['loss'])\n",
        "plt.plot(history.history['val_loss'])\n",
        "plt.title('model loss')\n",
        "plt.ylabel('loss')\n",
        "plt.xlabel('epoch')\n",
        "plt.legend(['train', 'val'], loc='upper left')\n",
        "plt.show()"
      ],
      "metadata": {
        "pycharm": {
          "name": "#%%\n"
        },
        "colab": {
          "base_uri": "https://localhost:8080/",
          "height": 295
        },
        "id": "SJxlFy3uQQlw",
        "outputId": "2651ca00-fdc6-4537-d96a-6ef8bd653a52"
      }
    },
    {
      "cell_type": "code",
      "execution_count": 23,
      "outputs": [
        {
          "output_type": "display_data",
          "data": {
            "text/plain": [
              "<Figure size 432x288 with 1 Axes>"
            ],
            "image/png": "[encoded data removed]"
          },
          "metadata": {
            "needs_background": "light"
          }
        }
      ],
      "source": [
        "plt.plot(history.history['accuracy'])\n",
        "plt.plot(history.history['val_accuracy'])\n",
        "plt.title('model accuracy')\n",
        "plt.ylabel('accuracy')\n",
        "plt.xlabel('epoch')\n",
        "plt.legend(['train', 'val'], loc='upper left')\n",
        "plt.show()"
      ],
      "metadata": {
        "pycharm": {
          "name": "#%%\n"
        },
        "colab": {
          "base_uri": "https://localhost:8080/",
          "height": 295
        },
        "id": "vZnW4IG_QQlw",
        "outputId": "cb716f5a-3cc2-47be-827c-fae11989f52c"
      }
    },
    {
      "cell_type": "markdown",
      "source": [
        "### Predicting the Test set results"
      ],
      "metadata": {
        "collapsed": false,
        "pycharm": {
          "name": "#%% md\n"
        },
        "id": "nDU_TXLaQQlx"
      }
    },
    {
      "cell_type": "code",
      "execution_count": 24,
      "outputs": [
        {
          "output_type": "stream",
          "name": "stdout",
          "text": [
            "344/344 [==============================] - 0s 979us/step\n",
            "[[0 1]\n",
            " [0 1]\n",
            " [1 1]\n",
            " ...\n",
            " [1 1]\n",
            " [1 1]\n",
            " [1 0]]\n"
          ]
        }
      ],
      "source": [
        "y_pred = ann.predict(X_test)\n",
        "y_pred = (y_pred > 0.5)\n",
        "print(np.concatenate((y_pred.reshape(len(y_pred),1), y_test.reshape(len(y_test),1)),1))"
      ],
      "metadata": {
        "pycharm": {
          "name": "#%%\n"
        },
        "colab": {
          "base_uri": "https://localhost:8080/"
        },
        "id": "EcvrWR-jQQlx",
        "outputId": "db948cab-5683-4761-9237-819c17ddfba1"
      }
    },
    {
      "cell_type": "markdown",
      "source": [
        "### Making the Confusion Matrix\n"
      ],
      "metadata": {
        "collapsed": false,
        "pycharm": {
          "name": "#%% md\n"
        },
        "id": "o3gpeEqDQQlx"
      }
    },
    {
      "cell_type": "code",
      "execution_count": 25,
      "outputs": [
        {
          "output_type": "stream",
          "name": "stdout",
          "text": [
            "[[4128 1306]\n",
            " [1862 3704]]\n"
          ]
        },
        {
          "output_type": "execute_result",
          "data": {
            "text/plain": [
              "0.712"
            ]
          },
          "metadata": {},
          "execution_count": 25
        }
      ],
      "source": [
        "from sklearn.metrics import confusion_matrix, accuracy_score\n",
        "\n",
        "cm = confusion_matrix(y_test, y_pred)\n",
        "print(cm)\n",
        "accuracy_score(y_test, y_pred)"
      ],
      "metadata": {
        "pycharm": {
          "name": "#%%\n"
        },
        "colab": {
          "base_uri": "https://localhost:8080/"
        },
        "id": "-1pXGagGQQlx",
        "outputId": "f3df1e1b-1789-45b0-85a7-c7d96e5414a2"
      }
    },
    {
      "cell_type": "code",
      "source": [
        "for key, val in history.history.items(): \n",
        "  print(f'{key} : {round(val[-1], 2)}')"
      ],
      "metadata": {
        "colab": {
          "base_uri": "https://localhost:8080/"
        },
        "id": "rDCNocEfSx--",
        "outputId": "e97bf3e7-b815-4734-d6a4-37665499c7bd"
      },
      "execution_count": 26,
      "outputs": [
        {
          "output_type": "stream",
          "name": "stdout",
          "text": [
            "loss : 0.46\n",
            "accuracy : 0.77\n",
            "val_loss : 0.68\n",
            "val_accuracy : 0.7\n"
          ]
        }
      ]
    }
  ],
  "metadata": {
    "colab": {
      "provenance": []
    },
    "kernelspec": {
      "display_name": "Python 3 (ipykernel)",
      "language": "python",
      "name": "python3"
    },
    "language_info": {
      "codemirror_mode": {
        "name": "ipython",
        "version": 3
      },
      "file_extension": ".py",
      "mimetype": "text/x-python",
      "name": "python",
      "nbconvert_exporter": "python",
      "pygments_lexer": "ipython3",
      "version": "3.8.10"
    }
  },
  "nbformat": 4,
  "nbformat_minor": 0
}