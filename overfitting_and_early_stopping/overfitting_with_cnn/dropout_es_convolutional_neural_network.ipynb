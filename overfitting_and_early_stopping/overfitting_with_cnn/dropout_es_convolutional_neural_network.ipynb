{
  "cells": [
    {
      "cell_type": "markdown",
      "metadata": {
        "id": "3DR-eO17geWu",
        "pycharm": {
          "name": "#%% md\n"
        }
      },
      "source": [
        "# Convolutional Neural Network"
      ]
    },
    {
      "cell_type": "markdown",
      "metadata": {
        "id": "EMefrVPCg-60",
        "pycharm": {
          "name": "#%% md\n"
        }
      },
      "source": [
        "### Importing the libraries"
      ]
    },
    {
      "cell_type": "code",
      "execution_count": 30,
      "metadata": {
        "id": "sCV30xyVhFbE",
        "pycharm": {
          "name": "#%%\n"
        }
      },
      "outputs": [],
      "source": [
        "import tensorflow as tf\n",
        "from keras.preprocessing.image import ImageDataGenerator\n",
        "from keras import callbacks"
      ]
    },
    {
      "cell_type": "code",
      "execution_count": 2,
      "metadata": {
        "id": "FIleuCAjoFD8",
        "pycharm": {
          "name": "#%%\n"
        },
        "colab": {
          "base_uri": "https://localhost:8080/",
          "height": 36
        },
        "outputId": "9c7c4db0-899e-4d5c-c693-d31bdd23d5fc"
      },
      "outputs": [
        {
          "output_type": "execute_result",
          "data": {
            "text/plain": [
              "'2.9.2'"
            ],
            "application/vnd.google.colaboratory.intrinsic+json": {
              "type": "string"
            }
          },
          "metadata": {},
          "execution_count": 2
        }
      ],
      "source": [
        "tf.__version__"
      ]
    },
    {
      "cell_type": "markdown",
      "metadata": {
        "id": "oxQxCBWyoGPE",
        "pycharm": {
          "name": "#%% md\n"
        }
      },
      "source": [
        "## Part 1 - Data Preprocessing"
      ]
    },
    {
      "cell_type": "markdown",
      "source": [
        "### Download the dataset"
      ],
      "metadata": {
        "id": "DXuVDwJj9KTf",
        "pycharm": {
          "name": "#%% md\n"
        }
      }
    },
    {
      "cell_type": "code",
      "source": [
        "%%capture\n",
        "!pip install --upgrade gdown\n",
        "!gdown --id 1wNByyX2STBiJrgVqYyEtDRy8d9cTyyGg\n",
        "!unzip /content/dataset.zip"
      ],
      "metadata": {
        "id": "qjHUjw6a86B6",
        "pycharm": {
          "name": "#%%\n"
        }
      },
      "execution_count": 3,
      "outputs": []
    },
    {
      "cell_type": "markdown",
      "metadata": {
        "id": "MvE-heJNo3GG",
        "pycharm": {
          "name": "#%% md\n"
        }
      },
      "source": [
        "### Preprocessing the Training set"
      ]
    },
    {
      "cell_type": "code",
      "execution_count": 99,
      "metadata": {
        "id": "0koUcJMJpEBD",
        "pycharm": {
          "name": "#%%\n"
        },
        "colab": {
          "base_uri": "https://localhost:8080/"
        },
        "outputId": "bc23cb13-3684-4410-d46a-577372a09477"
      },
      "outputs": [
        {
          "output_type": "stream",
          "name": "stdout",
          "text": [
            "Found 8000 images belonging to 2 classes.\n"
          ]
        }
      ],
      "source": [
        "train_datagen = ImageDataGenerator(rescale = 1./255,\n",
        "                                   shear_range = 0.2,\n",
        "                                   zoom_range = 0.2,\n",
        "                                   horizontal_flip = True)\n",
        "training_set = train_datagen.flow_from_directory('/content/dataset/training_set',\n",
        "                                                 target_size = (64, 64),\n",
        "                                                 batch_size = 32,\n",
        "                                                 class_mode = 'binary')"
      ]
    },
    {
      "cell_type": "markdown",
      "metadata": {
        "id": "mrCMmGw9pHys",
        "pycharm": {
          "name": "#%% md\n"
        }
      },
      "source": [
        "### Preprocessing the Test set"
      ]
    },
    {
      "cell_type": "code",
      "execution_count": 100,
      "metadata": {
        "id": "SH4WzfOhpKc3",
        "pycharm": {
          "name": "#%%\n"
        },
        "colab": {
          "base_uri": "https://localhost:8080/"
        },
        "outputId": "fb2e9a62-4f7e-4788-ba0a-3a0ee8f8a8ed"
      },
      "outputs": [
        {
          "output_type": "stream",
          "name": "stdout",
          "text": [
            "Found 2000 images belonging to 2 classes.\n"
          ]
        }
      ],
      "source": [
        "test_datagen = ImageDataGenerator(rescale = 1./255)\n",
        "test_set = test_datagen.flow_from_directory('/content/dataset/test_set',\n",
        "                                            target_size = (64, 64),\n",
        "                                            batch_size = 32,\n",
        "                                            class_mode = 'binary')"
      ]
    },
    {
      "cell_type": "markdown",
      "metadata": {
        "id": "af8O4l90gk7B",
        "pycharm": {
          "name": "#%% md\n"
        }
      },
      "source": [
        "## Part 2 - Building the CNN"
      ]
    },
    {
      "cell_type": "markdown",
      "metadata": {
        "id": "ces1gXY2lmoX",
        "pycharm": {
          "name": "#%% md\n"
        }
      },
      "source": [
        "### Initialising the CNN"
      ]
    },
    {
      "cell_type": "code",
      "execution_count": 101,
      "metadata": {
        "id": "SAUt4UMPlhLS",
        "pycharm": {
          "name": "#%%\n"
        }
      },
      "outputs": [],
      "source": [
        "cnn = tf.keras.models.Sequential()"
      ]
    },
    {
      "cell_type": "markdown",
      "metadata": {
        "id": "u5YJj_XMl5LF",
        "pycharm": {
          "name": "#%% md\n"
        }
      },
      "source": [
        "### Step 1 - Convolution"
      ]
    },
    {
      "cell_type": "code",
      "execution_count": 102,
      "metadata": {
        "id": "XPzPrMckl-hV",
        "pycharm": {
          "name": "#%%\n"
        }
      },
      "outputs": [],
      "source": [
        "cnn.add(tf.keras.layers.Conv2D(filters=32, kernel_size=3, activation='relu', input_shape=[64, 64, 3]))"
      ]
    },
    {
      "cell_type": "markdown",
      "metadata": {
        "id": "tf87FpvxmNOJ",
        "pycharm": {
          "name": "#%% md\n"
        }
      },
      "source": [
        "### Step 2 - Pooling"
      ]
    },
    {
      "cell_type": "code",
      "execution_count": 103,
      "metadata": {
        "id": "ncpqPl69mOac",
        "pycharm": {
          "name": "#%%\n"
        }
      },
      "outputs": [],
      "source": [
        "cnn.add(tf.keras.layers.MaxPool2D(pool_size=2, strides=2))"
      ]
    },
    {
      "cell_type": "markdown",
      "metadata": {
        "id": "xaTOgD8rm4mU",
        "pycharm": {
          "name": "#%% md\n"
        }
      },
      "source": [
        "### Adding a second convolutional layer"
      ]
    },
    {
      "cell_type": "code",
      "execution_count": 104,
      "metadata": {
        "id": "i_-FZjn_m8gk",
        "pycharm": {
          "name": "#%%\n"
        }
      },
      "outputs": [],
      "source": [
        "cnn.add(tf.keras.layers.Conv2D(filters=32, kernel_size=3, activation='relu'))\n",
        "cnn.add(tf.keras.layers.MaxPool2D(pool_size=2, strides=2))"
      ]
    },
    {
      "cell_type": "markdown",
      "metadata": {
        "id": "tmiEuvTunKfk",
        "pycharm": {
          "name": "#%% md\n"
        }
      },
      "source": [
        "### Step 3 - Flattening"
      ]
    },
    {
      "cell_type": "code",
      "execution_count": 105,
      "metadata": {
        "id": "6AZeOGCvnNZn",
        "pycharm": {
          "name": "#%%\n"
        }
      },
      "outputs": [],
      "source": [
        "cnn.add(tf.keras.layers.Flatten())"
      ]
    },
    {
      "cell_type": "markdown",
      "metadata": {
        "id": "dAoSECOm203v",
        "pycharm": {
          "name": "#%% md\n"
        }
      },
      "source": [
        "### Step 4 - Fully Connected layer"
      ]
    },
    {
      "cell_type": "code",
      "execution_count": 106,
      "metadata": {
        "id": "8GtmUlLd26Nq",
        "pycharm": {
          "name": "#%%\n"
        }
      },
      "outputs": [],
      "source": [
        "cnn.add(tf.keras.layers.Dense(units=128, activation='relu'))\n",
        "cnn.add(tf.keras.layers.Dropout(0.5))\n",
        "cnn.add(tf.keras.layers.Dense(units=64, activation='relu'))\n",
        "cnn.add(tf.keras.layers.Dropout(0.2))"
      ]
    },
    {
      "cell_type": "markdown",
      "metadata": {
        "id": "yTldFvbX28Na",
        "pycharm": {
          "name": "#%% md\n"
        }
      },
      "source": [
        "### Step 5 - Output Layer"
      ]
    },
    {
      "cell_type": "code",
      "execution_count": 107,
      "metadata": {
        "id": "1p_Zj1Mc3Ko_",
        "pycharm": {
          "name": "#%%\n"
        }
      },
      "outputs": [],
      "source": [
        "cnn.add(tf.keras.layers.Dense(units=1, activation='sigmoid'))"
      ]
    },
    {
      "cell_type": "code",
      "execution_count": 108,
      "outputs": [
        {
          "output_type": "stream",
          "name": "stdout",
          "text": [
            "Model: \"sequential_6\"\n",
            "_________________________________________________________________\n",
            " Layer (type)                Output Shape              Param #   \n",
            "=================================================================\n",
            " conv2d_12 (Conv2D)          (None, 62, 62, 32)        896       \n",
            "                                                                 \n",
            " max_pooling2d_12 (MaxPoolin  (None, 31, 31, 32)       0         \n",
            " g2D)                                                            \n",
            "                                                                 \n",
            " conv2d_13 (Conv2D)          (None, 29, 29, 32)        9248      \n",
            "                                                                 \n",
            " max_pooling2d_13 (MaxPoolin  (None, 14, 14, 32)       0         \n",
            " g2D)                                                            \n",
            "                                                                 \n",
            " flatten_6 (Flatten)         (None, 6272)              0         \n",
            "                                                                 \n",
            " dense_15 (Dense)            (None, 128)               802944    \n",
            "                                                                 \n",
            " dropout_9 (Dropout)         (None, 128)               0         \n",
            "                                                                 \n",
            " dense_16 (Dense)            (None, 64)                8256      \n",
            "                                                                 \n",
            " dropout_10 (Dropout)        (None, 64)                0         \n",
            "                                                                 \n",
            " dense_17 (Dense)            (None, 1)                 65        \n",
            "                                                                 \n",
            "=================================================================\n",
            "Total params: 821,409\n",
            "Trainable params: 821,409\n",
            "Non-trainable params: 0\n",
            "_________________________________________________________________\n"
          ]
        }
      ],
      "source": [
        "cnn.summary()"
      ],
      "metadata": {
        "pycharm": {
          "name": "#%%\n"
        },
        "id": "qeRgvzrE8pkU",
        "colab": {
          "base_uri": "https://localhost:8080/"
        },
        "outputId": "48f454cc-d7e0-464a-8e15-1f911e47d63e"
      }
    },
    {
      "cell_type": "markdown",
      "metadata": {
        "id": "D6XkI90snSDl",
        "pycharm": {
          "name": "#%% md\n"
        }
      },
      "source": [
        "## Part 3 - Training the CNN"
      ]
    },
    {
      "cell_type": "markdown",
      "metadata": {
        "id": "vfrFQACEnc6i",
        "pycharm": {
          "name": "#%% md\n"
        }
      },
      "source": [
        "### Compiling the CNN"
      ]
    },
    {
      "cell_type": "code",
      "execution_count": 109,
      "metadata": {
        "id": "NALksrNQpUlJ",
        "pycharm": {
          "name": "#%%\n"
        }
      },
      "outputs": [],
      "source": [
        "cnn.compile(optimizer = 'adam', loss = 'binary_crossentropy', metrics = ['accuracy'])"
      ]
    },
    {
      "cell_type": "markdown",
      "source": [
        "### Callback function initialization"
      ],
      "metadata": {
        "id": "dtJ-hmBLhOy-"
      }
    },
    {
      "cell_type": "code",
      "source": [
        "callback = callbacks.EarlyStopping(monitor='val_loss', patience=4)"
      ],
      "metadata": {
        "id": "I7rkC6hf7_3g"
      },
      "execution_count": 110,
      "outputs": []
    },
    {
      "cell_type": "markdown",
      "metadata": {
        "id": "ehS-v3MIpX2h",
        "pycharm": {
          "name": "#%% md\n"
        }
      },
      "source": [
        "### Training the CNN on the Training set and evaluating it on the Test set"
      ]
    },
    {
      "cell_type": "code",
      "source": [
        "history = cnn.fit(x = training_set, validation_data = test_set, epochs = 50, callbacks=[callback])"
      ],
      "metadata": {
        "colab": {
          "base_uri": "https://localhost:8080/"
        },
        "id": "0brVwmcqg2-u",
        "outputId": "312b8364-050c-475c-f018-0a88cda943bd"
      },
      "execution_count": 111,
      "outputs": [
        {
          "output_type": "stream",
          "name": "stdout",
          "text": [
            "Epoch 1/50\n",
            "250/250 [==============================] - 33s 129ms/step - loss: 0.6891 - accuracy: 0.5434 - val_loss: 0.6594 - val_accuracy: 0.6080\n",
            "Epoch 2/50\n",
            "250/250 [==============================] - 32s 128ms/step - loss: 0.6502 - accuracy: 0.6283 - val_loss: 0.6089 - val_accuracy: 0.6815\n",
            "Epoch 3/50\n",
            "250/250 [==============================] - 32s 128ms/step - loss: 0.6159 - accuracy: 0.6622 - val_loss: 0.6029 - val_accuracy: 0.6830\n",
            "Epoch 4/50\n",
            "250/250 [==============================] - 32s 128ms/step - loss: 0.5865 - accuracy: 0.6927 - val_loss: 0.5451 - val_accuracy: 0.7410\n",
            "Epoch 5/50\n",
            "250/250 [==============================] - 32s 128ms/step - loss: 0.5619 - accuracy: 0.7155 - val_loss: 0.5196 - val_accuracy: 0.7320\n",
            "Epoch 6/50\n",
            "250/250 [==============================] - 32s 128ms/step - loss: 0.5331 - accuracy: 0.7312 - val_loss: 0.5107 - val_accuracy: 0.7600\n",
            "Epoch 7/50\n",
            "250/250 [==============================] - 32s 128ms/step - loss: 0.5097 - accuracy: 0.7477 - val_loss: 0.4949 - val_accuracy: 0.7660\n",
            "Epoch 8/50\n",
            "250/250 [==============================] - 32s 128ms/step - loss: 0.4982 - accuracy: 0.7591 - val_loss: 0.4861 - val_accuracy: 0.7735\n",
            "Epoch 9/50\n",
            "250/250 [==============================] - 32s 128ms/step - loss: 0.4829 - accuracy: 0.7690 - val_loss: 0.4928 - val_accuracy: 0.7600\n",
            "Epoch 10/50\n",
            "250/250 [==============================] - 32s 128ms/step - loss: 0.4762 - accuracy: 0.7711 - val_loss: 0.4812 - val_accuracy: 0.7650\n",
            "Epoch 11/50\n",
            "250/250 [==============================] - 32s 128ms/step - loss: 0.4611 - accuracy: 0.7845 - val_loss: 0.4599 - val_accuracy: 0.7840\n",
            "Epoch 12/50\n",
            "250/250 [==============================] - 32s 128ms/step - loss: 0.4523 - accuracy: 0.7879 - val_loss: 0.4898 - val_accuracy: 0.7765\n",
            "Epoch 13/50\n",
            "250/250 [==============================] - 32s 128ms/step - loss: 0.4387 - accuracy: 0.7968 - val_loss: 0.4528 - val_accuracy: 0.7940\n",
            "Epoch 14/50\n",
            "250/250 [==============================] - 32s 128ms/step - loss: 0.4264 - accuracy: 0.7979 - val_loss: 0.4565 - val_accuracy: 0.7800\n",
            "Epoch 15/50\n",
            "250/250 [==============================] - 32s 128ms/step - loss: 0.4259 - accuracy: 0.8046 - val_loss: 0.4459 - val_accuracy: 0.8035\n",
            "Epoch 16/50\n",
            "250/250 [==============================] - 32s 128ms/step - loss: 0.4096 - accuracy: 0.8079 - val_loss: 0.4602 - val_accuracy: 0.7975\n",
            "Epoch 17/50\n",
            "250/250 [==============================] - 32s 128ms/step - loss: 0.4111 - accuracy: 0.8091 - val_loss: 0.4550 - val_accuracy: 0.8060\n",
            "Epoch 18/50\n",
            "250/250 [==============================] - 32s 128ms/step - loss: 0.3944 - accuracy: 0.8227 - val_loss: 0.4429 - val_accuracy: 0.8000\n",
            "Epoch 19/50\n",
            "250/250 [==============================] - 32s 128ms/step - loss: 0.3883 - accuracy: 0.8276 - val_loss: 0.4378 - val_accuracy: 0.8075\n",
            "Epoch 20/50\n",
            "250/250 [==============================] - 32s 128ms/step - loss: 0.3810 - accuracy: 0.8310 - val_loss: 0.4359 - val_accuracy: 0.8080\n",
            "Epoch 21/50\n",
            "250/250 [==============================] - 32s 128ms/step - loss: 0.3819 - accuracy: 0.8261 - val_loss: 0.4564 - val_accuracy: 0.7925\n",
            "Epoch 22/50\n",
            "250/250 [==============================] - 32s 128ms/step - loss: 0.3766 - accuracy: 0.8306 - val_loss: 0.4305 - val_accuracy: 0.8065\n",
            "Epoch 23/50\n",
            "250/250 [==============================] - 32s 128ms/step - loss: 0.3648 - accuracy: 0.8410 - val_loss: 0.4799 - val_accuracy: 0.7815\n",
            "Epoch 24/50\n",
            "250/250 [==============================] - 32s 128ms/step - loss: 0.3538 - accuracy: 0.8432 - val_loss: 0.4505 - val_accuracy: 0.7975\n",
            "Epoch 25/50\n",
            "250/250 [==============================] - 32s 128ms/step - loss: 0.3487 - accuracy: 0.8471 - val_loss: 0.4482 - val_accuracy: 0.8055\n",
            "Epoch 26/50\n",
            "250/250 [==============================] - 32s 128ms/step - loss: 0.3441 - accuracy: 0.8504 - val_loss: 0.4284 - val_accuracy: 0.8075\n",
            "Epoch 27/50\n",
            "250/250 [==============================] - 32s 128ms/step - loss: 0.3373 - accuracy: 0.8504 - val_loss: 0.4420 - val_accuracy: 0.8085\n",
            "Epoch 28/50\n",
            "250/250 [==============================] - 32s 128ms/step - loss: 0.3409 - accuracy: 0.8471 - val_loss: 0.4608 - val_accuracy: 0.8040\n",
            "Epoch 29/50\n",
            "250/250 [==============================] - 32s 128ms/step - loss: 0.3314 - accuracy: 0.8543 - val_loss: 0.4340 - val_accuracy: 0.8080\n",
            "Epoch 30/50\n",
            "250/250 [==============================] - 32s 128ms/step - loss: 0.3231 - accuracy: 0.8633 - val_loss: 0.4389 - val_accuracy: 0.8095\n"
          ]
        }
      ]
    },
    {
      "cell_type": "markdown",
      "metadata": {
        "id": "U3PZasO0006Z",
        "pycharm": {
          "name": "#%% md\n"
        }
      },
      "source": [
        "## Part 4 - Making a single prediction"
      ]
    },
    {
      "cell_type": "code",
      "execution_count": 112,
      "metadata": {
        "id": "gsSiWEJY1BPB",
        "pycharm": {
          "name": "#%%\n"
        },
        "colab": {
          "base_uri": "https://localhost:8080/"
        },
        "outputId": "ffc9b40e-6869-4177-dec9-dbda175fc15c"
      },
      "outputs": [
        {
          "output_type": "stream",
          "name": "stdout",
          "text": [
            "1/1 [==============================] - 0s 80ms/step\n",
            "{'cats': 0, 'dogs': 1}\n"
          ]
        }
      ],
      "source": [
        "import numpy as np\n",
        "from keras.preprocessing import image\n",
        "test_image = tf.keras.utils.load_img('/content/dataset/single_prediction/cat_or_dog_2.jpg', target_size = (64, 64))\n",
        "test_image_as_batch = np.expand_dims(test_image, axis = 0)\n",
        "result = cnn.predict(test_image_as_batch)\n",
        "training_set.class_indices\n",
        "if result[0][0] == 1:\n",
        "  prediction = 'dog'\n",
        "else:\n",
        "  prediction = 'cat'\n",
        "print(training_set.class_indices)"
      ]
    },
    {
      "cell_type": "code",
      "execution_count": 113,
      "metadata": {
        "id": "ED9KB3I54c1i",
        "scrolled": true,
        "pycharm": {
          "name": "#%%\n"
        },
        "colab": {
          "base_uri": "https://localhost:8080/",
          "height": 286
        },
        "outputId": "2122c5b2-147c-4fe3-b0b8-5b5feed929fa"
      },
      "outputs": [
        {
          "output_type": "stream",
          "name": "stdout",
          "text": [
            "Model predicted: dog\n"
          ]
        },
        {
          "output_type": "display_data",
          "data": {
            "text/plain": [
              "<Figure size 432x288 with 1 Axes>"
            ],
            "image/png": "[encoded data removed]"
          },
          "metadata": {
            "needs_background": "light"
          }
        }
      ],
      "source": [
        "from matplotlib import pyplot as plt\n",
        "plt.imshow(test_image)\n",
        "print(f'Model predicted: {prediction}')"
      ]
    },
    {
      "cell_type": "markdown",
      "source": [
        "## Visualization of the Loss\n"
      ],
      "metadata": {
        "collapsed": false,
        "pycharm": {
          "name": "#%% md\n"
        },
        "id": "zf-Xa24g8pkV"
      }
    },
    {
      "cell_type": "code",
      "execution_count": 114,
      "metadata": {
        "id": "-wHm-5Mu8pkV",
        "pycharm": {
          "name": "#%%\n"
        },
        "colab": {
          "base_uri": "https://localhost:8080/",
          "height": 295
        },
        "outputId": "92979c90-9f33-4c4a-e3d9-e619b9e89b40"
      },
      "outputs": [
        {
          "output_type": "display_data",
          "data": {
            "text/plain": [
              "<Figure size 432x288 with 1 Axes>"
            ],
            "image/png": "[encoded data removed]"
          },
          "metadata": {
            "needs_background": "light"
          }
        }
      ],
      "source": [
        "from matplotlib import pyplot as plt\n",
        "plt.plot(history.history['loss'])\n",
        "plt.plot(history.history['val_loss'])\n",
        "plt.title('model loss')\n",
        "plt.ylabel('loss')\n",
        "plt.xlabel('epoch')\n",
        "plt.legend(['train', 'val'], loc='upper left')\n",
        "plt.show()"
      ]
    },
    {
      "cell_type": "code",
      "execution_count": 115,
      "metadata": {
        "id": "Pmzw_q9s8pkV",
        "pycharm": {
          "name": "#%%\n"
        },
        "colab": {
          "base_uri": "https://localhost:8080/",
          "height": 295
        },
        "outputId": "de243be5-1d42-4f07-c555-636d222ab7de"
      },
      "outputs": [
        {
          "output_type": "display_data",
          "data": {
            "text/plain": [
              "<Figure size 432x288 with 1 Axes>"
            ],
            "image/png": "[encoded data removed]"
          },
          "metadata": {
            "needs_background": "light"
          }
        }
      ],
      "source": [
        "plt.plot(history.history['accuracy'])\n",
        "plt.plot(history.history['val_accuracy'])\n",
        "plt.title('model accuracy')\n",
        "plt.ylabel('accuracy')\n",
        "plt.xlabel('epoch')\n",
        "plt.legend(['train', 'val'], loc='upper left')\n",
        "plt.show()"
      ]
    },
    {
      "cell_type": "code",
      "execution_count": 118,
      "metadata": {
        "id": "GNsEodwd8pkW",
        "pycharm": {
          "name": "#%%\n"
        },
        "colab": {
          "base_uri": "https://localhost:8080/"
        },
        "outputId": "83c7c732-299f-40ab-9a88-b9b0ef76364c"
      },
      "outputs": [
        {
          "output_type": "stream",
          "name": "stdout",
          "text": [
            "loss : 0.32\n",
            "accuracy : 0.86\n",
            "val_loss : 0.44\n",
            "val_accuracy : 0.81\n"
          ]
        }
      ],
      "source": [
        "for key, val in history.history.items(): \n",
        "  print(f'{key} : {round(val[-1], 2)}')"
      ]
    },
    {
      "cell_type": "code",
      "execution_count": 117,
      "metadata": {
        "id": "cuxNueiF8pkW",
        "pycharm": {
          "name": "#%%\n"
        },
        "colab": {
          "base_uri": "https://localhost:8080/"
        },
        "outputId": "11d86b19-1d3b-47ce-95b2-db5dd47fac9b"
      },
      "outputs": [
        {
          "output_type": "stream",
          "name": "stdout",
          "text": [
            "The model accuracy is: 0.81\n"
          ]
        }
      ],
      "source": [
        "accuracy = round(history.history['val_accuracy'][-1], 2)\n",
        "print(f'The model accuracy is: {accuracy}')"
      ]
    }
  ],
  "metadata": {
    "colab": {
      "provenance": [],
      "machine_shape": "hm"
    },
    "kernelspec": {
      "display_name": "Python 3 (ipykernel)",
      "language": "python",
      "name": "python3"
    },
    "language_info": {
      "codemirror_mode": {
        "name": "ipython",
        "version": 3
      },
      "file_extension": ".py",
      "mimetype": "text/x-python",
      "name": "python",
      "nbconvert_exporter": "python",
      "pygments_lexer": "ipython3",
      "version": "3.8.10"
    },
    "accelerator": "GPU",
    "gpuClass": "premium"
  },
  "nbformat": 4,
  "nbformat_minor": 0
}