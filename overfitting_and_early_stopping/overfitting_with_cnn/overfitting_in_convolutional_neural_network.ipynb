{
  "cells": [
    {
      "cell_type": "markdown",
      "metadata": {
        "id": "3DR-eO17geWu",
        "pycharm": {
          "name": "#%% md\n"
        }
      },
      "source": [
        "# Convolutional Neural Network"
      ]
    },
    {
      "cell_type": "markdown",
      "metadata": {
        "id": "EMefrVPCg-60",
        "pycharm": {
          "name": "#%% md\n"
        }
      },
      "source": [
        "### Importing the libraries"
      ]
    },
    {
      "cell_type": "code",
      "execution_count": 35,
      "metadata": {
        "id": "sCV30xyVhFbE",
        "pycharm": {
          "name": "#%%\n"
        }
      },
      "outputs": [],
      "source": [
        "import tensorflow as tf\n",
        "from keras.preprocessing.image import ImageDataGenerator"
      ]
    },
    {
      "cell_type": "code",
      "execution_count": 36,
      "metadata": {
        "id": "FIleuCAjoFD8",
        "pycharm": {
          "name": "#%%\n"
        },
        "colab": {
          "base_uri": "https://localhost:8080/",
          "height": 36
        },
        "outputId": "c5b9cccd-9b5b-4300-8823-9cef6755738d"
      },
      "outputs": [
        {
          "output_type": "execute_result",
          "data": {
            "text/plain": [
              "'2.9.2'"
            ],
            "application/vnd.google.colaboratory.intrinsic+json": {
              "type": "string"
            }
          },
          "metadata": {},
          "execution_count": 36
        }
      ],
      "source": [
        "tf.__version__"
      ]
    },
    {
      "cell_type": "markdown",
      "metadata": {
        "id": "oxQxCBWyoGPE",
        "pycharm": {
          "name": "#%% md\n"
        }
      },
      "source": [
        "## Part 1 - Data Preprocessing"
      ]
    },
    {
      "cell_type": "markdown",
      "source": [
        "### Download the dataset"
      ],
      "metadata": {
        "id": "DXuVDwJj9KTf",
        "pycharm": {
          "name": "#%% md\n"
        }
      }
    },
    {
      "cell_type": "code",
      "source": [
        "%%capture\n",
        "!pip install --upgrade gdown\n",
        "!gdown --id 1wNByyX2STBiJrgVqYyEtDRy8d9cTyyGg\n",
        "!unzip /content/dataset.zip"
      ],
      "metadata": {
        "id": "qjHUjw6a86B6",
        "pycharm": {
          "name": "#%%\n"
        }
      },
      "execution_count": 37,
      "outputs": []
    },
    {
      "cell_type": "markdown",
      "metadata": {
        "id": "MvE-heJNo3GG",
        "pycharm": {
          "name": "#%% md\n"
        }
      },
      "source": [
        "### Preprocessing the Training set"
      ]
    },
    {
      "cell_type": "code",
      "execution_count": 39,
      "metadata": {
        "id": "0koUcJMJpEBD",
        "pycharm": {
          "name": "#%%\n"
        },
        "colab": {
          "base_uri": "https://localhost:8080/"
        },
        "outputId": "05225c40-a9c0-4662-ba7a-744f6904b2a9"
      },
      "outputs": [
        {
          "output_type": "stream",
          "name": "stdout",
          "text": [
            "Found 8000 images belonging to 2 classes.\n"
          ]
        }
      ],
      "source": [
        "train_datagen = ImageDataGenerator(rescale = 1./255,\n",
        "                                   shear_range = 0.2,\n",
        "                                   zoom_range = 0.2,\n",
        "                                   horizontal_flip = True)\n",
        "training_set = train_datagen.flow_from_directory('/content/dataset/training_set',\n",
        "                                                 target_size = (64, 64),\n",
        "                                                 batch_size = 32,\n",
        "                                                 class_mode = 'binary')"
      ]
    },
    {
      "cell_type": "markdown",
      "metadata": {
        "id": "mrCMmGw9pHys",
        "pycharm": {
          "name": "#%% md\n"
        }
      },
      "source": [
        "### Preprocessing the Test set"
      ]
    },
    {
      "cell_type": "code",
      "execution_count": 40,
      "metadata": {
        "id": "SH4WzfOhpKc3",
        "pycharm": {
          "name": "#%%\n"
        },
        "colab": {
          "base_uri": "https://localhost:8080/"
        },
        "outputId": "a0aebf47-3719-42d2-d5c4-6e7bf88a7eb9"
      },
      "outputs": [
        {
          "output_type": "stream",
          "name": "stdout",
          "text": [
            "Found 2000 images belonging to 2 classes.\n"
          ]
        }
      ],
      "source": [
        "test_datagen = ImageDataGenerator(rescale = 1./255)\n",
        "test_set = test_datagen.flow_from_directory('/content/dataset/test_set',\n",
        "                                            target_size = (64, 64),\n",
        "                                            batch_size = 32,\n",
        "                                            class_mode = 'binary')"
      ]
    },
    {
      "cell_type": "markdown",
      "metadata": {
        "id": "af8O4l90gk7B",
        "pycharm": {
          "name": "#%% md\n"
        }
      },
      "source": [
        "## Part 2 - Building the CNN"
      ]
    },
    {
      "cell_type": "markdown",
      "metadata": {
        "id": "ces1gXY2lmoX",
        "pycharm": {
          "name": "#%% md\n"
        }
      },
      "source": [
        "### Initialising the CNN"
      ]
    },
    {
      "cell_type": "code",
      "execution_count": 41,
      "metadata": {
        "id": "SAUt4UMPlhLS",
        "pycharm": {
          "name": "#%%\n"
        }
      },
      "outputs": [],
      "source": [
        "cnn = tf.keras.models.Sequential()"
      ]
    },
    {
      "cell_type": "markdown",
      "metadata": {
        "id": "u5YJj_XMl5LF",
        "pycharm": {
          "name": "#%% md\n"
        }
      },
      "source": [
        "### Step 1 - Convolution"
      ]
    },
    {
      "cell_type": "code",
      "execution_count": 42,
      "metadata": {
        "id": "XPzPrMckl-hV",
        "pycharm": {
          "name": "#%%\n"
        }
      },
      "outputs": [],
      "source": [
        "cnn.add(tf.keras.layers.Conv2D(filters=32, kernel_size=3, activation='relu', input_shape=[64, 64, 3]))"
      ]
    },
    {
      "cell_type": "markdown",
      "metadata": {
        "id": "tf87FpvxmNOJ",
        "pycharm": {
          "name": "#%% md\n"
        }
      },
      "source": [
        "### Step 2 - Pooling"
      ]
    },
    {
      "cell_type": "code",
      "execution_count": 43,
      "metadata": {
        "id": "ncpqPl69mOac",
        "pycharm": {
          "name": "#%%\n"
        }
      },
      "outputs": [],
      "source": [
        "cnn.add(tf.keras.layers.MaxPool2D(pool_size=2, strides=2))"
      ]
    },
    {
      "cell_type": "markdown",
      "metadata": {
        "id": "xaTOgD8rm4mU",
        "pycharm": {
          "name": "#%% md\n"
        }
      },
      "source": [
        "### Adding a second convolutional layer"
      ]
    },
    {
      "cell_type": "code",
      "execution_count": 44,
      "metadata": {
        "id": "i_-FZjn_m8gk",
        "pycharm": {
          "name": "#%%\n"
        }
      },
      "outputs": [],
      "source": [
        "cnn.add(tf.keras.layers.Conv2D(filters=32, kernel_size=3, activation='relu'))\n",
        "cnn.add(tf.keras.layers.MaxPool2D(pool_size=2, strides=2))"
      ]
    },
    {
      "cell_type": "markdown",
      "metadata": {
        "id": "tmiEuvTunKfk",
        "pycharm": {
          "name": "#%% md\n"
        }
      },
      "source": [
        "### Step 3 - Flattening"
      ]
    },
    {
      "cell_type": "code",
      "execution_count": 45,
      "metadata": {
        "id": "6AZeOGCvnNZn",
        "pycharm": {
          "name": "#%%\n"
        }
      },
      "outputs": [],
      "source": [
        "cnn.add(tf.keras.layers.Flatten())"
      ]
    },
    {
      "cell_type": "markdown",
      "metadata": {
        "id": "dAoSECOm203v",
        "pycharm": {
          "name": "#%% md\n"
        }
      },
      "source": [
        "### Step 4 - Fully Connected layers"
      ]
    },
    {
      "cell_type": "code",
      "execution_count": 46,
      "metadata": {
        "id": "8GtmUlLd26Nq",
        "pycharm": {
          "name": "#%%\n"
        }
      },
      "outputs": [],
      "source": [
        "cnn.add(tf.keras.layers.Dense(units=128, activation='relu'))\n",
        "cnn.add(tf.keras.layers.Dense(units=64, activation='relu'))"
      ]
    },
    {
      "cell_type": "markdown",
      "metadata": {
        "id": "yTldFvbX28Na",
        "pycharm": {
          "name": "#%% md\n"
        }
      },
      "source": [
        "### Step 5 - Output Layer"
      ]
    },
    {
      "cell_type": "code",
      "execution_count": 47,
      "metadata": {
        "id": "1p_Zj1Mc3Ko_",
        "pycharm": {
          "name": "#%%\n"
        }
      },
      "outputs": [],
      "source": [
        "cnn.add(tf.keras.layers.Dense(units=1, activation='sigmoid'))"
      ]
    },
    {
      "cell_type": "code",
      "execution_count": 48,
      "outputs": [
        {
          "output_type": "stream",
          "name": "stdout",
          "text": [
            "Model: \"sequential_2\"\n",
            "_________________________________________________________________\n",
            " Layer (type)                Output Shape              Param #   \n",
            "=================================================================\n",
            " conv2d_6 (Conv2D)           (None, 62, 62, 32)        896       \n",
            "                                                                 \n",
            " max_pooling2d_6 (MaxPooling  (None, 31, 31, 32)       0         \n",
            " 2D)                                                             \n",
            "                                                                 \n",
            " conv2d_7 (Conv2D)           (None, 29, 29, 32)        9248      \n",
            "                                                                 \n",
            " max_pooling2d_7 (MaxPooling  (None, 14, 14, 32)       0         \n",
            " 2D)                                                             \n",
            "                                                                 \n",
            " flatten_2 (Flatten)         (None, 6272)              0         \n",
            "                                                                 \n",
            " dense_6 (Dense)             (None, 128)               802944    \n",
            "                                                                 \n",
            " dense_7 (Dense)             (None, 64)                8256      \n",
            "                                                                 \n",
            " dense_8 (Dense)             (None, 1)                 65        \n",
            "                                                                 \n",
            "=================================================================\n",
            "Total params: 821,409\n",
            "Trainable params: 821,409\n",
            "Non-trainable params: 0\n",
            "_________________________________________________________________\n"
          ]
        }
      ],
      "source": [
        "cnn.summary()"
      ],
      "metadata": {
        "pycharm": {
          "name": "#%%\n"
        },
        "id": "qeRgvzrE8pkU",
        "colab": {
          "base_uri": "https://localhost:8080/"
        },
        "outputId": "06f24337-5711-4f4e-8138-de4c9174fde7"
      }
    },
    {
      "cell_type": "markdown",
      "metadata": {
        "id": "D6XkI90snSDl",
        "pycharm": {
          "name": "#%% md\n"
        }
      },
      "source": [
        "## Part 3 - Training the CNN"
      ]
    },
    {
      "cell_type": "markdown",
      "metadata": {
        "id": "vfrFQACEnc6i",
        "pycharm": {
          "name": "#%% md\n"
        }
      },
      "source": [
        "### Compiling the CNN"
      ]
    },
    {
      "cell_type": "code",
      "execution_count": 49,
      "metadata": {
        "id": "NALksrNQpUlJ",
        "pycharm": {
          "name": "#%%\n"
        }
      },
      "outputs": [],
      "source": [
        "cnn.compile(optimizer = 'adam', loss = 'binary_crossentropy', metrics = ['accuracy'])"
      ]
    },
    {
      "cell_type": "markdown",
      "metadata": {
        "id": "ehS-v3MIpX2h",
        "pycharm": {
          "name": "#%% md\n"
        }
      },
      "source": [
        "### Training the CNN on the Training set and evaluating it on the Test set"
      ]
    },
    {
      "cell_type": "code",
      "source": [
        "history = cnn.fit(x = training_set, validation_data = test_set, epochs = 50)"
      ],
      "metadata": {
        "colab": {
          "base_uri": "https://localhost:8080/"
        },
        "id": "0brVwmcqg2-u",
        "outputId": "538cff4b-309d-41c3-810b-b5dda7357f03"
      },
      "execution_count": 50,
      "outputs": [
        {
          "output_type": "stream",
          "name": "stdout",
          "text": [
            "Epoch 1/50\n",
            "250/250 [==============================] - 33s 129ms/step - loss: 0.6620 - accuracy: 0.5995 - val_loss: 0.6229 - val_accuracy: 0.6295\n",
            "Epoch 2/50\n",
            "250/250 [==============================] - 32s 128ms/step - loss: 0.5901 - accuracy: 0.6881 - val_loss: 0.5380 - val_accuracy: 0.7375\n",
            "Epoch 3/50\n",
            "250/250 [==============================] - 32s 128ms/step - loss: 0.5449 - accuracy: 0.7249 - val_loss: 0.5195 - val_accuracy: 0.7550\n",
            "Epoch 4/50\n",
            "250/250 [==============================] - 32s 128ms/step - loss: 0.5127 - accuracy: 0.7433 - val_loss: 0.5062 - val_accuracy: 0.7570\n",
            "Epoch 5/50\n",
            "250/250 [==============================] - 32s 128ms/step - loss: 0.4908 - accuracy: 0.7616 - val_loss: 0.4974 - val_accuracy: 0.7645\n",
            "Epoch 6/50\n",
            "250/250 [==============================] - 32s 128ms/step - loss: 0.4675 - accuracy: 0.7761 - val_loss: 0.4947 - val_accuracy: 0.7665\n",
            "Epoch 7/50\n",
            "250/250 [==============================] - 32s 128ms/step - loss: 0.4613 - accuracy: 0.7755 - val_loss: 0.4840 - val_accuracy: 0.7850\n",
            "Epoch 8/50\n",
            "250/250 [==============================] - 32s 128ms/step - loss: 0.4431 - accuracy: 0.7900 - val_loss: 0.4756 - val_accuracy: 0.7775\n",
            "Epoch 9/50\n",
            "250/250 [==============================] - 32s 128ms/step - loss: 0.4295 - accuracy: 0.7981 - val_loss: 0.4794 - val_accuracy: 0.7850\n",
            "Epoch 10/50\n",
            "250/250 [==============================] - 32s 128ms/step - loss: 0.4107 - accuracy: 0.8136 - val_loss: 0.5375 - val_accuracy: 0.7615\n",
            "Epoch 11/50\n",
            "250/250 [==============================] - 32s 128ms/step - loss: 0.4037 - accuracy: 0.8136 - val_loss: 0.4474 - val_accuracy: 0.8040\n",
            "Epoch 12/50\n",
            "250/250 [==============================] - 32s 128ms/step - loss: 0.3928 - accuracy: 0.8207 - val_loss: 0.4620 - val_accuracy: 0.7950\n",
            "Epoch 13/50\n",
            "250/250 [==============================] - 32s 129ms/step - loss: 0.3711 - accuracy: 0.8340 - val_loss: 0.4959 - val_accuracy: 0.8005\n",
            "Epoch 14/50\n",
            "250/250 [==============================] - 32s 128ms/step - loss: 0.3627 - accuracy: 0.8374 - val_loss: 0.4925 - val_accuracy: 0.7975\n",
            "Epoch 15/50\n",
            "250/250 [==============================] - 32s 129ms/step - loss: 0.3477 - accuracy: 0.8453 - val_loss: 0.4499 - val_accuracy: 0.8000\n",
            "Epoch 16/50\n",
            "250/250 [==============================] - 32s 128ms/step - loss: 0.3420 - accuracy: 0.8464 - val_loss: 0.4952 - val_accuracy: 0.7960\n",
            "Epoch 17/50\n",
            "250/250 [==============================] - 32s 128ms/step - loss: 0.3281 - accuracy: 0.8519 - val_loss: 0.5106 - val_accuracy: 0.7970\n",
            "Epoch 18/50\n",
            "250/250 [==============================] - 32s 128ms/step - loss: 0.3129 - accuracy: 0.8650 - val_loss: 0.5514 - val_accuracy: 0.7745\n",
            "Epoch 19/50\n",
            "250/250 [==============================] - 32s 128ms/step - loss: 0.2957 - accuracy: 0.8699 - val_loss: 0.5061 - val_accuracy: 0.8065\n",
            "Epoch 20/50\n",
            "250/250 [==============================] - 32s 128ms/step - loss: 0.2870 - accuracy: 0.8739 - val_loss: 0.5196 - val_accuracy: 0.8140\n",
            "Epoch 21/50\n",
            "250/250 [==============================] - 32s 128ms/step - loss: 0.2748 - accuracy: 0.8840 - val_loss: 0.5669 - val_accuracy: 0.7970\n",
            "Epoch 22/50\n",
            "250/250 [==============================] - 32s 128ms/step - loss: 0.2600 - accuracy: 0.8929 - val_loss: 0.5222 - val_accuracy: 0.7975\n",
            "Epoch 23/50\n",
            "250/250 [==============================] - 32s 128ms/step - loss: 0.2358 - accuracy: 0.9046 - val_loss: 0.5512 - val_accuracy: 0.8030\n",
            "Epoch 24/50\n",
            "250/250 [==============================] - 32s 128ms/step - loss: 0.2430 - accuracy: 0.8957 - val_loss: 0.5467 - val_accuracy: 0.7955\n",
            "Epoch 25/50\n",
            "250/250 [==============================] - 32s 128ms/step - loss: 0.2294 - accuracy: 0.9036 - val_loss: 0.5365 - val_accuracy: 0.8045\n",
            "Epoch 26/50\n",
            "250/250 [==============================] - 32s 129ms/step - loss: 0.2190 - accuracy: 0.9130 - val_loss: 0.6265 - val_accuracy: 0.7985\n",
            "Epoch 27/50\n",
            "250/250 [==============================] - 32s 128ms/step - loss: 0.2100 - accuracy: 0.9118 - val_loss: 0.6215 - val_accuracy: 0.7980\n",
            "Epoch 28/50\n",
            "250/250 [==============================] - 32s 128ms/step - loss: 0.1986 - accuracy: 0.9179 - val_loss: 0.6149 - val_accuracy: 0.8105\n",
            "Epoch 29/50\n",
            "250/250 [==============================] - 32s 128ms/step - loss: 0.1878 - accuracy: 0.9279 - val_loss: 0.6366 - val_accuracy: 0.7965\n",
            "Epoch 30/50\n",
            "250/250 [==============================] - 32s 128ms/step - loss: 0.1658 - accuracy: 0.9342 - val_loss: 0.6470 - val_accuracy: 0.8050\n",
            "Epoch 31/50\n",
            "250/250 [==============================] - 32s 128ms/step - loss: 0.1695 - accuracy: 0.9285 - val_loss: 0.6787 - val_accuracy: 0.7980\n",
            "Epoch 32/50\n",
            "250/250 [==============================] - 32s 129ms/step - loss: 0.1583 - accuracy: 0.9390 - val_loss: 0.7484 - val_accuracy: 0.7885\n",
            "Epoch 33/50\n",
            "250/250 [==============================] - 33s 130ms/step - loss: 0.1560 - accuracy: 0.9377 - val_loss: 0.7629 - val_accuracy: 0.7885\n",
            "Epoch 34/50\n",
            "250/250 [==============================] - 32s 130ms/step - loss: 0.1562 - accuracy: 0.9385 - val_loss: 0.6919 - val_accuracy: 0.8020\n",
            "Epoch 35/50\n",
            "250/250 [==============================] - 33s 130ms/step - loss: 0.1482 - accuracy: 0.9427 - val_loss: 0.6943 - val_accuracy: 0.7910\n",
            "Epoch 36/50\n",
            "250/250 [==============================] - 32s 130ms/step - loss: 0.1350 - accuracy: 0.9480 - val_loss: 0.7951 - val_accuracy: 0.7840\n",
            "Epoch 37/50\n",
            "250/250 [==============================] - 33s 130ms/step - loss: 0.1367 - accuracy: 0.9473 - val_loss: 0.7615 - val_accuracy: 0.7940\n",
            "Epoch 38/50\n",
            "250/250 [==============================] - 32s 129ms/step - loss: 0.1259 - accuracy: 0.9524 - val_loss: 0.7856 - val_accuracy: 0.7805\n",
            "Epoch 39/50\n",
            "250/250 [==============================] - 33s 130ms/step - loss: 0.1266 - accuracy: 0.9511 - val_loss: 0.7750 - val_accuracy: 0.8015\n",
            "Epoch 40/50\n",
            "250/250 [==============================] - 32s 130ms/step - loss: 0.1206 - accuracy: 0.9550 - val_loss: 0.8461 - val_accuracy: 0.7655\n",
            "Epoch 41/50\n",
            "250/250 [==============================] - 32s 129ms/step - loss: 0.1151 - accuracy: 0.9531 - val_loss: 0.8151 - val_accuracy: 0.7870\n",
            "Epoch 42/50\n",
            "250/250 [==============================] - 32s 130ms/step - loss: 0.0983 - accuracy: 0.9621 - val_loss: 0.8639 - val_accuracy: 0.7985\n",
            "Epoch 43/50\n",
            "250/250 [==============================] - 32s 130ms/step - loss: 0.1039 - accuracy: 0.9609 - val_loss: 0.8489 - val_accuracy: 0.7845\n",
            "Epoch 44/50\n",
            "250/250 [==============================] - 32s 130ms/step - loss: 0.1078 - accuracy: 0.9554 - val_loss: 0.8621 - val_accuracy: 0.7830\n",
            "Epoch 45/50\n",
            "250/250 [==============================] - 32s 130ms/step - loss: 0.0963 - accuracy: 0.9632 - val_loss: 1.0584 - val_accuracy: 0.7715\n",
            "Epoch 46/50\n",
            "250/250 [==============================] - 32s 130ms/step - loss: 0.1041 - accuracy: 0.9592 - val_loss: 0.8699 - val_accuracy: 0.7830\n",
            "Epoch 47/50\n",
            "250/250 [==============================] - 32s 130ms/step - loss: 0.0915 - accuracy: 0.9661 - val_loss: 0.8931 - val_accuracy: 0.7895\n",
            "Epoch 48/50\n",
            "250/250 [==============================] - 32s 130ms/step - loss: 0.0946 - accuracy: 0.9649 - val_loss: 0.8656 - val_accuracy: 0.7980\n",
            "Epoch 49/50\n",
            "250/250 [==============================] - 32s 130ms/step - loss: 0.0840 - accuracy: 0.9709 - val_loss: 0.9456 - val_accuracy: 0.7850\n",
            "Epoch 50/50\n",
            "250/250 [==============================] - 33s 130ms/step - loss: 0.0855 - accuracy: 0.9706 - val_loss: 0.9564 - val_accuracy: 0.7855\n"
          ]
        }
      ]
    },
    {
      "cell_type": "markdown",
      "metadata": {
        "id": "U3PZasO0006Z",
        "pycharm": {
          "name": "#%% md\n"
        }
      },
      "source": [
        "## Part 4 - Making a single prediction"
      ]
    },
    {
      "cell_type": "code",
      "execution_count": 55,
      "metadata": {
        "id": "gsSiWEJY1BPB",
        "pycharm": {
          "name": "#%%\n"
        },
        "colab": {
          "base_uri": "https://localhost:8080/"
        },
        "outputId": "a1b7c8c7-e51b-4196-9c8b-0c736e147ff4"
      },
      "outputs": [
        {
          "output_type": "stream",
          "name": "stdout",
          "text": [
            "1/1 [==============================] - 0s 20ms/step\n",
            "{'cats': 0, 'dogs': 1}\n"
          ]
        }
      ],
      "source": [
        "import numpy as np\n",
        "from keras.preprocessing import image\n",
        "test_image = tf.keras.utils.load_img('/content/dataset/single_prediction/cat_or_dog_1.jpg', target_size = (64, 64))\n",
        "test_image_as_batch = np.expand_dims(test_image, axis = 0)\n",
        "result = cnn.predict(test_image_as_batch)\n",
        "training_set.class_indices\n",
        "if result[0][0] == 1:\n",
        "  prediction = 'dog'\n",
        "else:\n",
        "  prediction = 'cat'\n",
        "print(training_set.class_indices)"
      ]
    },
    {
      "cell_type": "code",
      "execution_count": 56,
      "metadata": {
        "id": "ED9KB3I54c1i",
        "scrolled": true,
        "pycharm": {
          "name": "#%%\n"
        },
        "colab": {
          "base_uri": "https://localhost:8080/",
          "height": 286
        },
        "outputId": "e936f130-27b2-4e4e-a8e9-b7f5ae0f512b"
      },
      "outputs": [
        {
          "output_type": "stream",
          "name": "stdout",
          "text": [
            "Model predicted: dog\n"
          ]
        },
        {
          "output_type": "display_data",
          "data": {
            "text/plain": [
              "<Figure size 432x288 with 1 Axes>"
            ],
            "image/png": "[encoded data removed]"
          },
          "metadata": {
            "needs_background": "light"
          }
        }
      ],
      "source": [
        "from matplotlib import pyplot as plt\n",
        "plt.imshow(test_image)\n",
        "print(f'Model predicted: {prediction}')"
      ]
    },
    {
      "cell_type": "markdown",
      "source": [
        "## Visualization of the Loss\n"
      ],
      "metadata": {
        "collapsed": false,
        "pycharm": {
          "name": "#%% md\n"
        },
        "id": "zf-Xa24g8pkV"
      }
    },
    {
      "cell_type": "code",
      "execution_count": 53,
      "metadata": {
        "id": "-wHm-5Mu8pkV",
        "pycharm": {
          "name": "#%%\n"
        },
        "colab": {
          "base_uri": "https://localhost:8080/",
          "height": 295
        },
        "outputId": "e4b23135-b2c9-497f-c661-330ae4b3976b"
      },
      "outputs": [
        {
          "output_type": "display_data",
          "data": {
            "text/plain": [
              "<Figure size 432x288 with 1 Axes>"
            ],
            "image/png": "[encoded data removed]"
          },
          "metadata": {
            "needs_background": "light"
          }
        }
      ],
      "source": [
        "from matplotlib import pyplot as plt\n",
        "plt.plot(history.history['loss'])\n",
        "plt.plot(history.history['val_loss'])\n",
        "plt.title('model loss')\n",
        "plt.ylabel('loss')\n",
        "plt.xlabel('epoch')\n",
        "plt.legend(['train', 'val'], loc='upper left')\n",
        "plt.show()"
      ]
    },
    {
      "cell_type": "code",
      "execution_count": 54,
      "metadata": {
        "id": "Pmzw_q9s8pkV",
        "pycharm": {
          "name": "#%%\n"
        },
        "colab": {
          "base_uri": "https://localhost:8080/",
          "height": 295
        },
        "outputId": "c4cd0a89-19f4-410b-dc52-6c0f5d14cd34"
      },
      "outputs": [
        {
          "output_type": "display_data",
          "data": {
            "text/plain": [
              "<Figure size 432x288 with 1 Axes>"
            ],
            "image/png": "[encoded data removed]"
          },
          "metadata": {
            "needs_background": "light"
          }
        }
      ],
      "source": [
        "plt.plot(history.history['accuracy'])\n",
        "plt.plot(history.history['val_accuracy'])\n",
        "plt.title('model accuracy')\n",
        "plt.ylabel('accuracy')\n",
        "plt.xlabel('epoch')\n",
        "plt.legend(['train', 'val'], loc='upper left')\n",
        "plt.show()"
      ]
    },
    {
      "cell_type": "code",
      "execution_count": 61,
      "metadata": {
        "id": "GNsEodwd8pkW",
        "pycharm": {
          "name": "#%%\n"
        },
        "colab": {
          "base_uri": "https://localhost:8080/"
        },
        "outputId": "0f8c3335-b331-407c-8a92-eccf315a04fa"
      },
      "outputs": [
        {
          "output_type": "stream",
          "name": "stdout",
          "text": [
            "loss : 0.09\n",
            "accuracy : 0.97\n",
            "val_loss : 0.96\n",
            "val_accuracy : 0.79\n"
          ]
        }
      ],
      "source": [
        "for key, val in history.history.items(): \n",
        "  print(f'{key} : {round(val[-1], 2)}')"
      ]
    },
    {
      "cell_type": "code",
      "execution_count": 60,
      "metadata": {
        "id": "cuxNueiF8pkW",
        "pycharm": {
          "name": "#%%\n"
        },
        "colab": {
          "base_uri": "https://localhost:8080/"
        },
        "outputId": "613989a9-312a-4d85-f9eb-1752a67da6b9"
      },
      "outputs": [
        {
          "output_type": "stream",
          "name": "stdout",
          "text": [
            "The model accuracy is: 0.79\n"
          ]
        }
      ],
      "source": [
        "accuracy = round(history.history['val_accuracy'][-1], 2)\n",
        "print(f'The model accuracy is: {accuracy}')"
      ]
    }
  ],
  "metadata": {
    "colab": {
      "provenance": [],
      "machine_shape": "hm"
    },
    "kernelspec": {
      "display_name": "Python 3 (ipykernel)",
      "language": "python",
      "name": "python3"
    },
    "language_info": {
      "codemirror_mode": {
        "name": "ipython",
        "version": 3
      },
      "file_extension": ".py",
      "mimetype": "text/x-python",
      "name": "python",
      "nbconvert_exporter": "python",
      "pygments_lexer": "ipython3",
      "version": "3.8.10"
    },
    "accelerator": "GPU",
    "gpuClass": "premium"
  },
  "nbformat": 4,
  "nbformat_minor": 0
}