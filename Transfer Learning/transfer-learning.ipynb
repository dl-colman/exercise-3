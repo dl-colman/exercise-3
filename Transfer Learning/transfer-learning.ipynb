{
 "cells": [
  {
   "cell_type": "markdown",
   "source": [
    "# Transfer Learning from MobileNet - Dog vs Cats vs Horses\n",
    "This notebook contains the code that support [the blog on transfer learning.](https://towardsdatascience.com/keras-transfer-learning-for-beginners-6c9b8b7143e) "
   ],
   "metadata": {
    "id": "PoJXPIaNUyqb"
   }
  },
  {
   "cell_type": "code",
   "source": [
    "from google.colab import drive\n",
    "drive.mount('/content/drive')"
   ],
   "metadata": {
    "colab": {
     "base_uri": "https://localhost:8080/"
    },
    "id": "PdEUoD8GEKCF",
    "executionInfo": {
     "status": "ok",
     "timestamp": 1640088026543,
     "user_tz": -120,
     "elapsed": 14904,
     "user": {
      "displayName": "Aviv dl-colman",
      "photoUrl": "https://lh3.googleusercontent.com/a/default-user=s64",
      "userId": "07773124918580429658"
     }
    },
    "outputId": "d6dd943f-b8f4-4b56-df88-ab38c4b32940",
    "pycharm": {
     "is_executing": true
    }
   },
   "execution_count": null,
   "outputs": []
  },
  {
   "cell_type": "markdown",
   "source": [
    "### Importing the libraries"
   ],
   "metadata": {
    "id": "tOYcmdnbVJQp"
   }
  },
  {
   "cell_type": "code",
   "execution_count": 9,
   "metadata": {
    "id": "kHUXogFSClTm",
    "executionInfo": {
     "status": "ok",
     "timestamp": 1640088030516,
     "user_tz": -120,
     "elapsed": 245,
     "user": {
      "displayName": "Aviv dl-colman",
      "photoUrl": "https://lh3.googleusercontent.com/a/default-user=s64",
      "userId": "07773124918580429658"
     }
    }
   },
   "outputs": [],
   "source": [
    "import pandas as pd\n",
    "import numpy as np\n",
    "import os\n",
    "import keras\n",
    "import matplotlib.pyplot as plt\n",
    "from keras.layers import Dense,GlobalAveragePooling2D\n",
    "from tensorflow.keras.applications.mobilenet import MobileNet\n",
    "from keras.preprocessing import image\n",
    "from tensorflow.keras.applications.mobilenet import preprocess_input\n",
    "from keras.preprocessing.image import ImageDataGenerator\n",
    "from keras.models import Model\n",
    "from tensorflow.keras.optimizers import Adam"
   ]
  },
  {
   "cell_type": "markdown",
   "source": [
    "## Imports The MobileNet Model\n",
    "Imports the mobilenet model and **discards the last 1000 neuron layer**."
   ],
   "metadata": {
    "id": "ZPVDDefJVe3t"
   }
  },
  {
   "cell_type": "code",
   "execution_count": null,
   "metadata": {
    "colab": {
     "base_uri": "https://localhost:8080/"
    },
    "id": "tpvf3og-ClTw",
    "executionInfo": {
     "status": "ok",
     "timestamp": 1640087995729,
     "user_tz": -120,
     "elapsed": 1281,
     "user": {
      "displayName": "Aviv dl-colman",
      "photoUrl": "https://lh3.googleusercontent.com/a/default-user=s64",
      "userId": "07773124918580429658"
     }
    },
    "outputId": "0d4e8549-2936-48d2-f85f-86137f3ad214",
    "pycharm": {
     "is_executing": true
    }
   },
   "outputs": [],
   "source": [
    "base_model=MobileNet(weights='imagenet',include_top=False) "
   ]
  },
  {
   "cell_type": "markdown",
   "source": [
    "# Add layers of our own\n",
    "We add dense layers so that the model can learn more complex functions and classify for better results. "
   ],
   "metadata": {
    "id": "2JTGwAqLlWQd"
   }
  },
  {
   "cell_type": "code",
   "source": [
    "x=base_model.output\n",
    "x=GlobalAveragePooling2D()(x)\n",
    "x=Dense(1024,activation='relu')(x)\n",
    "x=Dense(1024,activation='relu')(x) \n",
    "x=Dense(512,activation='relu')(x) \n",
    "preds=Dense(3,activation='softmax')(x) # 3 -> 4"
   ],
   "metadata": {
    "id": "WA2r43ZfV6b-",
    "executionInfo": {
     "status": "ok",
     "timestamp": 1640087995730,
     "user_tz": -120,
     "elapsed": 12,
     "user": {
      "displayName": "Aviv dl-colman",
      "photoUrl": "https://lh3.googleusercontent.com/a/default-user=s64",
      "userId": "07773124918580429658"
     }
    }
   },
   "execution_count": 4,
   "outputs": []
  },
  {
   "cell_type": "markdown",
   "source": [
    "*   Specify the inputs\n",
    "*   Specify the outputs\n",
    "\n",
    "Now a model has been created based on our architecture 🏆"
   ],
   "metadata": {
    "id": "ICENQvZBmArH"
   }
  },
  {
   "cell_type": "code",
   "execution_count": 5,
   "metadata": {
    "id": "_-OuzkphClTy",
    "executionInfo": {
     "status": "ok",
     "timestamp": 1640087995730,
     "user_tz": -120,
     "elapsed": 10,
     "user": {
      "displayName": "Aviv dl-colman",
      "photoUrl": "https://lh3.googleusercontent.com/a/default-user=s64",
      "userId": "07773124918580429658"
     }
    }
   },
   "outputs": [],
   "source": [
    "model=Model(inputs=base_model.input,outputs=preds)"
   ]
  },
  {
   "cell_type": "markdown",
   "source": [
    "Layers & models also feature a boolean attribute `trainable`. Its value can be changed.\n",
    "Setting `layer.trainable` to `False` moves all the layer's weights from trainable to\n",
    "non-trainable.  This is called \"freezing\" the layer: the state of a frozen layer won't\n",
    "be updated during training (either when training with `fit()` or when training with\n",
    " any custom loop that relies on `trainable_weights` to apply gradient updates).<br> \n",
    " When a trainable weight becomes non-trainable, its value is no longer updated during\n",
    " training.\n",
    "\n",
    "**Example: setting `trainable` to `False`**<br><br>\n",
    "**Very Importent** : The setting of `trainable` are **Recursive** <br>\n",
    "If you set `trainable = False` on a model or on any layer that has sublayers,\n",
    "all children layers become non-trainable as well.\n"
   ],
   "metadata": {
    "id": "TUGUOq--msLT"
   }
  },
  {
   "cell_type": "code",
   "execution_count": 6,
   "metadata": {
    "id": "R2ucMP1yClTz",
    "executionInfo": {
     "status": "ok",
     "timestamp": 1640087995731,
     "user_tz": -120,
     "elapsed": 10,
     "user": {
      "displayName": "Aviv dl-colman",
      "photoUrl": "https://lh3.googleusercontent.com/a/default-user=s64",
      "userId": "07773124918580429658"
     }
    }
   },
   "outputs": [],
   "source": [
    "for layer in model.layers[:20]:\n",
    "    layer.trainable=False\n",
    "for layer in model.layers[20:]:\n",
    "    layer.trainable=True"
   ]
  },
  {
   "cell_type": "markdown",
   "source": [
    "## Data Preprocessing of Our Data\n"
   ],
   "metadata": {
    "id": "7jue9K7Tn6co"
   }
  },
  {
   "cell_type": "code",
   "execution_count": null,
   "metadata": {
    "colab": {
     "base_uri": "https://localhost:8080/"
    },
    "id": "3bv1LRMSClT0",
    "executionInfo": {
     "status": "ok",
     "timestamp": 1640088070270,
     "user_tz": -120,
     "elapsed": 580,
     "user": {
      "displayName": "Aviv dl-colman",
      "photoUrl": "https://lh3.googleusercontent.com/a/default-user=s64",
      "userId": "07773124918580429658"
     }
    },
    "outputId": "cf6cb907-5ff0-4f16-9427-4bd2ddcad054",
    "pycharm": {
     "is_executing": true
    }
   },
   "outputs": [],
   "source": [
    "train_datagen=ImageDataGenerator(preprocessing_function=preprocess_input) #included in our dependencies\n",
    "\n",
    "train_generator=train_datagen.flow_from_directory('/content/drive/MyDrive/exercise-3/transfer-learning/train', # this is where you specify the path to the main data folder\n",
    "                                                 target_size=(224,224),\n",
    "                                                 color_mode='rgb',\n",
    "                                                 batch_size=32,\n",
    "                                                 class_mode='categorical',\n",
    "                                                 shuffle=True)"
   ]
  },
  {
   "cell_type": "markdown",
   "source": [
    "### Compiling the NN"
   ],
   "metadata": {
    "id": "7QRZcd8ft5x2"
   }
  },
  {
   "cell_type": "code",
   "source": [
    "model.compile(optimizer='Adam',loss='categorical_crossentropy',metrics=['accuracy'])\n"
   ],
   "metadata": {
    "id": "Ufe_XsaJt7qr",
    "executionInfo": {
     "status": "ok",
     "timestamp": 1640088075122,
     "user_tz": -120,
     "elapsed": 229,
     "user": {
      "displayName": "Aviv dl-colman",
      "photoUrl": "https://lh3.googleusercontent.com/a/default-user=s64",
      "userId": "07773124918580429658"
     }
    }
   },
   "execution_count": 11,
   "outputs": []
  },
  {
   "cell_type": "markdown",
   "source": [
    "### Training"
   ],
   "metadata": {
    "id": "IFw3lz5dognA"
   }
  },
  {
   "cell_type": "code",
   "execution_count": null,
   "metadata": {
    "colab": {
     "base_uri": "https://localhost:8080/"
    },
    "id": "Tti3-t45ClT2",
    "executionInfo": {
     "status": "ok",
     "timestamp": 1640088207035,
     "user_tz": -120,
     "elapsed": 126687,
     "user": {
      "displayName": "Aviv dl-colman",
      "photoUrl": "https://lh3.googleusercontent.com/a/default-user=s64",
      "userId": "07773124918580429658"
     }
    },
    "outputId": "13d08045-dace-4a88-b59f-937b621726f9",
    "pycharm": {
     "is_executing": true
    }
   },
   "outputs": [],
   "source": [
    "step_size_train=train_generator.n//train_generator.batch_size\n",
    "model.fit_generator(generator=train_generator, steps_per_epoch=step_size_train, epochs=5)"
   ]
  },
  {
   "cell_type": "code",
   "source": [
    "model.summary()"
   ],
   "metadata": {
    "id": "W2nQpMzNFLgY",
    "executionInfo": {
     "status": "ok",
     "timestamp": 1640088347125,
     "user_tz": -120,
     "elapsed": 254,
     "user": {
      "displayName": "Aviv dl-colman",
      "photoUrl": "https://lh3.googleusercontent.com/a/default-user=s64",
      "userId": "07773124918580429658"
     }
    },
    "colab": {
     "base_uri": "https://localhost:8080/"
    },
    "outputId": "a0f60ba2-a29b-44d1-fe61-429375bf96f0",
    "pycharm": {
     "is_executing": true
    }
   },
   "execution_count": null,
   "outputs": []
  },
  {
   "cell_type": "markdown",
   "source": [
    "## Single Prediction"
   ],
   "metadata": {
    "id": "HBi3Xv2iUrQr"
   }
  },
  {
   "cell_type": "code",
   "source": [
    "in_classes = {y:x for x,y in train_generator.class_indices.items()}\n",
    "in_classes"
   ],
   "metadata": {
    "id": "IdV6l6TOFpt1",
    "executionInfo": {
     "status": "ok",
     "timestamp": 1640088354021,
     "user_tz": -120,
     "elapsed": 277,
     "user": {
      "displayName": "Aviv dl-colman",
      "photoUrl": "https://lh3.googleusercontent.com/a/default-user=s64",
      "userId": "07773124918580429658"
     }
    },
    "colab": {
     "base_uri": "https://localhost:8080/"
    },
    "outputId": "ecdb2c74-9fd9-4df5-dfab-5ece1f16396b",
    "pycharm": {
     "is_executing": true
    }
   },
   "execution_count": null,
   "outputs": []
  },
  {
   "cell_type": "code",
   "source": [
    "from keras.preprocessing import image\n",
    "test_image = image.load_img('/content/drive/MyDrive/exercise-3/transfer-learning/single/dog2.jpg', target_size = (224, 224))\n",
    "test_image = image.img_to_array(test_image)\n",
    "test_image = test_image/255\n",
    "test_image = np.expand_dims(test_image, axis = 0)\n",
    "result = model.predict(test_image)\n",
    "result = np.argmax(result)\n",
    "print(in_classes[result])\n"
   ],
   "metadata": {
    "id": "LYA-ft3qGGPQ",
    "executionInfo": {
     "status": "ok",
     "timestamp": 1640088615524,
     "user_tz": -120,
     "elapsed": 248,
     "user": {
      "displayName": "Aviv dl-colman",
      "photoUrl": "https://lh3.googleusercontent.com/a/default-user=s64",
      "userId": "07773124918580429658"
     }
    },
    "colab": {
     "base_uri": "https://localhost:8080/"
    },
    "outputId": "5723602f-c863-462c-c30d-720082da218c",
    "pycharm": {
     "is_executing": true
    }
   },
   "execution_count": null,
   "outputs": []
  }
 ],
 "metadata": {
  "kernelspec": {
   "display_name": "Python 3",
   "language": "python",
   "name": "python3"
  },
  "language_info": {
   "codemirror_mode": {
    "name": "ipython",
    "version": 3
   },
   "file_extension": ".py",
   "mimetype": "text/x-python",
   "name": "python",
   "nbconvert_exporter": "python",
   "pygments_lexer": "ipython3",
   "version": "3.5.4"
  },
  "colab": {
   "name": "transfer-learning.ipynb",
   "provenance": [],
   "collapsed_sections": []
  },
  "accelerator": "TPU"
 },
 "nbformat": 4,
 "nbformat_minor": 0
}