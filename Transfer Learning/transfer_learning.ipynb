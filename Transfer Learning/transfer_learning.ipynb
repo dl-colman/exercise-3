{
  "cells": [
    {
      "cell_type": "markdown",
      "source": [
        "# Transfer Learning from MobileNet - Dog vs Cats vs Horses\n",
        "This notebook contains the code that support [the blog on transfer learning.](https://towardsdatascience.com/keras-transfer-learning-for-beginners-6c9b8b7143e) "
      ],
      "metadata": {
        "id": "PoJXPIaNUyqb"
      }
    },
    {
      "cell_type": "code",
      "source": [
        "from google.colab import drive\n",
        "drive.mount('/content/drive')"
      ],
      "metadata": {
        "id": "PdEUoD8GEKCF",
        "pycharm": {
          "is_executing": true
        }
      },
      "execution_count": null,
      "outputs": []
    },
    {
      "cell_type": "markdown",
      "source": [
        "## Importing the libraries"
      ],
      "metadata": {
        "id": "tOYcmdnbVJQp"
      }
    },
    {
      "cell_type": "code",
      "execution_count": 2,
      "metadata": {
        "id": "kHUXogFSClTm"
      },
      "outputs": [],
      "source": [
        "import pandas as pd\n",
        "import numpy as np\n",
        "import os\n",
        "import keras\n",
        "import matplotlib.pyplot as plt\n",
        "from keras.layers import Dense,GlobalAveragePooling2D\n",
        "from tensorflow.keras.applications.mobilenet import MobileNet\n",
        "from keras.preprocessing import image\n",
        "from tensorflow.keras.applications.mobilenet import preprocess_input\n",
        "from keras.preprocessing.image import ImageDataGenerator\n",
        "from keras.models import Model\n",
        "from tensorflow.keras.optimizers import Adam"
      ]
    },
    {
      "cell_type": "markdown",
      "source": [
        "## Imports The MobileNet Model\n",
        "Imports the mobilenet model and **discards the last 1000 neuron layer**."
      ],
      "metadata": {
        "id": "ZPVDDefJVe3t"
      }
    },
    {
      "cell_type": "code",
      "execution_count": null,
      "metadata": {
        "id": "tpvf3og-ClTw",
        "pycharm": {
          "is_executing": true
        }
      },
      "outputs": [],
      "source": [
        "base_model=MobileNet(weights='imagenet',include_top=False) "
      ]
    },
    {
      "cell_type": "markdown",
      "source": [
        "## Add layers of our own\n",
        "We add dense layers so that the model can learn more complex functions and classify for better results. "
      ],
      "metadata": {
        "id": "2JTGwAqLlWQd"
      }
    },
    {
      "cell_type": "code",
      "source": [
        "x=base_model.output\n",
        "x=GlobalAveragePooling2D()(x)\n",
        "x=Dense(1024,activation='relu')(x)\n",
        "x=Dense(1024,activation='relu')(x) \n",
        "x=Dense(512,activation='relu')(x) \n",
        "preds=Dense(3,activation='softmax')(x) # 3 -> 4\n"
      ],
      "metadata": {
        "id": "WA2r43ZfV6b-"
      },
      "execution_count": 4,
      "outputs": []
    },
    {
      "cell_type": "markdown",
      "source": [
        "*   Specify the inputs\n",
        "*   Specify the outputs\n",
        "\n",
        "Now a model has been created based on our architecture 🏆"
      ],
      "metadata": {
        "id": "ICENQvZBmArH"
      }
    },
    {
      "cell_type": "code",
      "execution_count": 5,
      "metadata": {
        "id": "_-OuzkphClTy"
      },
      "outputs": [],
      "source": [
        "model=Model(inputs=base_model.input,outputs=preds)"
      ]
    },
    {
      "cell_type": "markdown",
      "source": [
        "Layers & models also feature a boolean attribute `trainable`. Its value can be changed.\n",
        "Setting `layer.trainable` to `False` moves all the layer's weights from trainable to\n",
        "non-trainable.  This is called \"freezing\" the layer: the state of a frozen layer won't\n",
        "be updated during training (either when training with `fit()` or when training with\n",
        " any custom loop that relies on `trainable_weights` to apply gradient updates).<br> \n",
        " When a trainable weight becomes non-trainable, its value is no longer updated during\n",
        " training.\n",
        "\n",
        "**Example: setting `trainable` to `False`**<br><br>\n",
        "**Very Importent** : The setting of `trainable` are **Recursive** <br>\n",
        "If you set `trainable = False` on a model or on any layer that has sublayers,\n",
        "all children layers become non-trainable as well.\n"
      ],
      "metadata": {
        "id": "TUGUOq--msLT"
      }
    },
    {
      "cell_type": "code",
      "execution_count": 6,
      "metadata": {
        "id": "R2ucMP1yClTz"
      },
      "outputs": [],
      "source": [
        "for layer in model.layers[:-4]:\n",
        "    layer.trainable=False"
      ]
    },
    {
      "cell_type": "markdown",
      "source": [
        "## Data Preprocessing\n"
      ],
      "metadata": {
        "id": "7jue9K7Tn6co"
      }
    },
    {
      "cell_type": "code",
      "execution_count": null,
      "metadata": {
        "id": "3bv1LRMSClT0",
        "pycharm": {
          "is_executing": true
        }
      },
      "outputs": [],
      "source": [
        "train_datagen=ImageDataGenerator(preprocessing_function=preprocess_input) #included in our dependencies\n",
        "\n",
        "train_generator=train_datagen.flow_from_directory('/content/drive/MyDrive/exercise-3/Transfer Learning/train', # this is where you specify the path to the main data folder\n",
        "                                                 target_size=(224,224),\n",
        "                                                 color_mode='rgb',\n",
        "                                                 batch_size=32,\n",
        "                                                 class_mode='categorical',\n",
        "                                                 shuffle=True)"
      ]
    },
    {
      "cell_type": "code",
      "source": [
        "test_datagen = ImageDataGenerator(preprocessing_function=preprocess_input) \n",
        "test_set = test_datagen.flow_from_directory('/content/drive/MyDrive/exercise-3/Transfer Learning/test',\n",
        "                                            target_size = (224, 224),\n",
        "                                            color_mode='rgb',\n",
        "                                            batch_size = 32,\n",
        "                                            class_mode='categorical',\n",
        "                                            shuffle=True)"
      ],
      "metadata": {
        "id": "T1sP6J9-ycWn"
      },
      "execution_count": null,
      "outputs": []
    },
    {
      "cell_type": "markdown",
      "source": [
        "## Compiling the NN"
      ],
      "metadata": {
        "id": "7QRZcd8ft5x2"
      }
    },
    {
      "cell_type": "code",
      "source": [
        "model.compile(optimizer='Adam',loss='categorical_crossentropy',metrics=['accuracy'])"
      ],
      "metadata": {
        "id": "Ufe_XsaJt7qr"
      },
      "execution_count": 9,
      "outputs": []
    },
    {
      "cell_type": "markdown",
      "source": [
        "## Training"
      ],
      "metadata": {
        "id": "IFw3lz5dognA"
      }
    },
    {
      "cell_type": "code",
      "execution_count": null,
      "metadata": {
        "id": "Tti3-t45ClT2",
        "pycharm": {
          "is_executing": true
        }
      },
      "outputs": [],
      "source": [
        "step_size_train=train_generator.n//train_generator.batch_size\n",
        "history = model.fit_generator(generator=train_generator, steps_per_epoch=step_size_train, epochs=5)"
      ]
    },
    {
      "cell_type": "code",
      "source": [
        "model.summary()"
      ],
      "metadata": {
        "id": "W2nQpMzNFLgY",
        "pycharm": {
          "is_executing": true
        }
      },
      "execution_count": null,
      "outputs": []
    },
    {
      "cell_type": "markdown",
      "source": [
        "## Visualization of the Loss\n"
      ],
      "metadata": {
        "id": "6w2P7sRD0GaA"
      }
    },
    {
      "cell_type": "code",
      "source": [
        "from matplotlib import pyplot as plt\n",
        "plt.plot(history.history['loss'])\n",
        "plt.title('model loss')\n",
        "plt.ylabel('loss')\n",
        "plt.xlabel('epoch')\n",
        "plt.legend(['train', 'val'], loc='upper left')\n",
        "plt.show()"
      ],
      "metadata": {
        "id": "2rER-BD30GvX"
      },
      "execution_count": null,
      "outputs": []
    },
    {
      "cell_type": "code",
      "source": [
        "plt.plot(history.history['accuracy'])\n",
        "plt.title('model accuracy')\n",
        "plt.ylabel('accuracy')\n",
        "plt.xlabel('epoch')\n",
        "plt.legend(['train', 'val'], loc='upper left')\n",
        "plt.show()"
      ],
      "metadata": {
        "id": "MFeJ9JwZ0YgR"
      },
      "execution_count": null,
      "outputs": []
    },
    {
      "cell_type": "markdown",
      "source": [
        "## Train's loss and accuracy"
      ],
      "metadata": {
        "id": "SRoW197L0vm_"
      }
    },
    {
      "cell_type": "code",
      "source": [
        "for key, val in history.history.items(): \n",
        "  print(f'{key} : {round(val[-1], 2)}')"
      ],
      "metadata": {
        "id": "YxwEBLsK0wpE"
      },
      "execution_count": null,
      "outputs": []
    },
    {
      "cell_type": "markdown",
      "source": [
        "## Test Model"
      ],
      "metadata": {
        "id": "ZWgJRvxi2_US"
      }
    },
    {
      "cell_type": "code",
      "source": [
        "#evaluate and print test accuracy\n",
        "score = model.evaluate_generator(test_set, \n",
        "test_set.samples)\n",
        "print(f'\\n\\nTest accuracy: {score[1]}')"
      ],
      "metadata": {
        "id": "krW4Wqd9_Wpu"
      },
      "execution_count": null,
      "outputs": []
    },
    {
      "cell_type": "markdown",
      "source": [
        "## Single Prediction"
      ],
      "metadata": {
        "id": "HBi3Xv2iUrQr"
      }
    },
    {
      "cell_type": "code",
      "source": [
        "in_classes = {y:x for x,y in train_generator.class_indices.items()}\n",
        "in_classes"
      ],
      "metadata": {
        "id": "IdV6l6TOFpt1",
        "pycharm": {
          "is_executing": true
        }
      },
      "execution_count": null,
      "outputs": []
    },
    {
      "cell_type": "code",
      "source": [
        "from keras.preprocessing import image\n",
        "test_image = keras.utils.load_img('/content/drive/MyDrive/exercise-3/Transfer Learning/single/horse2.jpg', target_size = (224, 224))\n",
        "test_image = keras.utils.img_to_array(test_image)\n",
        "test_image = test_image/255\n",
        "test_image_as_batch = np.expand_dims(test_image, axis = 0)\n",
        "result = model.predict(test_image_as_batch)\n",
        "result = np.argmax(result)\n",
        "print(f'Model predicted: {in_classes[result]}')\n",
        "plt.imshow(test_image)"
      ],
      "metadata": {
        "id": "LYA-ft3qGGPQ",
        "pycharm": {
          "is_executing": true
        }
      },
      "execution_count": null,
      "outputs": []
    },
    {
      "cell_type": "markdown",
      "source": [
        "## Let's see how MobileNet works without our model"
      ],
      "metadata": {
        "id": "RkPHl9ycTeTZ"
      }
    },
    {
      "cell_type": "code",
      "source": [
        "mobile = keras.applications.mobilenet.MobileNet()"
      ],
      "metadata": {
        "id": "dJJkCoxqStpX"
      },
      "execution_count": null,
      "outputs": []
    },
    {
      "cell_type": "code",
      "source": [
        "from keras.applications.mobilenet import preprocess_input\n",
        "from keras.applications import imagenet_utils\n",
        "def prepare_image():\n",
        "    img = keras.utils.load_img('/content/drive/MyDrive/exercise-3/Transfer Learning/single/dog.jpg', target_size=(224, 224))\n",
        "    img_array = keras.utils.img_to_array(img)\n",
        "    img_array_expanded_dims = np.expand_dims(img_array, axis=0)\n",
        "    plt.imshow(img)\n",
        "    return preprocess_input(img_array_expanded_dims)"
      ],
      "metadata": {
        "id": "cO83W6UtREzU"
      },
      "execution_count": 141,
      "outputs": []
    },
    {
      "cell_type": "code",
      "source": [
        "preprocessed_image = prepare_image()\n",
        "predictions = mobile.predict(preprocessed_image)\n",
        "results = imagenet_utils.decode_predictions(predictions)\n",
        "results"
      ],
      "metadata": {
        "id": "OTEUJIoTPlZx"
      },
      "execution_count": null,
      "outputs": []
    }
  ],
  "metadata": {
    "kernelspec": {
      "display_name": "Python 3",
      "language": "python",
      "name": "python3"
    },
    "language_info": {
      "codemirror_mode": {
        "name": "ipython",
        "version": 3
      },
      "file_extension": ".py",
      "mimetype": "text/x-python",
      "name": "python",
      "nbconvert_exporter": "python",
      "pygments_lexer": "ipython3",
      "version": "3.5.4"
    },
    "colab": {
      "provenance": [],
      "toc_visible": true
    },
    "accelerator": "TPU"
  },
  "nbformat": 4,
  "nbformat_minor": 0
}