{
  "cells": [
    {
      "cell_type": "markdown",
      "source": [
        "# Transfer Learning from MobileNet - Exercise\n",
        "[IMAGENET 1000 Class List\n",
        "](https://deeplearning.cms.waikato.ac.nz/user-guide/class-maps/IMAGENET/)"
      ],
      "metadata": {
        "id": "PoJXPIaNUyqb"
      }
    },
    {
      "cell_type": "markdown",
      "source": [
        "## Importing the libraries"
      ],
      "metadata": {
        "id": "tOYcmdnbVJQp"
      }
    },
    {
      "cell_type": "code",
      "execution_count": 33,
      "metadata": {
        "id": "kHUXogFSClTm"
      },
      "outputs": [],
      "source": [
        "import tensorflow as tf\n",
        "import pandas as pd\n",
        "import numpy as np\n",
        "import os\n",
        "import keras\n",
        "import matplotlib.pyplot as plt\n",
        "from keras.layers import Dense,GlobalAveragePooling2D\n",
        "from tensorflow.keras.applications.mobilenet import MobileNet\n",
        "from keras.preprocessing import image\n",
        "from tensorflow.keras.applications.mobilenet import preprocess_input\n",
        "from keras.preprocessing.image import ImageDataGenerator\n",
        "from keras.models import Model\n",
        "from tensorflow.keras.optimizers import Adam"
      ]
    },
    {
      "cell_type": "markdown",
      "source": [
        "## Imports The MobileNet Model\n",
        "Imports the mobilenet model and **discards the last 1000 neuron layer**."
      ],
      "metadata": {
        "id": "ZPVDDefJVe3t"
      }
    },
    {
      "cell_type": "code",
      "execution_count": null,
      "metadata": {
        "id": "tpvf3og-ClTw",
        "pycharm": {
          "is_executing": true
        }
      },
      "outputs": [],
      "source": [
        "base_model=MobileNet(weights='imagenet',include_top=False) "
      ]
    },
    {
      "cell_type": "markdown",
      "source": [
        "## Add layers of our own\n",
        "We add dense layers so that the model can learn more complex functions and classify for better results. "
      ],
      "metadata": {
        "id": "2JTGwAqLlWQd"
      }
    },
    {
      "cell_type": "code",
      "source": [
        "x=base_model.output\n",
        "# add layers\n"
      ],
      "metadata": {
        "id": "WA2r43ZfV6b-"
      },
      "execution_count": 35,
      "outputs": []
    },
    {
      "cell_type": "markdown",
      "source": [
        "*   Specify the inputs\n",
        "*   Specify the outputs\n",
        "\n",
        "Now a model has been created based on our architecture 🏆"
      ],
      "metadata": {
        "id": "ICENQvZBmArH"
      }
    },
    {
      "cell_type": "code",
      "execution_count": 36,
      "metadata": {
        "id": "_-OuzkphClTy"
      },
      "outputs": [],
      "source": [
        "model=Model(inputs=base_model.input,   ) # add last layer"
      ]
    },
    {
      "cell_type": "markdown",
      "source": [
        "Layers & models also feature a boolean attribute `trainable`. Its value can be changed.\n",
        "Setting `layer.trainable` to `False` moves all the layer's weights from trainable to\n",
        "non-trainable.  This is called \"freezing\" the layer: the state of a frozen layer won't\n",
        "be updated during training (either when training with `fit()` or when training with\n",
        " any custom loop that relies on `trainable_weights` to apply gradient updates).<br> \n",
        " When a trainable weight becomes non-trainable, its value is no longer updated during\n",
        " training.\n",
        "\n",
        "**Example: setting `trainable` to `False`**<br><br>\n",
        "**Very Importent** : The setting of `trainable` are **Recursive** <br>\n",
        "If you set `trainable = False` on a model or on any layer that has sublayers,\n",
        "all children layers become non-trainable as well.\n"
      ],
      "metadata": {
        "id": "TUGUOq--msLT"
      }
    },
    {
      "cell_type": "code",
      "execution_count": 37,
      "metadata": {
        "id": "R2ucMP1yClTz"
      },
      "outputs": [],
      "source": [
        "# Choose which layers to freeze"
      ]
    },
    {
      "cell_type": "markdown",
      "source": [
        "## Data Preprocessing\n"
      ],
      "metadata": {
        "id": "7jue9K7Tn6co"
      }
    },
    {
      "cell_type": "markdown",
      "source": [
        "### Download the dataset"
      ],
      "metadata": {
        "id": "LKsTik2FX_Eg"
      }
    },
    {
      "cell_type": "code",
      "source": [
        "(x_train, y_train), (x_test, y_test) = tf.keras.datasets.cifar10.load_data()\n",
        "x_train.shape == (50000, 32, 32, 3)\n",
        "x_test.shape == (10000, 32, 32, 3)\n",
        "y_train.shape == (50000, 1)\n",
        "y_test.shape == (10000, 1)"
      ],
      "metadata": {
        "colab": {
          "base_uri": "https://localhost:8080/"
        },
        "id": "14nkLB1OX8Wq",
        "outputId": "b8709c4d-6043-48e8-f419-7e302cf1e9a6"
      },
      "execution_count": 38,
      "outputs": [
        {
          "output_type": "execute_result",
          "data": {
            "text/plain": [
              "True"
            ]
          },
          "metadata": {},
          "execution_count": 38
        }
      ]
    },
    {
      "cell_type": "markdown",
      "source": [
        "Selected idexes for two classes (aircraft = 0, ship = 8)"
      ],
      "metadata": {
        "id": "s_sRZ9PiYE_X"
      }
    },
    {
      "cell_type": "code",
      "source": [
        "index_train = np.where((y_train == 0) | (y_train == 8))\n",
        "index_test = np.where((y_test == 0) | (y_test == 8))"
      ],
      "metadata": {
        "id": "Gcu_u9WLYF9N"
      },
      "execution_count": 39,
      "outputs": []
    },
    {
      "cell_type": "markdown",
      "source": [
        "We will extract the two desired classes by their indexes\n",
        "\n"
      ],
      "metadata": {
        "id": "cFsk1WKMYPv6"
      }
    },
    {
      "cell_type": "code",
      "source": [
        "x_train = x_train[index_train[0],:]\n",
        "y_train = y_train[index_train[0]]\n",
        "x_test = x_test[index_test[0],:]\n",
        "y_test = y_test[index_test[0]]"
      ],
      "metadata": {
        "id": "a49UbhtBYQVM"
      },
      "execution_count": 40,
      "outputs": []
    },
    {
      "cell_type": "markdown",
      "source": [
        "Change all labels from 8 to 1 (aircraft = 0, ship = 1)"
      ],
      "metadata": {
        "id": "bc4pPkxLYWdd"
      }
    },
    {
      "cell_type": "code",
      "source": [
        "y_train[y_train == 8] = 1\n",
        "y_test[y_test == 8] = 1"
      ],
      "metadata": {
        "id": "dcMVlwSEYV8u"
      },
      "execution_count": 41,
      "outputs": []
    },
    {
      "cell_type": "markdown",
      "source": [
        "The current shape of the data set:\n",
        "\n"
      ],
      "metadata": {
        "id": "X-ZUM5QZYcYV"
      }
    },
    {
      "cell_type": "code",
      "source": [
        "print(f'x_train: {x_train.shape}\\ny_train: {y_train.shape}\\nx_test: {x_test.shape}\\ny_testn: {y_test.shape}')\n",
        "plt.imshow(x_train[0], cmap = plt.cm.binary)\n",
        "plt.axis(\"off\")\n",
        "plt.show()\n",
        "y_train[0][0]"
      ],
      "metadata": {
        "id": "MedNw4SnYdCa"
      },
      "execution_count": null,
      "outputs": []
    },
    {
      "cell_type": "markdown",
      "source": [
        "### Data Generator"
      ],
      "metadata": {
        "id": "TPM8AsIG69q1"
      }
    },
    {
      "cell_type": "markdown",
      "source": [
        "Because the original image size is (32,32,3) so we need to adjust the size to (224,224,3)"
      ],
      "metadata": {
        "id": "FFeRpeWI7Jx6"
      }
    },
    {
      "cell_type": "code",
      "source": [
        "def change_to_224X224(images):\n",
        "  return tf.image.resize(\n",
        "    images=images,\n",
        "    size=(224,224),\n",
        "    preserve_aspect_ratio=False,\n",
        "    antialias=False,\n",
        "    name=None\n",
        ")"
      ],
      "metadata": {
        "id": "K7FD-h223OsL"
      },
      "execution_count": 43,
      "outputs": []
    },
    {
      "cell_type": "code",
      "execution_count": 44,
      "metadata": {
        "id": "3bv1LRMSClT0",
        "pycharm": {
          "is_executing": true
        }
      },
      "outputs": [],
      "source": [
        "train_datagen=ImageDataGenerator(preprocessing_function=preprocess_input) \n",
        "\n",
        "train_generator=train_datagen.flow(x=change_to_224X224(x_train), y=y_train, batch_size =   ) # Choose batch size"
      ]
    },
    {
      "cell_type": "code",
      "source": [
        "test_datagen = ImageDataGenerator(preprocessing_function=preprocess_input) \n",
        "test_set = test_datagen.flow(x=change_to_224X224(x_test), y=y_test, batch_size =   ) # Choose batch size"
      ],
      "metadata": {
        "id": "T1sP6J9-ycWn"
      },
      "execution_count": 45,
      "outputs": []
    },
    {
      "cell_type": "markdown",
      "source": [
        "## Compiling the NN"
      ],
      "metadata": {
        "id": "7QRZcd8ft5x2"
      }
    },
    {
      "cell_type": "code",
      "source": [
        "model.compile(optimizer='Adam',loss='binary_crossentropy',metrics=['accuracy'])"
      ],
      "metadata": {
        "id": "Ufe_XsaJt7qr"
      },
      "execution_count": 46,
      "outputs": []
    },
    {
      "cell_type": "markdown",
      "source": [
        "## Training"
      ],
      "metadata": {
        "id": "IFw3lz5dognA"
      }
    },
    {
      "cell_type": "code",
      "execution_count": null,
      "metadata": {
        "id": "Tti3-t45ClT2",
        "pycharm": {
          "is_executing": true
        }
      },
      "outputs": [],
      "source": [
        "step_size_train=train_generator.n//train_generator.batch_size\n",
        "history = model.fit_generator(generator=train_generator, validation_data = test_set, steps_per_epoch=step_size_train, epochs=  ) # Choose epochs"
      ]
    },
    {
      "cell_type": "code",
      "source": [
        "model.summary()"
      ],
      "metadata": {
        "id": "W2nQpMzNFLgY",
        "pycharm": {
          "is_executing": true
        }
      },
      "execution_count": null,
      "outputs": []
    },
    {
      "cell_type": "markdown",
      "source": [
        "## Visualization of the Loss\n"
      ],
      "metadata": {
        "id": "6w2P7sRD0GaA"
      }
    },
    {
      "cell_type": "code",
      "source": [
        "from matplotlib import pyplot as plt\n",
        "plt.plot(history.history['loss'])\n",
        "plt.title('model loss')\n",
        "plt.ylabel('loss')\n",
        "plt.xlabel('epoch')\n",
        "plt.legend(['train', 'val'], loc='upper left')\n",
        "plt.show()"
      ],
      "metadata": {
        "id": "2rER-BD30GvX"
      },
      "execution_count": null,
      "outputs": []
    },
    {
      "cell_type": "code",
      "source": [
        "plt.plot(history.history['accuracy'])\n",
        "plt.title('model accuracy')\n",
        "plt.ylabel('accuracy')\n",
        "plt.xlabel('epoch')\n",
        "plt.legend(['train', 'val'], loc='upper left')\n",
        "plt.show()"
      ],
      "metadata": {
        "id": "MFeJ9JwZ0YgR"
      },
      "execution_count": null,
      "outputs": []
    },
    {
      "cell_type": "markdown",
      "source": [
        "## Train's loss and accuracy"
      ],
      "metadata": {
        "id": "SRoW197L0vm_"
      }
    },
    {
      "cell_type": "code",
      "source": [
        "for key, val in history.history.items(): \n",
        "  print(f'{key} : {round(val[-1], 2)}')"
      ],
      "metadata": {
        "id": "YxwEBLsK0wpE"
      },
      "execution_count": null,
      "outputs": []
    },
    {
      "cell_type": "markdown",
      "source": [
        "## Let's see how MobileNet works without our model"
      ],
      "metadata": {
        "id": "RkPHl9ycTeTZ"
      }
    },
    {
      "cell_type": "code",
      "source": [
        "mobile = keras.applications.mobilenet.MobileNet()"
      ],
      "metadata": {
        "id": "dJJkCoxqStpX"
      },
      "execution_count": 52,
      "outputs": []
    },
    {
      "cell_type": "code",
      "source": [
        "import cv2\n",
        "from keras.applications.mobilenet import preprocess_input\n",
        "from keras.applications import imagenet_utils\n",
        "def prepare_image():\n",
        "    img = cv2.resize(x_test[0], dsize=(224, 224), interpolation=cv2.INTER_CUBIC)\n",
        "    img_array = keras.utils.img_to_array(img)\n",
        "    img_array_expanded_dims = np.expand_dims(img_array, axis=0)\n",
        "    plt.imshow(img)\n",
        "    return preprocess_input(img_array_expanded_dims)"
      ],
      "metadata": {
        "id": "cO83W6UtREzU"
      },
      "execution_count": 53,
      "outputs": []
    },
    {
      "cell_type": "code",
      "source": [
        "preprocessed_image = prepare_image()\n",
        "predictions = mobile.predict(preprocessed_image)\n",
        "results = imagenet_utils.decode_predictions(predictions)\n",
        "results"
      ],
      "metadata": {
        "id": "OTEUJIoTPlZx"
      },
      "execution_count": null,
      "outputs": []
    }
  ],
  "metadata": {
    "kernelspec": {
      "display_name": "Python 3",
      "language": "python",
      "name": "python3"
    },
    "language_info": {
      "codemirror_mode": {
        "name": "ipython",
        "version": 3
      },
      "file_extension": ".py",
      "mimetype": "text/x-python",
      "name": "python",
      "nbconvert_exporter": "python",
      "pygments_lexer": "ipython3",
      "version": "3.5.4"
    },
    "colab": {
      "provenance": [],
      "machine_shape": "hm"
    },
    "accelerator": "GPU",
    "gpuClass": "standard"
  },
  "nbformat": 4,
  "nbformat_minor": 0
}